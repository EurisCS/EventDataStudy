{
 "cells": [
  {
   "cell_type": "code",
   "execution_count": 3,
   "id": "b974f9ec",
   "metadata": {},
   "outputs": [],
   "source": [
    "from pychartjs import BaseChart, ChartType, Color, Options"
   ]
  },
  {
   "cell_type": "code",
   "execution_count": 13,
   "id": "ff66416c",
   "metadata": {},
   "outputs": [],
   "source": [
    "class NewChart(BaseChart):\n",
    "\n",
    "    type = ChartType.Line\n",
    "\n",
    "    class labels:\n",
    "        Years = list(range(2017, 2023))\n",
    "\n",
    "    class data:\n",
    "        class Whales:\n",
    "            data = [80, 60, 100, 80, 90, 60]\n",
    "\n",
    "            _color = Color.JSLinearGradient('ctx', 0, 0, 1000, 0)\n",
    "            _color.addColorStop(0, Color.Green)\n",
    "            _color.addColorStop(1, Color.Purple)\n",
    "\n",
    "            borderColor = _color.returnGradient()\n",
    "            fill = False\n",
    "            pointBorderWidth = 10\n",
    "            pointRadius = 3\n",
    "\n",
    "        class Bears:\n",
    "            data = [60, 50, 80, 120, 140, 180]\n",
    "            borderColor = Color.JSLinearGradient('ctx', 0, 0, 1000, 0,\n",
    "                                                 (0, Color.Red), \n",
    "                                                 (1, Color.Magenta)\n",
    "                                                 ).returnGradient()\n",
    "            fill = False\n",
    "            pointBorderWidth = 10\n",
    "            pointRadius = 3\n",
    "\n",
    "        class Dolphins:\n",
    "            data = [150, 80, 60, 30, 50, 30]\n",
    "            borderColor = Color.JSLinearGradient('ctx', 0, 0, 1000, 0,\n",
    "                                                 (0, Color.Yellow), \n",
    "                                                 (1, Color.Orange)\n",
    "                                                 ).returnGradient()\n",
    "            fill = False\n",
    "            pointBorderWidth = 10\n",
    "            pointRadius = 3\n",
    "\n",
    "    class options:\n",
    "\n",
    "        title   = Options.Title(text=\"Wildlife Populations\", fontSize=18)\n",
    "\n",
    "        _lables = Options.Legend_Labels(fontColor=Color.Gray, fullWidth=True)\n",
    "        legend  = Options.Legend(position='Bottom', labels=_lables)\n",
    "\n",
    "        _yAxes = [Options.General(ticks=Options.General(beginAtZero=True, padding=15, max=200))]\n",
    "\n",
    "        scales = Options.General(yAxes=_yAxes)"
   ]
  },
  {
   "cell_type": "code",
   "execution_count": 15,
   "id": "3192bf4b",
   "metadata": {},
   "outputs": [],
   "source": [
    "def homepage(request):\n",
    "\n",
    "    new_chart = NewChart()\n",
    "    new_chart.data.label = \"My Favourite Numbers\"      # can change data after creation\n",
    "\n",
    "    ChartJSON = new_chart.get()\n",
    "\n",
    "    return render(request=request,\n",
    "                  template_name='main/home.html',\n",
    "                  context={\"chartJSON\": ChartJSON})"
   ]
  },
  {
   "cell_type": "code",
   "execution_count": 16,
   "id": "76ed917f",
   "metadata": {},
   "outputs": [
    {
     "ename": "NameError",
     "evalue": "name 'render' is not defined",
     "output_type": "error",
     "traceback": [
      "\u001b[0;31m---------------------------------------------------------------------------\u001b[0m",
      "\u001b[0;31mNameError\u001b[0m                                 Traceback (most recent call last)",
      "Input \u001b[0;32mIn [16]\u001b[0m, in \u001b[0;36m<cell line: 1>\u001b[0;34m()\u001b[0m\n\u001b[0;32m----> 1\u001b[0m \u001b[43mhomepage\u001b[49m\u001b[43m(\u001b[49m\u001b[38;5;124;43m'\u001b[39;49m\u001b[38;5;124;43m'\u001b[39;49m\u001b[43m)\u001b[49m\n",
      "Input \u001b[0;32mIn [15]\u001b[0m, in \u001b[0;36mhomepage\u001b[0;34m(request)\u001b[0m\n\u001b[1;32m      4\u001b[0m new_chart\u001b[38;5;241m.\u001b[39mdata\u001b[38;5;241m.\u001b[39mlabel \u001b[38;5;241m=\u001b[39m \u001b[38;5;124m\"\u001b[39m\u001b[38;5;124mMy Favourite Numbers\u001b[39m\u001b[38;5;124m\"\u001b[39m      \u001b[38;5;66;03m# can change data after creation\u001b[39;00m\n\u001b[1;32m      6\u001b[0m ChartJSON \u001b[38;5;241m=\u001b[39m new_chart\u001b[38;5;241m.\u001b[39mget()\n\u001b[0;32m----> 8\u001b[0m \u001b[38;5;28;01mreturn\u001b[39;00m \u001b[43mrender\u001b[49m(request\u001b[38;5;241m=\u001b[39mrequest,\n\u001b[1;32m      9\u001b[0m               template_name\u001b[38;5;241m=\u001b[39m\u001b[38;5;124m'\u001b[39m\u001b[38;5;124mmain/home.html\u001b[39m\u001b[38;5;124m'\u001b[39m,\n\u001b[1;32m     10\u001b[0m               context\u001b[38;5;241m=\u001b[39m{\u001b[38;5;124m\"\u001b[39m\u001b[38;5;124mchartJSON\u001b[39m\u001b[38;5;124m\"\u001b[39m: ChartJSON})\n",
      "\u001b[0;31mNameError\u001b[0m: name 'render' is not defined"
     ]
    }
   ],
   "source": [
    "homepage('')\n",
    "do"
   ]
  }
 ],
 "metadata": {
  "kernelspec": {
   "display_name": "Python 3 (ipykernel)",
   "language": "python",
   "name": "python3"
  },
  "language_info": {
   "codemirror_mode": {
    "name": "ipython",
    "version": 3
   },
   "file_extension": ".py",
   "mimetype": "text/x-python",
   "name": "python",
   "nbconvert_exporter": "python",
   "pygments_lexer": "ipython3",
   "version": "3.10.4"
  }
 },
 "nbformat": 4,
 "nbformat_minor": 5
}
