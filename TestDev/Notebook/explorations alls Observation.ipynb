{
 "cells": [
  {
   "cell_type": "code",
   "execution_count": 1,
   "id": "871f3a43",
   "metadata": {},
   "outputs": [],
   "source": [
    "from elasticsearch6 import Elasticsearch\n",
    "import pandas as pd"
   ]
  },
  {
   "cell_type": "code",
   "execution_count": 2,
   "id": "0ca545ed",
   "metadata": {},
   "outputs": [],
   "source": [
    "import pprint\n",
    "pp = pprint.PrettyPrinter(indent=2)"
   ]
  },
  {
   "cell_type": "code",
   "execution_count": 3,
   "id": "6235a028",
   "metadata": {},
   "outputs": [],
   "source": [
    "host='localhost'\n",
    "port = 9200\n",
    "index =  \"events-20220502\""
   ]
  },
  {
   "cell_type": "code",
   "execution_count": 4,
   "id": "c5900d39",
   "metadata": {},
   "outputs": [],
   "source": [
    "client = Elasticsearch(f'{host}:{port}')"
   ]
  },
  {
   "cell_type": "code",
   "execution_count": 5,
   "id": "24a62b4d",
   "metadata": {},
   "outputs": [],
   "source": [
    "def query(perimeter, hostname='VM1', size=10000):\n",
    "    return {\n",
    "        \"query\": {\n",
    "        \"bool\": {\n",
    "          \"must\": [\n",
    "            {\n",
    "              \"match\": {\n",
    "                \"category\": perimeter\n",
    "              }\n",
    "            },\n",
    "            {\n",
    "              \"match\": {\n",
    "                \"hostname\": hostname\n",
    "              }\n",
    "            }\n",
    "          ],\n",
    "          \"must_not\": [],\n",
    "          \"should\": []\n",
    "        }\n",
    "        },\n",
    "        \"from\": 0,\n",
    "        \"size\": size,\n",
    "        \"sort\": [],\n",
    "        \"aggs\": {}\n",
    "        }\n"
   ]
  },
  {
   "cell_type": "code",
   "execution_count": 6,
   "id": "491f7552",
   "metadata": {},
   "outputs": [],
   "source": [
    "size = 10000\n",
    "list_raw_data = []\n",
    "list_raw_data.append(client.search(index=index, body=query('availability', size=size)))\n",
    "list_raw_data.append(client.search(index=index, body=query('traceability', size=size)))\n",
    "list_raw_data.append(client.search(index=index, body=query('integrity', size=size)))\n",
    "list_raw_data.append(client.search(index=index, body=query('confidentiality', size=size)))"
   ]
  },
  {
   "cell_type": "code",
   "execution_count": 7,
   "id": "b866de6b",
   "metadata": {},
   "outputs": [
    {
     "data": {
      "text/plain": [
       "{'event': {'dataset': 'login',\n",
       "  'category': ['authentication'],\n",
       "  'type': ['start', 'authentication_failure'],\n",
       "  'origin': '/host/var/log/btmp',\n",
       "  'outcome': 'failure',\n",
       "  'kind': 'event',\n",
       "  'module': 'system',\n",
       "  'action': 'user_login'},\n",
       " 'service': {'type': 'system'},\n",
       " 'ecs': {'version': '1.5.0'},\n",
       " 'agent': {'version': '7.8.1',\n",
       "  'type': 'auditbeat',\n",
       "  'hostname': 'VM1',\n",
       "  'ephemeral_id': 'a0d3acbd-22de-4ca3-960d-293f8b384e38',\n",
       "  'id': '86dba4c3-a315-42df-b4d3-67e14c81f3d0',\n",
       "  'name': 'VM1'},\n",
       " 'related': {'user': ['root'], 'ip': ['0.0.0.0']},\n",
       " 'message': 'Failed login by user root (UID: 0) on  (PID: 420576) from  (IP: 0.0.0.0)',\n",
       " 'user': {'id': 0, 'name': 'root'},\n",
       " 'process': {'pid': 420576},\n",
       " 'endpoint': 'logstash',\n",
       " 'customendpoint': True}"
      ]
     },
     "execution_count": 7,
     "metadata": {},
     "output_type": "execute_result"
    }
   ],
   "source": [
    "list_raw_data[3]['hits']['hits'][0]['_source']['details']"
   ]
  },
  {
   "cell_type": "code",
   "execution_count": 8,
   "id": "1f5466d1",
   "metadata": {},
   "outputs": [
    {
     "name": "stdout",
     "output_type": "stream",
     "text": [
      "\n",
      "\n",
      "{'file', 'system.cpu', 'system.fsstat', 'beat.stats', 'mongodb.status', 'uptime', 'login', 'system.memory', 'system.network'}\n",
      "\n",
      "\n",
      "{'heartbeat', 'auditbeat', 'metricbeat'}\n",
      "\n",
      "\n",
      "{('system.memory', 'metricbeat'), ('system.cpu', 'metricbeat'), ('mongodb.status', 'metricbeat'), ('system.network', 'metricbeat'), ('file', 'auditbeat'), ('beat.stats', 'metricbeat'), ('system.fsstat', 'metricbeat'), ('login', 'auditbeat'), ('uptime', 'heartbeat')}\n"
     ]
    }
   ],
   "source": [
    "list_obs,list_package, list_tuple = [],[], []\n",
    "for raw_data in list_raw_data:\n",
    "    for results in raw_data['hits']['hits']:\n",
    "        list_tuple.append((results['_source']['details']['event']['dataset'],results['_source']['details']['agent']['type']))\n",
    "        list_obs.append(results['_source']['details']['event']['dataset'])\n",
    "        list_package.append(results['_source']['details']['agent']['type'] )\n",
    "        \"\"\"\n",
    "        if test ==  'uptime':\n",
    "            print(i)\n",
    "            pp.pprint(raw_data['hits']['hits'][i]['_source']['details'])\n",
    "            break\n",
    "        \"\"\"\n"
   ]
  },
  {
   "cell_type": "code",
   "execution_count": 18,
   "id": "8d555b6f",
   "metadata": {},
   "outputs": [
    {
     "name": "stdout",
     "output_type": "stream",
     "text": [
      "['heartbeat', 'auditbeat', 'metricbeat']\n",
      "\n",
      "\n",
      "[ 'file',\n",
      "  'system.cpu',\n",
      "  'system.fsstat',\n",
      "  'beat.stats',\n",
      "  'mongodb.status',\n",
      "  'uptime',\n",
      "  'login',\n",
      "  'system.memory',\n",
      "  'system.network']\n",
      "\n",
      "\n"
     ]
    },
    {
     "data": {
      "text/plain": [
       "[('system.memory', 'metricbeat'),\n",
       " ('system.cpu', 'metricbeat'),\n",
       " ('mongodb.status', 'metricbeat'),\n",
       " ('system.network', 'metricbeat'),\n",
       " ('file', 'auditbeat'),\n",
       " ('beat.stats', 'metricbeat'),\n",
       " ('system.fsstat', 'metricbeat'),\n",
       " ('login', 'auditbeat'),\n",
       " ('uptime', 'heartbeat')]"
      ]
     },
     "execution_count": 18,
     "metadata": {},
     "output_type": "execute_result"
    }
   ],
   "source": [
    "\n",
    "lp = list(set(list_package))\n",
    "pp.pprint(lp)\n",
    "print('\\n')\n",
    "\n",
    "lo = list(set(list_obs))\n",
    "pp.pprint(lo)\n",
    "print('\\n')\n",
    "\n",
    "\n",
    "\n",
    "lt = list(set(list_tuple))\n",
    "lt"
   ]
  },
  {
   "cell_type": "code",
   "execution_count": 25,
   "id": "c919c19e",
   "metadata": {},
   "outputs": [
    {
     "name": "stdout",
     "output_type": "stream",
     "text": [
      "{ 'agent': { 'ephemeral_id': 'a155fa20-d061-40e7-9cbb-80df4c50cb40',\n",
      "             'hostname': 'test-conformite.netplus.priv',\n",
      "             'id': '016bd43b-ef2a-47c2-8e55-e991357aec94',\n",
      "             'name': 'test-conformite.netplus.priv',\n",
      "             'type': 'heartbeat',\n",
      "             'version': '7.9.3'},\n",
      "  'customendpoint': True,\n",
      "  'ecs': {'version': '1.5.0'},\n",
      "  'endpoint': 'logstash',\n",
      "  'event': {'dataset': 'uptime'},\n",
      "  'hostname': 'test-conformite.netplus.priv',\n",
      "  'icmp': {'requests': 1, 'rtt': {'us': 885}},\n",
      "  'monitor': { 'check_group': '2c72c535-ec2e-11ec-91b0-005056a5b664',\n",
      "               'duration': {'us': 1085},\n",
      "               'id': 'dead-host-monitor-f5869335bca2e2ed',\n",
      "               'ip': '192.168.122.3',\n",
      "               'name': 'dead-host-monitor',\n",
      "               'status': 'up',\n",
      "               'timespan': { 'gte': '2022-06-14T22:06:10.000Z',\n",
      "                             'lt': '2022-06-14T22:06:26.000Z'},\n",
      "               'type': 'icmp'},\n",
      "  'summary': {'down': 0, 'up': 1},\n",
      "  'url': { 'domain': '192.168.122.3',\n",
      "           'full': 'icmp://192.168.122.3',\n",
      "           'scheme': 'icmp'}}\n"
     ]
    }
   ],
   "source": [
    "for raw_data in list_raw_data:\n",
    "    for results in raw_data['hits']['hits']:\n",
    "         if results['_source']['details']['event']['dataset'] == 'uptime': # 'beat.stats': # 'file':\n",
    "            pp.pprint(results['_source']['details'])\n",
    "            break"
   ]
  },
  {
   "cell_type": "code",
   "execution_count": null,
   "id": "37c77a9c",
   "metadata": {},
   "outputs": [],
   "source": [
    "for i in range(10000):\n",
    "    try:\n",
    "        pp.pprint(raw_data['hits']['hits'][i]['_source']['details']['mongodb']['status'])\n",
    "        break\n",
    "    except KeyError:\n",
    "        pass"
   ]
  },
  {
   "cell_type": "code",
   "execution_count": null,
   "id": "0ac86f11",
   "metadata": {},
   "outputs": [],
   "source": [
    "for i in range(10000):\n",
    "    try:\n",
    "        pp.pprint(raw_data['hits']['hits'][i]['_source']['details']['uptime'])\n",
    "        break\n",
    "    except KeyError:\n",
    "        pass"
   ]
  }
 ],
 "metadata": {
  "kernelspec": {
   "display_name": "Python 3 (ipykernel)",
   "language": "python",
   "name": "python3"
  },
  "language_info": {
   "codemirror_mode": {
    "name": "ipython",
    "version": 3
   },
   "file_extension": ".py",
   "mimetype": "text/x-python",
   "name": "python",
   "nbconvert_exporter": "python",
   "pygments_lexer": "ipython3",
   "version": "3.10.4"
  }
 },
 "nbformat": 4,
 "nbformat_minor": 5
}
