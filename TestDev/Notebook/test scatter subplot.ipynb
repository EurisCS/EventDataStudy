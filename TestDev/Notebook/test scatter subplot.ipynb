{
 "cells": [
  {
   "cell_type": "code",
   "execution_count": 1,
   "id": "2ba9e635",
   "metadata": {},
   "outputs": [],
   "source": [
    "import pandas as pd \n",
    "import plotly.express as px\n",
    "import plotly.graph_objects as go\n",
    "import plotly.figure_factory as ff\n",
    "from plotly.subplots import make_subplots\n",
    "from plotly.offline import plot, init_notebook_mode\n",
    "from sklearn.preprocessing import LabelEncoder\n",
    "import numpy as np\n",
    "from hdbscan import HDBSCAN"
   ]
  },
  {
   "cell_type": "code",
   "execution_count": 2,
   "id": "cfaaf8c2",
   "metadata": {},
   "outputs": [],
   "source": [
    "data_1D = pd.read_csv('/home/eguimard/PycharmProjects/DataStudy/DataStorage/Results/DataAnalyse/CPUWarningCriticalVM2/cpu/data/reduced_1D_data.csv')"
   ]
  },
  {
   "cell_type": "code",
   "execution_count": 3,
   "id": "927f9756",
   "metadata": {},
   "outputs": [
    {
     "data": {
      "text/plain": [
       "0      34.737118\n",
       "1      35.666020\n",
       "2      13.312069\n",
       "3      15.760091\n",
       "4      16.723112\n",
       "         ...    \n",
       "115    35.690693\n",
       "116    15.074228\n",
       "117    35.221570\n",
       "118    14.708056\n",
       "119    34.983950\n",
       "Name: 0, Length: 120, dtype: float64"
      ]
     },
     "execution_count": 3,
     "metadata": {},
     "output_type": "execute_result"
    }
   ],
   "source": [
    "data_1D['0']"
   ]
  },
  {
   "cell_type": "code",
   "execution_count": 4,
   "id": "d1f9492e",
   "metadata": {},
   "outputs": [],
   "source": [
    "data_2D = pd.read_csv('/home/eguimard/PycharmProjects/DataStudy/DataStorage/Results/DataAnalyse/CPUWarningCriticalVM2/cpu/data/reduced_2D_data.csv')"
   ]
  },
  {
   "cell_type": "code",
   "execution_count": 5,
   "id": "af5322c0",
   "metadata": {},
   "outputs": [
    {
     "data": {
      "text/html": [
       "<div>\n",
       "<style scoped>\n",
       "    .dataframe tbody tr th:only-of-type {\n",
       "        vertical-align: middle;\n",
       "    }\n",
       "\n",
       "    .dataframe tbody tr th {\n",
       "        vertical-align: top;\n",
       "    }\n",
       "\n",
       "    .dataframe thead th {\n",
       "        text-align: right;\n",
       "    }\n",
       "</style>\n",
       "<table border=\"1\" class=\"dataframe\">\n",
       "  <thead>\n",
       "    <tr style=\"text-align: right;\">\n",
       "      <th></th>\n",
       "      <th>0</th>\n",
       "      <th>1</th>\n",
       "    </tr>\n",
       "  </thead>\n",
       "  <tbody>\n",
       "    <tr>\n",
       "      <th>0</th>\n",
       "      <td>26.473200</td>\n",
       "      <td>11.040215</td>\n",
       "    </tr>\n",
       "    <tr>\n",
       "      <th>1</th>\n",
       "      <td>26.563128</td>\n",
       "      <td>10.795956</td>\n",
       "    </tr>\n",
       "    <tr>\n",
       "      <th>2</th>\n",
       "      <td>15.145804</td>\n",
       "      <td>5.717798</td>\n",
       "    </tr>\n",
       "    <tr>\n",
       "      <th>3</th>\n",
       "      <td>14.871727</td>\n",
       "      <td>7.014143</td>\n",
       "    </tr>\n",
       "    <tr>\n",
       "      <th>4</th>\n",
       "      <td>14.204561</td>\n",
       "      <td>7.300304</td>\n",
       "    </tr>\n",
       "    <tr>\n",
       "      <th>...</th>\n",
       "      <td>...</td>\n",
       "      <td>...</td>\n",
       "    </tr>\n",
       "    <tr>\n",
       "      <th>115</th>\n",
       "      <td>27.016798</td>\n",
       "      <td>10.913266</td>\n",
       "    </tr>\n",
       "    <tr>\n",
       "      <th>116</th>\n",
       "      <td>15.795841</td>\n",
       "      <td>7.202504</td>\n",
       "    </tr>\n",
       "    <tr>\n",
       "      <th>117</th>\n",
       "      <td>27.149965</td>\n",
       "      <td>10.789955</td>\n",
       "    </tr>\n",
       "    <tr>\n",
       "      <th>118</th>\n",
       "      <td>15.279580</td>\n",
       "      <td>6.447621</td>\n",
       "    </tr>\n",
       "    <tr>\n",
       "      <th>119</th>\n",
       "      <td>26.607504</td>\n",
       "      <td>11.030767</td>\n",
       "    </tr>\n",
       "  </tbody>\n",
       "</table>\n",
       "<p>120 rows × 2 columns</p>\n",
       "</div>"
      ],
      "text/plain": [
       "             0          1\n",
       "0    26.473200  11.040215\n",
       "1    26.563128  10.795956\n",
       "2    15.145804   5.717798\n",
       "3    14.871727   7.014143\n",
       "4    14.204561   7.300304\n",
       "..         ...        ...\n",
       "115  27.016798  10.913266\n",
       "116  15.795841   7.202504\n",
       "117  27.149965  10.789955\n",
       "118  15.279580   6.447621\n",
       "119  26.607504  11.030767\n",
       "\n",
       "[120 rows x 2 columns]"
      ]
     },
     "execution_count": 5,
     "metadata": {},
     "output_type": "execute_result"
    }
   ],
   "source": [
    "data_2D"
   ]
  },
  {
   "cell_type": "code",
   "execution_count": 6,
   "id": "691b59e3",
   "metadata": {},
   "outputs": [],
   "source": [
    "df_info = pd.read_csv('/home/eguimard/PycharmProjects/DataStudy/DataStorage/Results/DataAnalyse/CPUWarningCriticalVM2/cpu/data/saved_data.csv')"
   ]
  },
  {
   "cell_type": "code",
   "execution_count": 7,
   "id": "c818cb98",
   "metadata": {},
   "outputs": [
    {
     "data": {
      "text/html": [
       "<div>\n",
       "<style scoped>\n",
       "    .dataframe tbody tr th:only-of-type {\n",
       "        vertical-align: middle;\n",
       "    }\n",
       "\n",
       "    .dataframe tbody tr th {\n",
       "        vertical-align: top;\n",
       "    }\n",
       "\n",
       "    .dataframe thead th {\n",
       "        text-align: right;\n",
       "    }\n",
       "</style>\n",
       "<table border=\"1\" class=\"dataframe\">\n",
       "  <thead>\n",
       "    <tr style=\"text-align: right;\">\n",
       "      <th></th>\n",
       "      <th>utctimestamp</th>\n",
       "      <th>severity</th>\n",
       "    </tr>\n",
       "  </thead>\n",
       "  <tbody>\n",
       "    <tr>\n",
       "      <th>0</th>\n",
       "      <td>2022-06-16 12:20:10.993737+00:00</td>\n",
       "      <td>INFO</td>\n",
       "    </tr>\n",
       "    <tr>\n",
       "      <th>1</th>\n",
       "      <td>2022-06-16 12:20:25.990961+00:00</td>\n",
       "      <td>INFO</td>\n",
       "    </tr>\n",
       "    <tr>\n",
       "      <th>2</th>\n",
       "      <td>2022-06-16 12:20:41.021435+00:00</td>\n",
       "      <td>INFO</td>\n",
       "    </tr>\n",
       "    <tr>\n",
       "      <th>3</th>\n",
       "      <td>2022-06-16 12:20:55.988691+00:00</td>\n",
       "      <td>INFO</td>\n",
       "    </tr>\n",
       "    <tr>\n",
       "      <th>4</th>\n",
       "      <td>2022-06-16 12:21:10.992139+00:00</td>\n",
       "      <td>INFO</td>\n",
       "    </tr>\n",
       "    <tr>\n",
       "      <th>...</th>\n",
       "      <td>...</td>\n",
       "      <td>...</td>\n",
       "    </tr>\n",
       "    <tr>\n",
       "      <th>115</th>\n",
       "      <td>2022-06-16 12:48:55.942189+00:00</td>\n",
       "      <td>INFO</td>\n",
       "    </tr>\n",
       "    <tr>\n",
       "      <th>116</th>\n",
       "      <td>2022-06-16 12:49:10.936065+00:00</td>\n",
       "      <td>INFO</td>\n",
       "    </tr>\n",
       "    <tr>\n",
       "      <th>117</th>\n",
       "      <td>2022-06-16 12:49:25.928817+00:00</td>\n",
       "      <td>INFO</td>\n",
       "    </tr>\n",
       "    <tr>\n",
       "      <th>118</th>\n",
       "      <td>2022-06-16 12:49:40.925928+00:00</td>\n",
       "      <td>INFO</td>\n",
       "    </tr>\n",
       "    <tr>\n",
       "      <th>119</th>\n",
       "      <td>2022-06-16 12:49:55.923475+00:00</td>\n",
       "      <td>INFO</td>\n",
       "    </tr>\n",
       "  </tbody>\n",
       "</table>\n",
       "<p>120 rows × 2 columns</p>\n",
       "</div>"
      ],
      "text/plain": [
       "                         utctimestamp severity\n",
       "0    2022-06-16 12:20:10.993737+00:00     INFO\n",
       "1    2022-06-16 12:20:25.990961+00:00     INFO\n",
       "2    2022-06-16 12:20:41.021435+00:00     INFO\n",
       "3    2022-06-16 12:20:55.988691+00:00     INFO\n",
       "4    2022-06-16 12:21:10.992139+00:00     INFO\n",
       "..                                ...      ...\n",
       "115  2022-06-16 12:48:55.942189+00:00     INFO\n",
       "116  2022-06-16 12:49:10.936065+00:00     INFO\n",
       "117  2022-06-16 12:49:25.928817+00:00     INFO\n",
       "118  2022-06-16 12:49:40.925928+00:00     INFO\n",
       "119  2022-06-16 12:49:55.923475+00:00     INFO\n",
       "\n",
       "[120 rows x 2 columns]"
      ]
     },
     "execution_count": 7,
     "metadata": {},
     "output_type": "execute_result"
    }
   ],
   "source": [
    "df_info"
   ]
  },
  {
   "cell_type": "code",
   "execution_count": 8,
   "id": "4b4b6bbc",
   "metadata": {},
   "outputs": [],
   "source": [
    "timestamp_series = df_info['utctimestamp']\n",
    "series_color = df_info['severity']"
   ]
  },
  {
   "cell_type": "code",
   "execution_count": 9,
   "id": "1cb89c61",
   "metadata": {},
   "outputs": [],
   "source": [
    "series_color = pd.Series(HDBSCAN().fit_predict(data_2D))\n",
    "series_color[0] = -1"
   ]
  },
  {
   "cell_type": "code",
   "execution_count": 32,
   "id": "26619a72",
   "metadata": {},
   "outputs": [],
   "source": [
    "class Subplot:\n",
    "    \n",
    "\n",
    "    def __init__(self,list_discrete_color = None):\n",
    "\n",
    "        if list_discrete_color is None:\n",
    "            self.list_discrete_color = ['green', 'orange', 'red', 'blue', 'yellow', 'black', 'brown','pink','violet']\n",
    "        else:\n",
    "            self.list_discrete_color = list_discrete_color\n",
    "    \n",
    "    def add_scatter_2D_to_figure(self, figure, row, col,\n",
    "                          series_x, series_y, color=None, name_and_group=None, mode='lines+markers',show_legend=True ):\n",
    "\n",
    "        return figure.add_scatter(x=series_x, y=series_y, mode=mode, marker_size=10,\n",
    "                              name=name_and_group, legendgroup=name_and_group,\n",
    "                              showlegend=show_legend,col=col, row=row, marker_color=color)\n",
    "\n",
    "\n",
    "\n",
    "    def create_scatter_plot_2D(self,  series_x, series_y, series_color=None, name_scatter='',  mode='lines+markers',\n",
    "                               show_legend=True, figure=None, row=None, col=None):\n",
    "\n",
    "        if None in [figure, row, col]:\n",
    "            row, col = 1, 1\n",
    "            figure = make_subplots(row, col,  subplot_titles=('reduced 1D data with time in x-axis',\n",
    "                                                               'reduced 2D data'))\n",
    "\n",
    "        if series_color is None:\n",
    "            figure.add_scatter(x=series_x, y=series_y, mode=mode, line_color=self.list_discrete_color[3],\n",
    "                               name=name_scatter, col=col, row=row, showlegend=show_legend)\n",
    "        else:\n",
    "\n",
    "            if mode != 'markers':\n",
    "                figure.add_scatter(x=series_x, y=series_y, mode='lines', line_color='grey',\n",
    "                                   name='state change', col=col, row=row)\n",
    "\n",
    "            list_labels = list(dict(series_color.value_counts()).keys())\n",
    "\n",
    "            for index in range(len(list_labels)):\n",
    "                figure = self.add_scatter_2D_to_figure(figure, row, col,\n",
    "                                                       series_x.where(series_color == list_labels[index]),\n",
    "                                                       series_y.where(series_color == list_labels[index]),\n",
    "\n",
    "                                                       color=self.list_discrete_color[index],\n",
    "                                                       name_and_group=list_labels[index],\n",
    "                                                       mode=mode,\n",
    "                                                       show_legend=show_legend)\n",
    "            \n",
    "        #figure.update_layout(title=name_scatter)\n",
    "        \n",
    "        return figure"
   ]
  },
  {
   "cell_type": "code",
   "execution_count": 37,
   "id": "d2fc016a",
   "metadata": {},
   "outputs": [],
   "source": [
    "sub_fig = make_subplots(1,2, horizontal_spacing=0.1,subplot_titles=('reduced 1D data with time in x-axis',\n",
    "                                                               'reduced 2D data'))\n",
    "\n",
    "sub_fig = Subplot().create_scatter_plot_2D(timestamp_series, data_1D['0'], series_color,'','lines+markers',True,sub_fig,1,2)\n",
    "sub_fig = Subplot().create_scatter_plot_2D( data_2D['0'], data_2D['1'], series_color, '', 'markers',False,sub_fig,1,1)\n",
    "\n",
    "\n",
    "\n",
    "##\n"
   ]
  },
  {
   "cell_type": "code",
   "execution_count": 38,
   "id": "43397ba3",
   "metadata": {},
   "outputs": [
    {
     "data": {
      "text/plain": [
       "'test.html'"
      ]
     },
     "execution_count": 38,
     "metadata": {},
     "output_type": "execute_result"
    }
   ],
   "source": [
    "plot(sub_fig, filename='test.html', auto_open=True)"
   ]
  },
  {
   "cell_type": "code",
   "execution_count": null,
   "id": "ddf07d5e",
   "metadata": {},
   "outputs": [],
   "source": []
  },
  {
   "cell_type": "code",
   "execution_count": null,
   "id": "c0d06055",
   "metadata": {},
   "outputs": [],
   "source": []
  },
  {
   "cell_type": "code",
   "execution_count": null,
   "id": "0d2cb8c4",
   "metadata": {},
   "outputs": [],
   "source": []
  },
  {
   "cell_type": "code",
   "execution_count": null,
   "id": "00d6ee62",
   "metadata": {},
   "outputs": [],
   "source": []
  },
  {
   "cell_type": "code",
   "execution_count": null,
   "id": "7db85efa",
   "metadata": {},
   "outputs": [],
   "source": []
  },
  {
   "cell_type": "code",
   "execution_count": null,
   "id": "f2a9527e",
   "metadata": {},
   "outputs": [],
   "source": []
  },
  {
   "cell_type": "code",
   "execution_count": null,
   "id": "04354687",
   "metadata": {},
   "outputs": [],
   "source": []
  },
  {
   "cell_type": "code",
   "execution_count": null,
   "id": "056832d7",
   "metadata": {},
   "outputs": [],
   "source": []
  },
  {
   "cell_type": "code",
   "execution_count": null,
   "id": "e9691230",
   "metadata": {},
   "outputs": [],
   "source": []
  },
  {
   "cell_type": "code",
   "execution_count": null,
   "id": "91b168d0",
   "metadata": {},
   "outputs": [],
   "source": []
  },
  {
   "cell_type": "code",
   "execution_count": null,
   "id": "4bb33ef6",
   "metadata": {},
   "outputs": [],
   "source": []
  }
 ],
 "metadata": {
  "kernelspec": {
   "display_name": "Python 3 (ipykernel)",
   "language": "python",
   "name": "python3"
  },
  "language_info": {
   "codemirror_mode": {
    "name": "ipython",
    "version": 3
   },
   "file_extension": ".py",
   "mimetype": "text/x-python",
   "name": "python",
   "nbconvert_exporter": "python",
   "pygments_lexer": "ipython3",
   "version": "3.10.4"
  }
 },
 "nbformat": 4,
 "nbformat_minor": 5
}
