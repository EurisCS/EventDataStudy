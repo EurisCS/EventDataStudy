{
 "cells": [
  {
   "cell_type": "code",
   "execution_count": 1,
   "id": "11114d08",
   "metadata": {},
   "outputs": [],
   "source": [
    "# rl learning "
   ]
  },
  {
   "cell_type": "code",
   "execution_count": 2,
   "id": "1f9f2f90",
   "metadata": {},
   "outputs": [],
   "source": [
    "#!pip install tensorflow\n",
    "#!pip install gym\n",
    "#!pip install keras\n",
    "#!pip install keras-rl2"
   ]
  },
  {
   "cell_type": "code",
   "execution_count": 3,
   "id": "ad07931f",
   "metadata": {},
   "outputs": [],
   "source": [
    "from gym import Env\n",
    "from gym.spaces import Discrete, Box\n",
    "import numpy as np\n",
    "import random"
   ]
  },
  {
   "cell_type": "code",
   "execution_count": 4,
   "id": "b6af970c",
   "metadata": {},
   "outputs": [],
   "source": [
    "class ShowerEnv(Env):\n",
    "    \n",
    "    \n",
    "    def __init__(self):\n",
    "        \n",
    "        # Actions we can take, down, stay, up\n",
    "        self.action_space = Discrete(3)\n",
    "        \n",
    "        # Temperature array\n",
    "        self.observation_space = Box(low=np.array([0]), high=np.array([100]),dtype=float)\n",
    "        \n",
    "        # Set start temp\n",
    "        self.state = 38 + random.randint(-3,3)  # = +-3\n",
    "        \n",
    "        # Set shower length\n",
    "        self.shower_length = 60\n",
    "        \n",
    "        \n",
    "        \n",
    "    def step(self, action):\n",
    "        \n",
    "        # Apply action\n",
    "        # 0 -1 = -1 temperature\n",
    "        # 1 -1 = 0 \n",
    "        # 2 -1 = 1 temperature \n",
    "        self.state += action -1 \n",
    "        \n",
    "        # Reduce shower length by 1 second\n",
    "        self.shower_length -= 1 \n",
    "        \n",
    "        # Calculate reward\n",
    "        if self.state >=37 and self.state <=39: \n",
    "            reward =1 \n",
    "        else: \n",
    "            reward = -1 \n",
    "        \n",
    "        # Check if shower is done\n",
    "        if self.shower_length <= 0: \n",
    "            done = True\n",
    "        else:\n",
    "            done = False\n",
    "        \n",
    "        # Apply temperature noise\n",
    "        #self.state += random.randint(-1,1)\n",
    "        # Set placeholder for info\n",
    "        info = {}\n",
    "        \n",
    "        # Return step information\n",
    "        return self.state, reward, done, info\n",
    "    \n",
    "    \n",
    "    '''\n",
    "    def render(self):\n",
    "        # Implement viz\n",
    "        pass\n",
    "    '''\n",
    "    def reset(self):\n",
    "        \n",
    "        # Reset shower temperature\n",
    "        self.state = 38 + random.randint(-3,3) \n",
    "        \n",
    "        # Reset shower time\n",
    "        self.shower_length = 60 \n",
    "        \n",
    "        return self.state\n",
    "    \n",
    "    \n",
    "    def get_environment_info(self):\n",
    "        \n",
    "        print(\"\\nStates : \")\n",
    "        print(f'object : {self.observation_space}')\n",
    "        print(f'shape : {self.observation_space.shape}')\n",
    "        print(f'sample : {self.observation_space.sample()}')\n",
    "        \n",
    "        print(\"\\nAction : \")\n",
    "        print(f'object : {self.action_space}')\n",
    "        print(f'shape : {self.action_space.shape}')\n",
    "        print(f'n : {self.action_space.n}')\n",
    "        print(f'sample : {self.action_space.sample()}')"
   ]
  },
  {
   "cell_type": "code",
   "execution_count": 5,
   "id": "99d9737b",
   "metadata": {},
   "outputs": [
    {
     "name": "stderr",
     "output_type": "stream",
     "text": [
      "/home/eguimard/.local/lib/python3.10/site-packages/gym/spaces/box.py:127: UserWarning: \u001b[33mWARN: Box bound precision lowered by casting to float64\u001b[0m\n",
      "  logger.warn(f\"Box bound precision lowered by casting to {self.dtype}\")\n"
     ]
    }
   ],
   "source": [
    "env = ShowerEnv()"
   ]
  },
  {
   "cell_type": "code",
   "execution_count": 6,
   "id": "47497ce9",
   "metadata": {},
   "outputs": [
    {
     "data": {
      "text/plain": [
       "array([23.58417942])"
      ]
     },
     "execution_count": 6,
     "metadata": {},
     "output_type": "execute_result"
    }
   ],
   "source": [
    "env.observation_space.sample()"
   ]
  },
  {
   "cell_type": "code",
   "execution_count": null,
   "id": "777f2a98",
   "metadata": {},
   "outputs": [],
   "source": []
  },
  {
   "cell_type": "code",
   "execution_count": 7,
   "id": "5c320752",
   "metadata": {},
   "outputs": [
    {
     "name": "stdout",
     "output_type": "stream",
     "text": [
      "Episode:1 Score:-28\n",
      "Episode:2 Score:-24\n",
      "Episode:3 Score:-18\n",
      "Episode:4 Score:-60\n",
      "Episode:5 Score:-38\n",
      "Episode:6 Score:-40\n",
      "Episode:7 Score:-26\n",
      "Episode:8 Score:-24\n",
      "Episode:9 Score:-22\n",
      "Episode:10 Score:-60\n"
     ]
    }
   ],
   "source": [
    "episodes = 10\n",
    "for episode in range(1, episodes+1):\n",
    "    state = env.reset()\n",
    "    done = False\n",
    "    score = 0 \n",
    "    \n",
    "    while not done:\n",
    "        #env.render()\n",
    "        action = env.action_space.sample()\n",
    "        n_state, reward, done, info = env.step(action)\n",
    "        score+=reward\n",
    "    print('Episode:{} Score:{}'.format(episode, score))"
   ]
  },
  {
   "cell_type": "markdown",
   "id": "ac549191",
   "metadata": {},
   "source": [
    "# CREATE DEEP LEARNING MODEL"
   ]
  },
  {
   "cell_type": "code",
   "execution_count": 20,
   "id": "8ab367a4",
   "metadata": {},
   "outputs": [],
   "source": [
    "import numpy as np\n",
    "\n",
    "from tensorflow.keras.models import Sequential\n",
    "from tensorflow.keras.layers import Dense, Flatten\n",
    "from tensorflow.keras.optimizers import Adam"
   ]
  },
  {
   "cell_type": "code",
   "execution_count": 21,
   "id": "99791c66",
   "metadata": {},
   "outputs": [
    {
     "name": "stdout",
     "output_type": "stream",
     "text": [
      "\n",
      "States : \n",
      "object : Box(0.0, 100.0, (1,), float64)\n",
      "shape : (1,)\n",
      "sample : [82.29880877]\n",
      "\n",
      "Action : \n",
      "object : Discrete(3)\n",
      "shape : ()\n",
      "n : 3\n",
      "sample : 2\n",
      "None\n"
     ]
    }
   ],
   "source": [
    "\n",
    "print(env.get_environment_info())\n"
   ]
  },
  {
   "cell_type": "code",
   "execution_count": 22,
   "id": "147c1106",
   "metadata": {},
   "outputs": [],
   "source": [
    "states = env.observation_space.shape\n",
    "actions = env.action_space.n"
   ]
  },
  {
   "cell_type": "code",
   "execution_count": 24,
   "id": "052b4b42",
   "metadata": {},
   "outputs": [
    {
     "data": {
      "text/plain": [
       "(1,)"
      ]
     },
     "execution_count": 24,
     "metadata": {},
     "output_type": "execute_result"
    }
   ],
   "source": [
    "states"
   ]
  },
  {
   "cell_type": "code",
   "execution_count": 25,
   "id": "cf89c4fc",
   "metadata": {},
   "outputs": [
    {
     "data": {
      "text/plain": [
       "3"
      ]
     },
     "execution_count": 25,
     "metadata": {},
     "output_type": "execute_result"
    }
   ],
   "source": [
    "actions"
   ]
  },
  {
   "cell_type": "code",
   "execution_count": 26,
   "id": "369098bc",
   "metadata": {},
   "outputs": [],
   "source": [
    "def build_model(states, actions):\n",
    "    model = Sequential()    \n",
    "    model.add(Dense(24, activation='relu', input_shape=states))\n",
    "    model.add(Dense(24, activation='relu'))\n",
    "    model.add(Dense(actions, activation='linear'))\n",
    "    return model"
   ]
  },
  {
   "cell_type": "code",
   "execution_count": 27,
   "id": "21a7cd4d",
   "metadata": {},
   "outputs": [],
   "source": [
    "model = build_model(states, actions)"
   ]
  },
  {
   "cell_type": "code",
   "execution_count": 28,
   "id": "7eb8d666",
   "metadata": {},
   "outputs": [
    {
     "name": "stdout",
     "output_type": "stream",
     "text": [
      "Model: \"sequential_1\"\n",
      "_________________________________________________________________\n",
      " Layer (type)                Output Shape              Param #   \n",
      "=================================================================\n",
      " dense_3 (Dense)             (None, 24)                48        \n",
      "                                                                 \n",
      " dense_4 (Dense)             (None, 24)                600       \n",
      "                                                                 \n",
      " dense_5 (Dense)             (None, 3)                 75        \n",
      "                                                                 \n",
      "=================================================================\n",
      "Total params: 723\n",
      "Trainable params: 723\n",
      "Non-trainable params: 0\n",
      "_________________________________________________________________\n"
     ]
    }
   ],
   "source": [
    "model.summary()"
   ]
  },
  {
   "cell_type": "markdown",
   "id": "49107f3f",
   "metadata": {},
   "source": [
    "# 3 BUILD AGENT with KEARS-RL"
   ]
  },
  {
   "cell_type": "code",
   "execution_count": 29,
   "id": "768228ee",
   "metadata": {},
   "outputs": [],
   "source": [
    "from rl.agents import DQNAgent\n",
    "from rl.policy import BoltzmannQPolicy\n",
    "from rl.memory import SequentialMemory"
   ]
  },
  {
   "cell_type": "code",
   "execution_count": 30,
   "id": "89e51649",
   "metadata": {},
   "outputs": [],
   "source": [
    "def build_agent(model, actions):\n",
    "    print(f'AAA : {actions}')\n",
    "    policy = BoltzmannQPolicy()\n",
    "    memory = SequentialMemory(limit=50000, window_length=1)\n",
    "    agent = DQNAgent(model=model, memory=memory, policy=policy,\n",
    "                     nb_actions=actions, nb_steps_warmup=10,\n",
    "                     target_model_update=1e-2)\n",
    "    return agent"
   ]
  },
  {
   "cell_type": "code",
   "execution_count": 31,
   "id": "cacf6932",
   "metadata": {},
   "outputs": [
    {
     "name": "stdout",
     "output_type": "stream",
     "text": [
      "AAA : 3\n"
     ]
    },
    {
     "name": "stderr",
     "output_type": "stream",
     "text": [
      "2022-09-27 11:08:43.398408: I tensorflow/compiler/mlir/mlir_graph_optimization_pass.cc:354] MLIR V1 optimization pass is not enabled\n"
     ]
    },
    {
     "name": "stdout",
     "output_type": "stream",
     "text": [
      "Training for 50000 steps ...\n",
      "Interval 1 (0 steps performed)\n",
      "\r",
      "    1/10000 [..............................] - ETA: 6:54 - reward: 1.0000"
     ]
    },
    {
     "name": "stderr",
     "output_type": "stream",
     "text": [
      "/home/eguimard/.local/lib/python3.10/site-packages/keras/engine/training_v1.py:2356: UserWarning: `Model.state_updates` will be removed in a future version. This property should not be used in TensorFlow 2.0, as `updates` are applied automatically.\n",
      "  updates=self.state_updates,\n",
      "/home/eguimard/.local/lib/python3.10/site-packages/rl/memory.py:37: UserWarning: Not enough entries to sample without replacement. Consider increasing your warm-up phase to avoid oversampling!\n",
      "  warnings.warn('Not enough entries to sample without replacement. Consider increasing your warm-up phase to avoid oversampling!')\n"
     ]
    },
    {
     "name": "stdout",
     "output_type": "stream",
     "text": [
      " 8647/10000 [========================>.....] - ETA: 6s - reward: -0.5180done, took 38.582 seconds\n"
     ]
    },
    {
     "data": {
      "text/plain": [
       "<keras.callbacks.History at 0x7fcb784577f0>"
      ]
     },
     "execution_count": 31,
     "metadata": {},
     "output_type": "execute_result"
    }
   ],
   "source": [
    "agent = build_agent(model, actions)\n",
    "agent.compile(Adam(learning_rate=1e-3), metrics=['mae'])\n",
    "agent.fit(env, nb_steps=50000, visualize=False, verbose=1)"
   ]
  },
  {
   "cell_type": "code",
   "execution_count": null,
   "id": "85835b3b",
   "metadata": {},
   "outputs": [],
   "source": [
    "scores = agent.test(env, nb_episodes=100, visualize=False)\n",
    "print(np.mean(scores.history['episode_reward']))"
   ]
  },
  {
   "cell_type": "code",
   "execution_count": null,
   "id": "1261e905",
   "metadata": {},
   "outputs": [],
   "source": [
    "\n",
    "_ = agent.test(env, nb_episodes=15, visualize=True)"
   ]
  }
 ],
 "metadata": {
  "kernelspec": {
   "display_name": "Python 3 (ipykernel)",
   "language": "python",
   "name": "python3"
  },
  "language_info": {
   "codemirror_mode": {
    "name": "ipython",
    "version": 3
   },
   "file_extension": ".py",
   "mimetype": "text/x-python",
   "name": "python",
   "nbconvert_exporter": "python",
   "pygments_lexer": "ipython3",
   "version": "3.10.4"
  }
 },
 "nbformat": 4,
 "nbformat_minor": 5
}
