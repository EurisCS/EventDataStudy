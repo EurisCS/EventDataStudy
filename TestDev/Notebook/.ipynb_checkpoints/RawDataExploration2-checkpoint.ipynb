{
 "cells": [
  {
   "cell_type": "code",
   "execution_count": 1,
   "id": "58071084",
   "metadata": {},
   "outputs": [],
   "source": [
    "import pandas as pd"
   ]
  },
  {
   "cell_type": "code",
   "execution_count": 53,
   "id": "888dc38f",
   "metadata": {},
   "outputs": [],
   "source": [
    "path_data = '/home/eguimard/PycharmProjects/DataStudy/Data/Results/AcquiredData/'"
   ]
  },
  {
   "cell_type": "code",
   "execution_count": 54,
   "id": "c97feaba",
   "metadata": {},
   "outputs": [],
   "source": [
    "#path_file = '/home/eguimard/PycharmProjects/DataStudy/Data/Results/AcquiredData/events-20220502_eventIntegrityVM1_1000_row.csv'\n",
    "# df = pd.read_csv(path_file)"
   ]
  },
  {
   "cell_type": "code",
   "execution_count": 58,
   "id": "fcb3bf5c",
   "metadata": {},
   "outputs": [],
   "source": [
    "name_file = 'events-20220502_eventIntegrityVM1_4_row.pickle'\n",
    "\n",
    "df = pd.read_pickle(f'{path_data}/{name_file}')"
   ]
  },
  {
   "cell_type": "code",
   "execution_count": 59,
   "id": "ecc8f212",
   "metadata": {},
   "outputs": [
    {
     "data": {
      "text/html": [
       "<div>\n",
       "<style scoped>\n",
       "    .dataframe tbody tr th:only-of-type {\n",
       "        vertical-align: middle;\n",
       "    }\n",
       "\n",
       "    .dataframe tbody tr th {\n",
       "        vertical-align: top;\n",
       "    }\n",
       "\n",
       "    .dataframe thead th {\n",
       "        text-align: right;\n",
       "    }\n",
       "</style>\n",
       "<table border=\"1\" class=\"dataframe\">\n",
       "  <thead>\n",
       "    <tr style=\"text-align: right;\">\n",
       "      <th></th>\n",
       "      <th>summary</th>\n",
       "      <th>category</th>\n",
       "      <th>timestamp</th>\n",
       "      <th>hostname</th>\n",
       "      <th>source</th>\n",
       "      <th>tags</th>\n",
       "      <th>client_id</th>\n",
       "      <th>client_key</th>\n",
       "      <th>details</th>\n",
       "      <th>mozdef</th>\n",
       "      <th>...</th>\n",
       "      <th>receivedtimestamp</th>\n",
       "      <th>utctimestamp</th>\n",
       "      <th>mozdefhostname</th>\n",
       "      <th>type</th>\n",
       "      <th>processid</th>\n",
       "      <th>processname</th>\n",
       "      <th>severity</th>\n",
       "      <th>plugins</th>\n",
       "      <th>alerts</th>\n",
       "      <th>alert_names</th>\n",
       "    </tr>\n",
       "  </thead>\n",
       "  <tbody>\n",
       "    <tr>\n",
       "      <th>0</th>\n",
       "      <td>Auditbeat file-integrity alert: file /host/wat...</td>\n",
       "      <td>integrity</td>\n",
       "      <td>2021-09-29T08:50:27.058Z</td>\n",
       "      <td>VM1</td>\n",
       "      <td>auditbeat</td>\n",
       "      <td>[auditbeat.file_integrity.file]</td>\n",
       "      <td>airliquide</td>\n",
       "      <td>69995ba006ba4ec3a86e4730343be794</td>\n",
       "      <td>{'hash': {'sha1': 'da39a3ee5e6b4b0d3255bfef956...</td>\n",
       "      <td>{'plugins': ['auditbeat', 'customDocType']}</td>\n",
       "      <td>...</td>\n",
       "      <td>2022-05-04T10:19:55.068468+00:00</td>\n",
       "      <td>2022-05-04T10:19:55.068487+00:00</td>\n",
       "      <td>c290481be022</td>\n",
       "      <td>event</td>\n",
       "      <td>UNKNOWN</td>\n",
       "      <td>UNKNOWN</td>\n",
       "      <td>UNKNOWN</td>\n",
       "      <td>[]</td>\n",
       "      <td>[{'index': 'alerts-202205', 'id': 'xwOVjoABdRh...</td>\n",
       "      <td>[AlertAuditbeatFileintegrity]</td>\n",
       "    </tr>\n",
       "    <tr>\n",
       "      <th>1</th>\n",
       "      <td>Auditbeat file-integrity alert: file /host/wat...</td>\n",
       "      <td>integrity</td>\n",
       "      <td>2021-09-29T08:50:27.055Z</td>\n",
       "      <td>VM1</td>\n",
       "      <td>auditbeat</td>\n",
       "      <td>[auditbeat.file_integrity.file]</td>\n",
       "      <td>airliquide</td>\n",
       "      <td>69995ba006ba4ec3a86e4730343be794</td>\n",
       "      <td>{'hash': {'sha1': 'da39a3ee5e6b4b0d3255bfef956...</td>\n",
       "      <td>{'plugins': ['auditbeat', 'customDocType']}</td>\n",
       "      <td>...</td>\n",
       "      <td>2022-05-04T10:19:55.060802+00:00</td>\n",
       "      <td>2022-05-04T10:19:55.060821+00:00</td>\n",
       "      <td>c290481be022</td>\n",
       "      <td>event</td>\n",
       "      <td>UNKNOWN</td>\n",
       "      <td>UNKNOWN</td>\n",
       "      <td>UNKNOWN</td>\n",
       "      <td>[]</td>\n",
       "      <td>[{'index': 'alerts-202205', 'id': 'xwOVjoABdRh...</td>\n",
       "      <td>[AlertAuditbeatFileintegrity]</td>\n",
       "    </tr>\n",
       "    <tr>\n",
       "      <th>2</th>\n",
       "      <td>Auditbeat file-integrity alert: file /host/wat...</td>\n",
       "      <td>integrity</td>\n",
       "      <td>2021-09-29T08:52:23.937Z</td>\n",
       "      <td>VM1</td>\n",
       "      <td>auditbeat</td>\n",
       "      <td>[auditbeat.file_integrity.file]</td>\n",
       "      <td>airliquide</td>\n",
       "      <td>69995ba006ba4ec3a86e4730343be794</td>\n",
       "      <td>{'event': {'category': ['file'], 'type': ['del...</td>\n",
       "      <td>{'plugins': ['auditbeat', 'customDocType']}</td>\n",
       "      <td>...</td>\n",
       "      <td>2022-05-04T10:21:53.641166+00:00</td>\n",
       "      <td>2022-05-04T10:21:53.641185+00:00</td>\n",
       "      <td>c290481be022</td>\n",
       "      <td>event</td>\n",
       "      <td>UNKNOWN</td>\n",
       "      <td>UNKNOWN</td>\n",
       "      <td>UNKNOWN</td>\n",
       "      <td>[]</td>\n",
       "      <td>[{'index': 'alerts-202205', 'id': 'pAOXjoABdRh...</td>\n",
       "      <td>[AlertAuditbeatFileintegrity]</td>\n",
       "    </tr>\n",
       "    <tr>\n",
       "      <th>3</th>\n",
       "      <td>Auditbeat file-integrity alert: file /host/wat...</td>\n",
       "      <td>integrity</td>\n",
       "      <td>2021-10-14T08:49:09.903Z</td>\n",
       "      <td>VM2</td>\n",
       "      <td>auditbeat</td>\n",
       "      <td>[auditbeat.file_integrity.file]</td>\n",
       "      <td>airliquide</td>\n",
       "      <td>69995ba006ba4ec3a86e4730343be794</td>\n",
       "      <td>{'hash': {'sha1': 'da39a3ee5e6b4b0d3255bfef956...</td>\n",
       "      <td>{'plugins': ['auditbeat', 'customDocType']}</td>\n",
       "      <td>...</td>\n",
       "      <td>2022-05-19T10:18:36.724314+00:00</td>\n",
       "      <td>2022-05-19T10:18:36.724333+00:00</td>\n",
       "      <td>c290481be022</td>\n",
       "      <td>event</td>\n",
       "      <td>UNKNOWN</td>\n",
       "      <td>UNKNOWN</td>\n",
       "      <td>UNKNOWN</td>\n",
       "      <td>[]</td>\n",
       "      <td>[{'index': 'alerts-202205', 'id': '_CfT24ABdRh...</td>\n",
       "      <td>[AlertAuditbeatFileintegrity]</td>\n",
       "    </tr>\n",
       "  </tbody>\n",
       "</table>\n",
       "<p>4 rows × 21 columns</p>\n",
       "</div>"
      ],
      "text/plain": [
       "                                             summary   category  \\\n",
       "0  Auditbeat file-integrity alert: file /host/wat...  integrity   \n",
       "1  Auditbeat file-integrity alert: file /host/wat...  integrity   \n",
       "2  Auditbeat file-integrity alert: file /host/wat...  integrity   \n",
       "3  Auditbeat file-integrity alert: file /host/wat...  integrity   \n",
       "\n",
       "                  timestamp hostname     source  \\\n",
       "0  2021-09-29T08:50:27.058Z      VM1  auditbeat   \n",
       "1  2021-09-29T08:50:27.055Z      VM1  auditbeat   \n",
       "2  2021-09-29T08:52:23.937Z      VM1  auditbeat   \n",
       "3  2021-10-14T08:49:09.903Z      VM2  auditbeat   \n",
       "\n",
       "                              tags   client_id  \\\n",
       "0  [auditbeat.file_integrity.file]  airliquide   \n",
       "1  [auditbeat.file_integrity.file]  airliquide   \n",
       "2  [auditbeat.file_integrity.file]  airliquide   \n",
       "3  [auditbeat.file_integrity.file]  airliquide   \n",
       "\n",
       "                         client_key  \\\n",
       "0  69995ba006ba4ec3a86e4730343be794   \n",
       "1  69995ba006ba4ec3a86e4730343be794   \n",
       "2  69995ba006ba4ec3a86e4730343be794   \n",
       "3  69995ba006ba4ec3a86e4730343be794   \n",
       "\n",
       "                                             details  \\\n",
       "0  {'hash': {'sha1': 'da39a3ee5e6b4b0d3255bfef956...   \n",
       "1  {'hash': {'sha1': 'da39a3ee5e6b4b0d3255bfef956...   \n",
       "2  {'event': {'category': ['file'], 'type': ['del...   \n",
       "3  {'hash': {'sha1': 'da39a3ee5e6b4b0d3255bfef956...   \n",
       "\n",
       "                                        mozdef  ...  \\\n",
       "0  {'plugins': ['auditbeat', 'customDocType']}  ...   \n",
       "1  {'plugins': ['auditbeat', 'customDocType']}  ...   \n",
       "2  {'plugins': ['auditbeat', 'customDocType']}  ...   \n",
       "3  {'plugins': ['auditbeat', 'customDocType']}  ...   \n",
       "\n",
       "                  receivedtimestamp                      utctimestamp  \\\n",
       "0  2022-05-04T10:19:55.068468+00:00  2022-05-04T10:19:55.068487+00:00   \n",
       "1  2022-05-04T10:19:55.060802+00:00  2022-05-04T10:19:55.060821+00:00   \n",
       "2  2022-05-04T10:21:53.641166+00:00  2022-05-04T10:21:53.641185+00:00   \n",
       "3  2022-05-19T10:18:36.724314+00:00  2022-05-19T10:18:36.724333+00:00   \n",
       "\n",
       "  mozdefhostname   type processid processname severity plugins  \\\n",
       "0   c290481be022  event   UNKNOWN     UNKNOWN  UNKNOWN      []   \n",
       "1   c290481be022  event   UNKNOWN     UNKNOWN  UNKNOWN      []   \n",
       "2   c290481be022  event   UNKNOWN     UNKNOWN  UNKNOWN      []   \n",
       "3   c290481be022  event   UNKNOWN     UNKNOWN  UNKNOWN      []   \n",
       "\n",
       "                                              alerts  \\\n",
       "0  [{'index': 'alerts-202205', 'id': 'xwOVjoABdRh...   \n",
       "1  [{'index': 'alerts-202205', 'id': 'xwOVjoABdRh...   \n",
       "2  [{'index': 'alerts-202205', 'id': 'pAOXjoABdRh...   \n",
       "3  [{'index': 'alerts-202205', 'id': '_CfT24ABdRh...   \n",
       "\n",
       "                     alert_names  \n",
       "0  [AlertAuditbeatFileintegrity]  \n",
       "1  [AlertAuditbeatFileintegrity]  \n",
       "2  [AlertAuditbeatFileintegrity]  \n",
       "3  [AlertAuditbeatFileintegrity]  \n",
       "\n",
       "[4 rows x 21 columns]"
      ]
     },
     "execution_count": 59,
     "metadata": {},
     "output_type": "execute_result"
    }
   ],
   "source": [
    "df"
   ]
  },
  {
   "cell_type": "code",
   "execution_count": 31,
   "id": "bc2fbea5",
   "metadata": {},
   "outputs": [
    {
     "data": {
      "text/plain": [
       "(1000, 19)"
      ]
     },
     "execution_count": 31,
     "metadata": {},
     "output_type": "execute_result"
    }
   ],
   "source": [
    "df.shape"
   ]
  },
  {
   "cell_type": "code",
   "execution_count": 6,
   "id": "2fa4dc3e",
   "metadata": {},
   "outputs": [
    {
     "data": {
      "text/plain": [
       "Index(['summary', 'category', 'client_id', 'client_key', 'timestamp',\n",
       "       'hostname', 'source', 'tags', 'details', 'mozdef', 'probe_id',\n",
       "       'receivedtimestamp', 'utctimestamp', 'mozdefhostname', 'type',\n",
       "       'processid', 'processname', 'severity', 'plugins'],\n",
       "      dtype='object')"
      ]
     },
     "execution_count": 6,
     "metadata": {},
     "output_type": "execute_result"
    }
   ],
   "source": [
    "df.columns"
   ]
  },
  {
   "cell_type": "code",
   "execution_count": 7,
   "id": "cb92e913",
   "metadata": {},
   "outputs": [],
   "source": [
    "# on va prendre une ligne et aller chercher dans la categorie Détails\n",
    "# Au sein de cette catégorie, ce qui va nous interresser c'est la catégorie system, le reste étant des méta-informations"
   ]
  },
  {
   "cell_type": "code",
   "execution_count": 32,
   "id": "13bd7059",
   "metadata": {},
   "outputs": [],
   "source": [
    "index = 20  "
   ]
  },
  {
   "cell_type": "code",
   "execution_count": 24,
   "id": "a67d706e",
   "metadata": {},
   "outputs": [
    {
     "name": "stdout",
     "output_type": "stream",
     "text": [
      "pb info : Memory statistics\n",
      "DICA :    availability\n"
     ]
    }
   ],
   "source": [
    "print(f\"pb info : {df['summary'][index]}\")\n",
    "print(f\"DICA :    {df['category'][index]}\")"
   ]
  },
  {
   "cell_type": "code",
   "execution_count": 9,
   "id": "98e501c4",
   "metadata": {},
   "outputs": [
    {
     "data": {
      "text/plain": [
       "'UNKNOWN'"
      ]
     },
     "execution_count": 9,
     "metadata": {},
     "output_type": "execute_result"
    }
   ],
   "source": [
    "df['severity'][index]"
   ]
  },
  {
   "cell_type": "code",
   "execution_count": 10,
   "id": "e4703659",
   "metadata": {},
   "outputs": [
    {
     "data": {
      "text/plain": [
       "dict_keys(['metricset', 'event', 'service', 'ecs', 'agent', 'system', 'endpoint', 'customendpoint'])"
      ]
     },
     "execution_count": 10,
     "metadata": {},
     "output_type": "execute_result"
    }
   ],
   "source": [
    "df['details'][index].keys()"
   ]
  },
  {
   "cell_type": "code",
   "execution_count": 11,
   "id": "329c6848",
   "metadata": {},
   "outputs": [
    {
     "data": {
      "text/plain": [
       "{'metricset': {'name': 'memory', 'period': 15000},\n",
       " 'event': {'module': 'system',\n",
       "  'duration': 5050741,\n",
       "  'dataset': 'system.memory'},\n",
       " 'service': {'type': 'system'},\n",
       " 'ecs': {'version': '1.5.0'},\n",
       " 'agent': {'id': '69c94e43-b718-4f50-8636-ef344572580d',\n",
       "  'type': 'metricbeat',\n",
       "  'version': '7.8.1',\n",
       "  'hostname': 'VM1',\n",
       "  'name': 'VM1',\n",
       "  'ephemeral_id': '46260b17-874a-409d-83ae-1af30e523258'},\n",
       " 'endpoint': 'logstash',\n",
       " 'customendpoint': True}"
      ]
     },
     "execution_count": 11,
     "metadata": {},
     "output_type": "execute_result"
    }
   ],
   "source": [
    "meta_info = df['details'][index].copy()\n",
    "meta_info.pop('system')\n",
    "meta_info"
   ]
  },
  {
   "cell_type": "code",
   "execution_count": 12,
   "id": "02cb78ad",
   "metadata": {},
   "outputs": [],
   "source": [
    "# il n'ya qu'une seul categorie dans system -> memory \n"
   ]
  },
  {
   "cell_type": "code",
   "execution_count": 13,
   "id": "44fa1fab",
   "metadata": {},
   "outputs": [
    {
     "data": {
      "text/plain": [
       "'memory'"
      ]
     },
     "execution_count": 13,
     "metadata": {},
     "output_type": "execute_result"
    }
   ],
   "source": [
    "key_system_impacted = list(df['details'][index]['system'].keys())\n",
    "if len(key_system_impacted) == 1:\n",
    "    key_system_impacted = key_system_impacted[0]\n",
    "else:\n",
    "    print('not just on indice')\n",
    "key_system_impacted"
   ]
  },
  {
   "cell_type": "code",
   "execution_count": 14,
   "id": "488cb4bc",
   "metadata": {},
   "outputs": [
    {
     "data": {
      "text/plain": [
       "dict_keys(['swap', 'actual', 'total', 'page_stats', 'used', 'free', 'hugepages'])"
      ]
     },
     "execution_count": 14,
     "metadata": {},
     "output_type": "execute_result"
    }
   ],
   "source": [
    "df['details'][index]['system'][key_system_impacted].keys()"
   ]
  },
  {
   "cell_type": "code",
   "execution_count": 34,
   "id": "1abf2a1e",
   "metadata": {},
   "outputs": [
    {
     "data": {
      "text/plain": [
       "{'swap': {'in': {'pages': 0},\n",
       "  'readahead': {'pages': 0, 'cached': 0},\n",
       "  'total': 0,\n",
       "  'used': {'pct': 0, 'bytes': 0},\n",
       "  'free': 0,\n",
       "  'out': {'pages': 0}},\n",
       " 'actual': {'free': 611663872, 'used': {'pct': 0.4055, 'bytes': 417181696}},\n",
       " 'total': 1028845568,\n",
       " 'page_stats': {'pgsteal_direct': {'pages': 125},\n",
       "  'pgsteal_kswapd': {'pages': 552583},\n",
       "  'direct_efficiency': {'pct': 1},\n",
       "  'kswapd_efficiency': {'pct': 0.8723},\n",
       "  'pgfree': {'pages': 18499361},\n",
       "  'pgscan_kswapd': {'pages': 633473},\n",
       "  'pgscan_direct': {'pages': 125}},\n",
       " 'used': {'pct': 0.9126, 'bytes': 938921984},\n",
       " 'free': 89923584,\n",
       " 'hugepages': {'total': 0,\n",
       "  'used': {'pct': 0, 'bytes': 0},\n",
       "  'swap': {'out': {'pages': 0, 'fallback': 0}},\n",
       "  'default_size': 2097152,\n",
       "  'free': 0,\n",
       "  'surplus': 0,\n",
       "  'reserved': 0}}"
      ]
     },
     "execution_count": 34,
     "metadata": {},
     "output_type": "execute_result"
    }
   ],
   "source": [
    "system_info = df['details'][index]['system'][key_system_impacted]\n",
    "system_info "
   ]
  },
  {
   "cell_type": "code",
   "execution_count": 37,
   "id": "e24dec1f",
   "metadata": {},
   "outputs": [
    {
     "name": "stdout",
     "output_type": "stream",
     "text": [
      "cpu\n"
     ]
    },
    {
     "data": {
      "text/plain": [
       "{'softirq': {'pct': 0, 'norm': {'pct': 0}},\n",
       " 'system': {'pct': 0.0027, 'norm': {'pct': 0.0027}},\n",
       " 'cores': 1,\n",
       " 'total': {'pct': 0.0094, 'norm': {'pct': 0.0094}},\n",
       " 'steal': {'pct': 0, 'norm': {'pct': 0}},\n",
       " 'iowait': {'pct': 0, 'norm': {'pct': 0}},\n",
       " 'nice': {'pct': 0, 'norm': {'pct': 0}},\n",
       " 'idle': {'pct': 0.9906, 'norm': {'pct': 0.9906}},\n",
       " 'user': {'pct': 0.0067, 'norm': {'pct': 0.0067}},\n",
       " 'irq': {'pct': 0, 'norm': {'pct': 0}}}"
      ]
     },
     "execution_count": 37,
     "metadata": {},
     "output_type": "execute_result"
    }
   ],
   "source": [
    "index = 10 \n",
    "key_system_impacted = list(df['details'][index]['system'].keys())\n",
    "if len(key_system_impacted) == 1:\n",
    "    key_system_impacted = key_system_impacted[0]\n",
    "else:\n",
    "    print('not just on indice')\n",
    "print(key_system_impacted)\n",
    "\n",
    "system_info = df['details'][index]['system'][key_system_impacted]\n",
    "system_info"
   ]
  },
  {
   "cell_type": "code",
   "execution_count": 42,
   "id": "bda86226",
   "metadata": {},
   "outputs": [
    {
     "name": "stdout",
     "output_type": "stream",
     "text": [
      "network\n"
     ]
    },
    {
     "data": {
      "text/plain": [
       "{'in': {'errors': 0, 'packets': 1478614, 'bytes': 71441037, 'dropped': 15},\n",
       " 'name': 'eth0',\n",
       " 'out': {'errors': 0, 'packets': 212555, 'bytes': 253576055, 'dropped': 0}}"
      ]
     },
     "execution_count": 42,
     "metadata": {},
     "output_type": "execute_result"
    }
   ],
   "source": [
    "index = 355\n",
    "key_system_impacted = list(df['details'][index]['system'].keys())\n",
    "if len(key_system_impacted) == 1:\n",
    "    key_system_impacted = key_system_impacted[0]\n",
    "else:\n",
    "    print('not just on indice')\n",
    "print(key_system_impacted)\n",
    "\n",
    "system_info = df['details'][index]['system'][key_system_impacted]\n",
    "system_info"
   ]
  },
  {
   "cell_type": "code",
   "execution_count": 16,
   "id": "ef0adfe1",
   "metadata": {},
   "outputs": [
    {
     "name": "stdout",
     "output_type": "stream",
     "text": [
      "\n",
      "swap : {'in': {'pages': 0}, 'readahead': {'pages': 0, 'cached': 0}, 'total': 0, 'used': {'pct': 0, 'bytes': 0}, 'free': 0, 'out': {'pages': 0}}\n",
      "\n",
      "actual : {'free': 611663872, 'used': {'pct': 0.4055, 'bytes': 417181696}}\n",
      "\n",
      "total : 1028845568\n",
      "\n",
      "page_stats : {'pgsteal_direct': {'pages': 125}, 'pgsteal_kswapd': {'pages': 552583}, 'direct_efficiency': {'pct': 1}, 'kswapd_efficiency': {'pct': 0.8723}, 'pgfree': {'pages': 18499361}, 'pgscan_kswapd': {'pages': 633473}, 'pgscan_direct': {'pages': 125}}\n",
      "\n",
      "used : {'pct': 0.9126, 'bytes': 938921984}\n",
      "\n",
      "free : 89923584\n",
      "\n",
      "hugepages : {'total': 0, 'used': {'pct': 0, 'bytes': 0}, 'swap': {'out': {'pages': 0, 'fallback': 0}}, 'default_size': 2097152, 'free': 0, 'surplus': 0, 'reserved': 0}\n"
     ]
    }
   ],
   "source": [
    "for key in system_info.keys():\n",
    "    print(f'\\n{key} : {system_info[key]}')"
   ]
  },
  {
   "cell_type": "code",
   "execution_count": 17,
   "id": "d167d54c",
   "metadata": {},
   "outputs": [],
   "source": [
    "# function to pycharm here ->"
   ]
  },
  {
   "cell_type": "code",
   "execution_count": 18,
   "id": "e0b21e1b",
   "metadata": {},
   "outputs": [
    {
     "name": "stdout",
     "output_type": "stream",
     "text": [
      "[{'in': {'pages': 0}, 'readahead': {'pages': 0, 'cached': 0}, 'total': 0, 'used': {'pct': 0, 'bytes': 0}, 'free': 0, 'out': {'pages': 0}}, {'free': 611663872, 'used': {'pct': 0.4055, 'bytes': 417181696}}, 1028845568, {'pgsteal_direct': {'pages': 125}, 'pgsteal_kswapd': {'pages': 552583}, 'direct_efficiency': {'pct': 1}, 'kswapd_efficiency': {'pct': 0.8723}, 'pgfree': {'pages': 18499361}, 'pgscan_kswapd': {'pages': 633473}, 'pgscan_direct': {'pages': 125}}, {'pct': 0.9126, 'bytes': 938921984}, 89923584, {'total': 0, 'used': {'pct': 0, 'bytes': 0}, 'swap': {'out': {'pages': 0, 'fallback': 0}}, 'default_size': 2097152, 'free': 0, 'surplus': 0, 'reserved': 0}]\n"
     ]
    }
   ],
   "source": [
    "\n",
    "def extract_datas(df, index):\n",
    "    details = df['details'][index]\n",
    "    \n",
    "    system = details['system']\n",
    "    \n",
    "    list_system =[]\n",
    "    \n",
    "    for key in system.keys():\n",
    "        \n",
    "\n",
    "        \n",
    "        for key_2 in system[key].keys():\n",
    "            list_system.append(system[key][key_2])\n",
    "\n",
    "    return list_system\n",
    "\n",
    "ls = extract_datas(df, index)\n",
    "print(ls)"
   ]
  }
 ],
 "metadata": {
  "kernelspec": {
   "display_name": "Python 3 (ipykernel)",
   "language": "python",
   "name": "python3"
  },
  "language_info": {
   "codemirror_mode": {
    "name": "ipython",
    "version": 3
   },
   "file_extension": ".py",
   "mimetype": "text/x-python",
   "name": "python",
   "nbconvert_exporter": "python",
   "pygments_lexer": "ipython3",
   "version": "3.10.4"
  }
 },
 "nbformat": 4,
 "nbformat_minor": 5
}
