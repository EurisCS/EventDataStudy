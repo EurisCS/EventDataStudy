{
 "cells": [
  {
   "cell_type": "code",
   "execution_count": 23,
   "id": "4bf6f58c",
   "metadata": {},
   "outputs": [],
   "source": [
    "import pandas as pd \n",
    "import plotly.express as px\n",
    "import plotly.graph_objects as go\n",
    "import plotly.figure_factory as ff\n",
    "from plotly.subplots import make_subplots\n",
    "from plotly.offline import plot, init_notebook_mode\n",
    "from sklearn.preprocessing import LabelEncoder\n",
    "import numpy as np"
   ]
  },
  {
   "cell_type": "code",
   "execution_count": 9,
   "id": "b85feba5",
   "metadata": {},
   "outputs": [],
   "source": [
    "data_1D = pd.read_csv('/home/eguimard/PycharmProjects/DataStudy/DataStorage/Results/DataAnalyse/CPUWarningCriticalVM2/cpu/data/reduced_1D_data.csv')"
   ]
  },
  {
   "cell_type": "code",
   "execution_count": 13,
   "id": "b7deab14",
   "metadata": {},
   "outputs": [
    {
     "data": {
      "text/plain": [
       "0      34.737118\n",
       "1      35.666020\n",
       "2      13.312069\n",
       "3      15.760091\n",
       "4      16.723112\n",
       "         ...    \n",
       "115    35.690693\n",
       "116    15.074228\n",
       "117    35.221570\n",
       "118    14.708056\n",
       "119    34.983950\n",
       "Name: 0, Length: 120, dtype: float64"
      ]
     },
     "execution_count": 13,
     "metadata": {},
     "output_type": "execute_result"
    }
   ],
   "source": [
    "data_1D['0']"
   ]
  },
  {
   "cell_type": "code",
   "execution_count": 28,
   "id": "53b07458",
   "metadata": {},
   "outputs": [],
   "source": [
    "data_2D = pd.read_csv('/home/eguimard/PycharmProjects/DataStudy/DataStorage/Results/DataAnalyse/CPUWarningCriticalVM2/cpu/data/reduced_2D_data.csv')"
   ]
  },
  {
   "cell_type": "code",
   "execution_count": 57,
   "id": "6cdb78f0",
   "metadata": {},
   "outputs": [
    {
     "data": {
      "text/html": [
       "<div>\n",
       "<style scoped>\n",
       "    .dataframe tbody tr th:only-of-type {\n",
       "        vertical-align: middle;\n",
       "    }\n",
       "\n",
       "    .dataframe tbody tr th {\n",
       "        vertical-align: top;\n",
       "    }\n",
       "\n",
       "    .dataframe thead th {\n",
       "        text-align: right;\n",
       "    }\n",
       "</style>\n",
       "<table border=\"1\" class=\"dataframe\">\n",
       "  <thead>\n",
       "    <tr style=\"text-align: right;\">\n",
       "      <th></th>\n",
       "      <th>0</th>\n",
       "      <th>1</th>\n",
       "    </tr>\n",
       "  </thead>\n",
       "  <tbody>\n",
       "    <tr>\n",
       "      <th>0</th>\n",
       "      <td>26.473200</td>\n",
       "      <td>11.040215</td>\n",
       "    </tr>\n",
       "    <tr>\n",
       "      <th>1</th>\n",
       "      <td>26.563128</td>\n",
       "      <td>10.795956</td>\n",
       "    </tr>\n",
       "    <tr>\n",
       "      <th>2</th>\n",
       "      <td>15.145804</td>\n",
       "      <td>5.717798</td>\n",
       "    </tr>\n",
       "    <tr>\n",
       "      <th>3</th>\n",
       "      <td>14.871727</td>\n",
       "      <td>7.014143</td>\n",
       "    </tr>\n",
       "    <tr>\n",
       "      <th>4</th>\n",
       "      <td>14.204561</td>\n",
       "      <td>7.300304</td>\n",
       "    </tr>\n",
       "    <tr>\n",
       "      <th>...</th>\n",
       "      <td>...</td>\n",
       "      <td>...</td>\n",
       "    </tr>\n",
       "    <tr>\n",
       "      <th>115</th>\n",
       "      <td>27.016798</td>\n",
       "      <td>10.913266</td>\n",
       "    </tr>\n",
       "    <tr>\n",
       "      <th>116</th>\n",
       "      <td>15.795841</td>\n",
       "      <td>7.202504</td>\n",
       "    </tr>\n",
       "    <tr>\n",
       "      <th>117</th>\n",
       "      <td>27.149965</td>\n",
       "      <td>10.789955</td>\n",
       "    </tr>\n",
       "    <tr>\n",
       "      <th>118</th>\n",
       "      <td>15.279580</td>\n",
       "      <td>6.447621</td>\n",
       "    </tr>\n",
       "    <tr>\n",
       "      <th>119</th>\n",
       "      <td>26.607504</td>\n",
       "      <td>11.030767</td>\n",
       "    </tr>\n",
       "  </tbody>\n",
       "</table>\n",
       "<p>120 rows × 2 columns</p>\n",
       "</div>"
      ],
      "text/plain": [
       "             0          1\n",
       "0    26.473200  11.040215\n",
       "1    26.563128  10.795956\n",
       "2    15.145804   5.717798\n",
       "3    14.871727   7.014143\n",
       "4    14.204561   7.300304\n",
       "..         ...        ...\n",
       "115  27.016798  10.913266\n",
       "116  15.795841   7.202504\n",
       "117  27.149965  10.789955\n",
       "118  15.279580   6.447621\n",
       "119  26.607504  11.030767\n",
       "\n",
       "[120 rows x 2 columns]"
      ]
     },
     "execution_count": 57,
     "metadata": {},
     "output_type": "execute_result"
    }
   ],
   "source": [
    "data_2D"
   ]
  },
  {
   "cell_type": "code",
   "execution_count": 4,
   "id": "f13b6679",
   "metadata": {},
   "outputs": [],
   "source": [
    "df_info = pd.read_csv('/home/eguimard/PycharmProjects/DataStudy/DataStorage/Results/DataAnalyse/CPUWarningCriticalVM2/cpu/data/saved_data.csv')"
   ]
  },
  {
   "cell_type": "code",
   "execution_count": 5,
   "id": "732b8fad",
   "metadata": {},
   "outputs": [
    {
     "data": {
      "text/html": [
       "<div>\n",
       "<style scoped>\n",
       "    .dataframe tbody tr th:only-of-type {\n",
       "        vertical-align: middle;\n",
       "    }\n",
       "\n",
       "    .dataframe tbody tr th {\n",
       "        vertical-align: top;\n",
       "    }\n",
       "\n",
       "    .dataframe thead th {\n",
       "        text-align: right;\n",
       "    }\n",
       "</style>\n",
       "<table border=\"1\" class=\"dataframe\">\n",
       "  <thead>\n",
       "    <tr style=\"text-align: right;\">\n",
       "      <th></th>\n",
       "      <th>utctimestamp</th>\n",
       "      <th>severity</th>\n",
       "    </tr>\n",
       "  </thead>\n",
       "  <tbody>\n",
       "    <tr>\n",
       "      <th>0</th>\n",
       "      <td>2022-06-16 12:20:10.993737+00:00</td>\n",
       "      <td>INFO</td>\n",
       "    </tr>\n",
       "    <tr>\n",
       "      <th>1</th>\n",
       "      <td>2022-06-16 12:20:25.990961+00:00</td>\n",
       "      <td>INFO</td>\n",
       "    </tr>\n",
       "    <tr>\n",
       "      <th>2</th>\n",
       "      <td>2022-06-16 12:20:41.021435+00:00</td>\n",
       "      <td>INFO</td>\n",
       "    </tr>\n",
       "    <tr>\n",
       "      <th>3</th>\n",
       "      <td>2022-06-16 12:20:55.988691+00:00</td>\n",
       "      <td>INFO</td>\n",
       "    </tr>\n",
       "    <tr>\n",
       "      <th>4</th>\n",
       "      <td>2022-06-16 12:21:10.992139+00:00</td>\n",
       "      <td>INFO</td>\n",
       "    </tr>\n",
       "    <tr>\n",
       "      <th>...</th>\n",
       "      <td>...</td>\n",
       "      <td>...</td>\n",
       "    </tr>\n",
       "    <tr>\n",
       "      <th>115</th>\n",
       "      <td>2022-06-16 12:48:55.942189+00:00</td>\n",
       "      <td>INFO</td>\n",
       "    </tr>\n",
       "    <tr>\n",
       "      <th>116</th>\n",
       "      <td>2022-06-16 12:49:10.936065+00:00</td>\n",
       "      <td>INFO</td>\n",
       "    </tr>\n",
       "    <tr>\n",
       "      <th>117</th>\n",
       "      <td>2022-06-16 12:49:25.928817+00:00</td>\n",
       "      <td>INFO</td>\n",
       "    </tr>\n",
       "    <tr>\n",
       "      <th>118</th>\n",
       "      <td>2022-06-16 12:49:40.925928+00:00</td>\n",
       "      <td>INFO</td>\n",
       "    </tr>\n",
       "    <tr>\n",
       "      <th>119</th>\n",
       "      <td>2022-06-16 12:49:55.923475+00:00</td>\n",
       "      <td>INFO</td>\n",
       "    </tr>\n",
       "  </tbody>\n",
       "</table>\n",
       "<p>120 rows × 2 columns</p>\n",
       "</div>"
      ],
      "text/plain": [
       "                         utctimestamp severity\n",
       "0    2022-06-16 12:20:10.993737+00:00     INFO\n",
       "1    2022-06-16 12:20:25.990961+00:00     INFO\n",
       "2    2022-06-16 12:20:41.021435+00:00     INFO\n",
       "3    2022-06-16 12:20:55.988691+00:00     INFO\n",
       "4    2022-06-16 12:21:10.992139+00:00     INFO\n",
       "..                                ...      ...\n",
       "115  2022-06-16 12:48:55.942189+00:00     INFO\n",
       "116  2022-06-16 12:49:10.936065+00:00     INFO\n",
       "117  2022-06-16 12:49:25.928817+00:00     INFO\n",
       "118  2022-06-16 12:49:40.925928+00:00     INFO\n",
       "119  2022-06-16 12:49:55.923475+00:00     INFO\n",
       "\n",
       "[120 rows x 2 columns]"
      ]
     },
     "execution_count": 5,
     "metadata": {},
     "output_type": "execute_result"
    }
   ],
   "source": [
    "df_info"
   ]
  },
  {
   "cell_type": "code",
   "execution_count": 18,
   "id": "57bf41b4",
   "metadata": {},
   "outputs": [],
   "source": [
    "timestamp_series = df_info['utctimestamp']\n",
    "series_color = df_info['severity']"
   ]
  },
  {
   "cell_type": "code",
   "execution_count": 130,
   "id": "2d98c02a",
   "metadata": {},
   "outputs": [],
   "source": [
    "class Subplot:\n",
    "    \n",
    "\n",
    "    def __init__(self,list_discrete_color = None):\n",
    "\n",
    "        if list_discrete_color is None:\n",
    "            self.list_discrete_color = ['green', 'orange', 'red', 'blue', 'yellow', 'black']\n",
    "        else:\n",
    "            self.list_discrete_color = list_discrete_color\n",
    "    \n",
    "    def add_scatter_2D_to_figure(self, figure, row, col,\n",
    "                          series_x, series_y, color=None, name_and_group=None, mode='lines+markers',show_legend=True ):\n",
    "\n",
    "        return figure.add_scatter(x=series_x, y=series_y, mode=mode, marker_size=10,\n",
    "                              name=name_and_group, legendgroup=name_and_group,\n",
    "                              showlegend=show_legend,col=col, row=row, marker_color=color)\n",
    "\n",
    "\n",
    "\n",
    "    def create_scatter_plot_2D(self,  series_x, series_y, series_color=None, name_scatter='',  mode='lines+markers',\n",
    "                               show_legend=True, figure=None, row=None, col=None):\n",
    "        \n",
    "        if None in [figure, row, col]:\n",
    "            row, col = 1, 1\n",
    "            figure, = make_subplots(row, col)\n",
    "\n",
    "        if series_color is None:\n",
    "            figure.add_scatter(x=series_x, y=series_y, mode=mode, line_color=self.list_discrete_color[0],\n",
    "                               name=name_scatter,title=name_scatter, col=col, row=row)\n",
    "        else:\n",
    "\n",
    "            if mode != 'markers':\n",
    "                figure.add_scatter(x=series_x, y=series_y, mode='lines', line_color='grey',\n",
    "                                   name='state change', col=col, row=row, title=name_scatter)\n",
    "\n",
    "            list_labels = list(dict(series_color.value_counts()).keys())\n",
    "\n",
    "            for index in range(len(list_labels)):\n",
    "                figure = self.add_scatter_2D_to_figure(figure, row, col,\n",
    "                                                       series_x.where(series_color == list_labels[index]),\n",
    "                                                       series_y.where(series_color == list_labels[index]),\n",
    "\n",
    "                                                       color=self.list_discrete_color[index],\n",
    "                                                       name_and_group=list_labels[index],\n",
    "                                                       mode=mode,\n",
    "                                                       show_legend=show_legend)\n",
    "\n",
    "\n",
    "        return figure"
   ]
  },
  {
   "cell_type": "code",
   "execution_count": 131,
   "id": "0dc6652b",
   "metadata": {},
   "outputs": [
    {
     "ename": "ValueError",
     "evalue": "too many values to unpack (expected 1)",
     "output_type": "error",
     "traceback": [
      "\u001b[0;31m---------------------------------------------------------------------------\u001b[0m",
      "\u001b[0;31mValueError\u001b[0m                                Traceback (most recent call last)",
      "Input \u001b[0;32mIn [131]\u001b[0m, in \u001b[0;36m<cell line: 7>\u001b[0;34m()\u001b[0m\n\u001b[1;32m      2\u001b[0m series_color_encoded \u001b[38;5;241m=\u001b[39m pd\u001b[38;5;241m.\u001b[39mSeries(encoder\u001b[38;5;241m.\u001b[39mfit_transform(series_color))\n\u001b[1;32m      5\u001b[0m sub_fig \u001b[38;5;241m=\u001b[39m make_subplots(\u001b[38;5;241m1\u001b[39m,\u001b[38;5;241m2\u001b[39m, horizontal_spacing\u001b[38;5;241m=\u001b[39m\u001b[38;5;241m0.1\u001b[39m)\n\u001b[0;32m----> 7\u001b[0m sub_fig \u001b[38;5;241m=\u001b[39m \u001b[43mSubplot\u001b[49m\u001b[43m(\u001b[49m\u001b[43m)\u001b[49m\u001b[38;5;241;43m.\u001b[39;49m\u001b[43mcreate_scatter_plot_2D\u001b[49m\u001b[43m(\u001b[49m\u001b[43msub_fig\u001b[49m\u001b[43m,\u001b[49m\u001b[38;5;241;43m1\u001b[39;49m\u001b[43m,\u001b[49m\u001b[38;5;241;43m1\u001b[39;49m\u001b[43m,\u001b[49m\u001b[43mtimestamp_series\u001b[49m\u001b[43m,\u001b[49m\u001b[43m \u001b[49m\u001b[43mdata_1D\u001b[49m\u001b[43m[\u001b[49m\u001b[38;5;124;43m'\u001b[39;49m\u001b[38;5;124;43m0\u001b[39;49m\u001b[38;5;124;43m'\u001b[39;49m\u001b[43m]\u001b[49m\u001b[43m,\u001b[49m\u001b[43m \u001b[49m\u001b[43mseries_color\u001b[49m\u001b[43m,\u001b[49m\u001b[43m \u001b[49m\u001b[38;5;124;43m'\u001b[39;49m\u001b[38;5;124;43mlines+markers\u001b[39;49m\u001b[38;5;124;43m'\u001b[39;49m\u001b[43m,\u001b[49m\u001b[38;5;28;43;01mTrue\u001b[39;49;00m\u001b[43m)\u001b[49m\n\u001b[1;32m      8\u001b[0m sub_fig \u001b[38;5;241m=\u001b[39m Subplot()\u001b[38;5;241m.\u001b[39mcreate_scatter_plot_2D(sub_fig,\u001b[38;5;241m1\u001b[39m,\u001b[38;5;241m2\u001b[39m, data_2D[\u001b[38;5;124m'\u001b[39m\u001b[38;5;124m0\u001b[39m\u001b[38;5;124m'\u001b[39m], data_2D[\u001b[38;5;124m'\u001b[39m\u001b[38;5;124m1\u001b[39m\u001b[38;5;124m'\u001b[39m], series_color, \u001b[38;5;124m'\u001b[39m\u001b[38;5;124mmarkers\u001b[39m\u001b[38;5;124m'\u001b[39m,\u001b[38;5;28;01mFalse\u001b[39;00m)\n",
      "Input \u001b[0;32mIn [130]\u001b[0m, in \u001b[0;36mSubplot.create_scatter_plot_2D\u001b[0;34m(self, series_x, series_y, series_color, name_scatter, mode, show_legend, figure, row, col)\u001b[0m\n\u001b[1;32m     23\u001b[0m \u001b[38;5;28;01mif\u001b[39;00m \u001b[38;5;28;01mNone\u001b[39;00m \u001b[38;5;129;01min\u001b[39;00m [figure, row, col]:\n\u001b[1;32m     24\u001b[0m     row, col \u001b[38;5;241m=\u001b[39m \u001b[38;5;241m1\u001b[39m, \u001b[38;5;241m1\u001b[39m\n\u001b[0;32m---> 25\u001b[0m     figure, \u001b[38;5;241m=\u001b[39m make_subplots(row, col)\n\u001b[1;32m     27\u001b[0m \u001b[38;5;28;01mif\u001b[39;00m series_color \u001b[38;5;129;01mis\u001b[39;00m \u001b[38;5;28;01mNone\u001b[39;00m:\n\u001b[1;32m     28\u001b[0m     figure\u001b[38;5;241m.\u001b[39madd_scatter(x\u001b[38;5;241m=\u001b[39mseries_x, y\u001b[38;5;241m=\u001b[39mseries_y, mode\u001b[38;5;241m=\u001b[39mmode, line_color\u001b[38;5;241m=\u001b[39m\u001b[38;5;28mself\u001b[39m\u001b[38;5;241m.\u001b[39mlist_discrete_color[\u001b[38;5;241m0\u001b[39m],\n\u001b[1;32m     29\u001b[0m                        name\u001b[38;5;241m=\u001b[39mname_scatter,title\u001b[38;5;241m=\u001b[39mname_scatter, col\u001b[38;5;241m=\u001b[39mcol, row\u001b[38;5;241m=\u001b[39mrow)\n",
      "\u001b[0;31mValueError\u001b[0m: too many values to unpack (expected 1)"
     ]
    }
   ],
   "source": [
    "encoder = LabelEncoder()\n",
    "series_color_encoded = pd.Series(encoder.fit_transform(series_color))\n",
    "\n",
    "\n",
    "sub_fig = make_subplots(1,2, horizontal_spacing=0.1)\n",
    "\n",
    "sub_fig = Subplot().create_scatter_plot_2D(timestamp_series, data_1D['0'], series_color, , 'blabla','lines+markers',True,sub_fig,1,1,)\n",
    "sub_fig = Subplot().create_scatter_plot_2D(sub_fig,1,2, data_2D['0'], data_2D['1'], series_color, 'markers',False)\n",
    "\n",
    "\n",
    "\n",
    "##\n"
   ]
  },
  {
   "cell_type": "code",
   "execution_count": 119,
   "id": "13dc6391",
   "metadata": {},
   "outputs": [
    {
     "data": {
      "text/plain": [
       "'test.html'"
      ]
     },
     "execution_count": 119,
     "metadata": {},
     "output_type": "execute_result"
    }
   ],
   "source": [
    "plot(sub_fig, filename='test.html', auto_open=True)"
   ]
  },
  {
   "cell_type": "code",
   "execution_count": null,
   "id": "e614aaf6",
   "metadata": {},
   "outputs": [],
   "source": []
  },
  {
   "cell_type": "code",
   "execution_count": null,
   "id": "1d72da93",
   "metadata": {},
   "outputs": [],
   "source": []
  },
  {
   "cell_type": "code",
   "execution_count": null,
   "id": "7f64ddb9",
   "metadata": {},
   "outputs": [],
   "source": []
  },
  {
   "cell_type": "code",
   "execution_count": null,
   "id": "6782a439",
   "metadata": {},
   "outputs": [],
   "source": []
  },
  {
   "cell_type": "code",
   "execution_count": null,
   "id": "55c67fb1",
   "metadata": {},
   "outputs": [],
   "source": []
  },
  {
   "cell_type": "code",
   "execution_count": null,
   "id": "3da1dc4f",
   "metadata": {},
   "outputs": [],
   "source": []
  },
  {
   "cell_type": "code",
   "execution_count": null,
   "id": "fb10d6ca",
   "metadata": {},
   "outputs": [],
   "source": []
  },
  {
   "cell_type": "code",
   "execution_count": null,
   "id": "94df1ec1",
   "metadata": {},
   "outputs": [],
   "source": []
  },
  {
   "cell_type": "code",
   "execution_count": null,
   "id": "0215cacf",
   "metadata": {},
   "outputs": [],
   "source": []
  },
  {
   "cell_type": "code",
   "execution_count": null,
   "id": "d08d7250",
   "metadata": {},
   "outputs": [],
   "source": []
  },
  {
   "cell_type": "code",
   "execution_count": null,
   "id": "40e72f5f",
   "metadata": {},
   "outputs": [],
   "source": []
  },
  {
   "cell_type": "code",
   "execution_count": null,
   "id": "beee472a",
   "metadata": {},
   "outputs": [],
   "source": []
  },
  {
   "cell_type": "code",
   "execution_count": null,
   "id": "e6b0b103",
   "metadata": {},
   "outputs": [],
   "source": []
  },
  {
   "cell_type": "code",
   "execution_count": null,
   "id": "e9cf506d",
   "metadata": {},
   "outputs": [],
   "source": []
  },
  {
   "cell_type": "code",
   "execution_count": 29,
   "id": "643ab7ec",
   "metadata": {},
   "outputs": [
    {
     "ename": "ValueError",
     "evalue": "\n    Invalid element(s) received for the 'color' property of scatter.marker\n        Invalid elements include: ['INFO', 'INFO', 'INFO', 'INFO', 'INFO', 'INFO', 'INFO', 'INFO', 'INFO', 'INFO']\n\n    The 'color' property is a color and may be specified as:\n      - A hex string (e.g. '#ff0000')\n      - An rgb/rgba string (e.g. 'rgb(255,0,0)')\n      - An hsl/hsla string (e.g. 'hsl(0,100%,50%)')\n      - An hsv/hsva string (e.g. 'hsv(0,100%,100%)')\n      - A named CSS color:\n            aliceblue, antiquewhite, aqua, aquamarine, azure,\n            beige, bisque, black, blanchedalmond, blue,\n            blueviolet, brown, burlywood, cadetblue,\n            chartreuse, chocolate, coral, cornflowerblue,\n            cornsilk, crimson, cyan, darkblue, darkcyan,\n            darkgoldenrod, darkgray, darkgrey, darkgreen,\n            darkkhaki, darkmagenta, darkolivegreen, darkorange,\n            darkorchid, darkred, darksalmon, darkseagreen,\n            darkslateblue, darkslategray, darkslategrey,\n            darkturquoise, darkviolet, deeppink, deepskyblue,\n            dimgray, dimgrey, dodgerblue, firebrick,\n            floralwhite, forestgreen, fuchsia, gainsboro,\n            ghostwhite, gold, goldenrod, gray, grey, green,\n            greenyellow, honeydew, hotpink, indianred, indigo,\n            ivory, khaki, lavender, lavenderblush, lawngreen,\n            lemonchiffon, lightblue, lightcoral, lightcyan,\n            lightgoldenrodyellow, lightgray, lightgrey,\n            lightgreen, lightpink, lightsalmon, lightseagreen,\n            lightskyblue, lightslategray, lightslategrey,\n            lightsteelblue, lightyellow, lime, limegreen,\n            linen, magenta, maroon, mediumaquamarine,\n            mediumblue, mediumorchid, mediumpurple,\n            mediumseagreen, mediumslateblue, mediumspringgreen,\n            mediumturquoise, mediumvioletred, midnightblue,\n            mintcream, mistyrose, moccasin, navajowhite, navy,\n            oldlace, olive, olivedrab, orange, orangered,\n            orchid, palegoldenrod, palegreen, paleturquoise,\n            palevioletred, papayawhip, peachpuff, peru, pink,\n            plum, powderblue, purple, red, rosybrown,\n            royalblue, rebeccapurple, saddlebrown, salmon,\n            sandybrown, seagreen, seashell, sienna, silver,\n            skyblue, slateblue, slategray, slategrey, snow,\n            springgreen, steelblue, tan, teal, thistle, tomato,\n            turquoise, violet, wheat, white, whitesmoke,\n            yellow, yellowgreen\n      - A number that will be interpreted as a color\n        according to scatter.marker.colorscale\n      - A list or array of any of the above",
     "output_type": "error",
     "traceback": [
      "\u001b[0;31m---------------------------------------------------------------------------\u001b[0m",
      "\u001b[0;31mValueError\u001b[0m                                Traceback (most recent call last)",
      "Input \u001b[0;32mIn [29]\u001b[0m, in \u001b[0;36m<cell line: 4>\u001b[0;34m()\u001b[0m\n\u001b[1;32m      1\u001b[0m \u001b[38;5;28;01mdef\u001b[39;00m \u001b[38;5;21mcreate_scatter_plot_2D\u001b[39m(series_x, series_y, series_color\u001b[38;5;241m=\u001b[39m\u001b[38;5;28;01mNone\u001b[39;00m):\n\u001b[1;32m      3\u001b[0m     \u001b[38;5;28;01mreturn\u001b[39;00m go\u001b[38;5;241m.\u001b[39mScatter(x\u001b[38;5;241m=\u001b[39mseries_x, y\u001b[38;5;241m=\u001b[39mseries_y, marker_color \u001b[38;5;241m=\u001b[39m series_color, marker_mode\u001b[38;5;241m=\u001b[39m\u001b[38;5;124m'\u001b[39m\u001b[38;5;124mmarkers\u001b[39m\u001b[38;5;124m'\u001b[39m)\n\u001b[0;32m----> 4\u001b[0m \u001b[43mcreate_scatter_plot_2D\u001b[49m\u001b[43m(\u001b[49m\u001b[43mdata_2D\u001b[49m\u001b[43m[\u001b[49m\u001b[38;5;124;43m'\u001b[39;49m\u001b[38;5;124;43m0\u001b[39;49m\u001b[38;5;124;43m'\u001b[39;49m\u001b[43m]\u001b[49m\u001b[43m,\u001b[49m\u001b[43m \u001b[49m\u001b[43mdata_2D\u001b[49m\u001b[43m[\u001b[49m\u001b[38;5;124;43m'\u001b[39;49m\u001b[38;5;124;43m1\u001b[39;49m\u001b[38;5;124;43m'\u001b[39;49m\u001b[43m]\u001b[49m\u001b[43m,\u001b[49m\u001b[43m \u001b[49m\u001b[43mseries_color\u001b[49m\u001b[43m)\u001b[49m\n",
      "Input \u001b[0;32mIn [29]\u001b[0m, in \u001b[0;36mcreate_scatter_plot_2D\u001b[0;34m(series_x, series_y, series_color)\u001b[0m\n\u001b[1;32m      1\u001b[0m \u001b[38;5;28;01mdef\u001b[39;00m \u001b[38;5;21mcreate_scatter_plot_2D\u001b[39m(series_x, series_y, series_color\u001b[38;5;241m=\u001b[39m\u001b[38;5;28;01mNone\u001b[39;00m):\n\u001b[0;32m----> 3\u001b[0m     \u001b[38;5;28;01mreturn\u001b[39;00m \u001b[43mgo\u001b[49m\u001b[38;5;241;43m.\u001b[39;49m\u001b[43mScatter\u001b[49m\u001b[43m(\u001b[49m\u001b[43mx\u001b[49m\u001b[38;5;241;43m=\u001b[39;49m\u001b[43mseries_x\u001b[49m\u001b[43m,\u001b[49m\u001b[43m \u001b[49m\u001b[43my\u001b[49m\u001b[38;5;241;43m=\u001b[39;49m\u001b[43mseries_y\u001b[49m\u001b[43m,\u001b[49m\u001b[43m \u001b[49m\u001b[43mmarker_color\u001b[49m\u001b[43m \u001b[49m\u001b[38;5;241;43m=\u001b[39;49m\u001b[43m \u001b[49m\u001b[43mseries_color\u001b[49m\u001b[43m,\u001b[49m\u001b[43m \u001b[49m\u001b[43mmarker_mode\u001b[49m\u001b[38;5;241;43m=\u001b[39;49m\u001b[38;5;124;43m'\u001b[39;49m\u001b[38;5;124;43mmarkers\u001b[39;49m\u001b[38;5;124;43m'\u001b[39;49m\u001b[43m)\u001b[49m\n",
      "File \u001b[0;32m~/.local/lib/python3.10/site-packages/plotly/graph_objs/_scatter.py:3370\u001b[0m, in \u001b[0;36mScatter.__init__\u001b[0;34m(self, arg, cliponaxis, connectgaps, customdata, customdatasrc, dx, dy, error_x, error_y, fill, fillcolor, fillpattern, groupnorm, hoverinfo, hoverinfosrc, hoverlabel, hoveron, hovertemplate, hovertemplatesrc, hovertext, hovertextsrc, ids, idssrc, legendgroup, legendgrouptitle, legendrank, line, marker, meta, metasrc, mode, name, opacity, orientation, selected, selectedpoints, showlegend, stackgaps, stackgroup, stream, text, textfont, textposition, textpositionsrc, textsrc, texttemplate, texttemplatesrc, uid, uirevision, unselected, visible, x, x0, xaxis, xcalendar, xhoverformat, xperiod, xperiod0, xperiodalignment, xsrc, y, y0, yaxis, ycalendar, yhoverformat, yperiod, yperiod0, yperiodalignment, ysrc, **kwargs)\u001b[0m\n\u001b[1;32m   3366\u001b[0m arg\u001b[38;5;241m.\u001b[39mpop(\u001b[38;5;124m\"\u001b[39m\u001b[38;5;124mtype\u001b[39m\u001b[38;5;124m\"\u001b[39m, \u001b[38;5;28;01mNone\u001b[39;00m)\n\u001b[1;32m   3368\u001b[0m \u001b[38;5;66;03m# Process unknown kwargs\u001b[39;00m\n\u001b[1;32m   3369\u001b[0m \u001b[38;5;66;03m# ----------------------\u001b[39;00m\n\u001b[0;32m-> 3370\u001b[0m \u001b[38;5;28;43mself\u001b[39;49m\u001b[38;5;241;43m.\u001b[39;49m\u001b[43m_process_kwargs\u001b[49m\u001b[43m(\u001b[49m\u001b[38;5;241;43m*\u001b[39;49m\u001b[38;5;241;43m*\u001b[39;49m\u001b[38;5;28;43mdict\u001b[39;49m\u001b[43m(\u001b[49m\u001b[43marg\u001b[49m\u001b[43m,\u001b[49m\u001b[43m \u001b[49m\u001b[38;5;241;43m*\u001b[39;49m\u001b[38;5;241;43m*\u001b[39;49m\u001b[43mkwargs\u001b[49m\u001b[43m)\u001b[49m\u001b[43m)\u001b[49m\n\u001b[1;32m   3372\u001b[0m \u001b[38;5;66;03m# Reset skip_invalid\u001b[39;00m\n\u001b[1;32m   3373\u001b[0m \u001b[38;5;66;03m# ------------------\u001b[39;00m\n\u001b[1;32m   3374\u001b[0m \u001b[38;5;28mself\u001b[39m\u001b[38;5;241m.\u001b[39m_skip_invalid \u001b[38;5;241m=\u001b[39m \u001b[38;5;28;01mFalse\u001b[39;00m\n",
      "File \u001b[0;32m~/.local/lib/python3.10/site-packages/plotly/basedatatypes.py:4372\u001b[0m, in \u001b[0;36mBasePlotlyType._process_kwargs\u001b[0;34m(self, **kwargs)\u001b[0m\n\u001b[1;32m   4369\u001b[0m err \u001b[38;5;241m=\u001b[39m _check_path_in_prop_tree(\u001b[38;5;28mself\u001b[39m, k, error_cast\u001b[38;5;241m=\u001b[39m\u001b[38;5;167;01mValueError\u001b[39;00m)\n\u001b[1;32m   4370\u001b[0m \u001b[38;5;28;01mif\u001b[39;00m err \u001b[38;5;129;01mis\u001b[39;00m \u001b[38;5;28;01mNone\u001b[39;00m:\n\u001b[1;32m   4371\u001b[0m     \u001b[38;5;66;03m# e.g. underscore kwargs like marker_line_color\u001b[39;00m\n\u001b[0;32m-> 4372\u001b[0m     \u001b[38;5;28mself\u001b[39m[k] \u001b[38;5;241m=\u001b[39m v\n\u001b[1;32m   4373\u001b[0m \u001b[38;5;28;01melif\u001b[39;00m \u001b[38;5;129;01mnot\u001b[39;00m \u001b[38;5;28mself\u001b[39m\u001b[38;5;241m.\u001b[39m_validate:\n\u001b[1;32m   4374\u001b[0m     \u001b[38;5;66;03m# Set extra property as-is\u001b[39;00m\n\u001b[1;32m   4375\u001b[0m     \u001b[38;5;28mself\u001b[39m[k] \u001b[38;5;241m=\u001b[39m v\n",
      "File \u001b[0;32m~/.local/lib/python3.10/site-packages/plotly/basedatatypes.py:4899\u001b[0m, in \u001b[0;36mBasePlotlyType.__setitem__\u001b[0;34m(self, prop, value)\u001b[0m\n\u001b[1;32m   4895\u001b[0m     res \u001b[38;5;241m=\u001b[39m res[p]\n\u001b[1;32m   4897\u001b[0m res\u001b[38;5;241m.\u001b[39m_validate \u001b[38;5;241m=\u001b[39m \u001b[38;5;28mself\u001b[39m\u001b[38;5;241m.\u001b[39m_validate\n\u001b[0;32m-> 4899\u001b[0m res[prop[\u001b[38;5;241m-\u001b[39m\u001b[38;5;241m1\u001b[39m]] \u001b[38;5;241m=\u001b[39m value\n",
      "File \u001b[0;32m~/.local/lib/python3.10/site-packages/plotly/basedatatypes.py:4859\u001b[0m, in \u001b[0;36mBasePlotlyType.__setitem__\u001b[0;34m(self, prop, value)\u001b[0m\n\u001b[1;32m   4855\u001b[0m         \u001b[38;5;28mself\u001b[39m\u001b[38;5;241m.\u001b[39m_set_array_prop(prop, value)\n\u001b[1;32m   4857\u001b[0m     \u001b[38;5;66;03m# ### Handle simple property ###\u001b[39;00m\n\u001b[1;32m   4858\u001b[0m     \u001b[38;5;28;01melse\u001b[39;00m:\n\u001b[0;32m-> 4859\u001b[0m         \u001b[38;5;28;43mself\u001b[39;49m\u001b[38;5;241;43m.\u001b[39;49m\u001b[43m_set_prop\u001b[49m\u001b[43m(\u001b[49m\u001b[43mprop\u001b[49m\u001b[43m,\u001b[49m\u001b[43m \u001b[49m\u001b[43mvalue\u001b[49m\u001b[43m)\u001b[49m\n\u001b[1;32m   4860\u001b[0m \u001b[38;5;28;01melse\u001b[39;00m:\n\u001b[1;32m   4861\u001b[0m     \u001b[38;5;66;03m# Make sure properties dict is initialized\u001b[39;00m\n\u001b[1;32m   4862\u001b[0m     \u001b[38;5;28mself\u001b[39m\u001b[38;5;241m.\u001b[39m_init_props()\n",
      "File \u001b[0;32m~/.local/lib/python3.10/site-packages/plotly/basedatatypes.py:5203\u001b[0m, in \u001b[0;36mBasePlotlyType._set_prop\u001b[0;34m(self, prop, val)\u001b[0m\n\u001b[1;32m   5201\u001b[0m         \u001b[38;5;28;01mreturn\u001b[39;00m\n\u001b[1;32m   5202\u001b[0m     \u001b[38;5;28;01melse\u001b[39;00m:\n\u001b[0;32m-> 5203\u001b[0m         \u001b[38;5;28;01mraise\u001b[39;00m err\n\u001b[1;32m   5205\u001b[0m \u001b[38;5;66;03m# val is None\u001b[39;00m\n\u001b[1;32m   5206\u001b[0m \u001b[38;5;66;03m# -----------\u001b[39;00m\n\u001b[1;32m   5207\u001b[0m \u001b[38;5;28;01mif\u001b[39;00m val \u001b[38;5;129;01mis\u001b[39;00m \u001b[38;5;28;01mNone\u001b[39;00m:\n\u001b[1;32m   5208\u001b[0m     \u001b[38;5;66;03m# Check if we should send null update\u001b[39;00m\n",
      "File \u001b[0;32m~/.local/lib/python3.10/site-packages/plotly/basedatatypes.py:5198\u001b[0m, in \u001b[0;36mBasePlotlyType._set_prop\u001b[0;34m(self, prop, val)\u001b[0m\n\u001b[1;32m   5195\u001b[0m validator \u001b[38;5;241m=\u001b[39m \u001b[38;5;28mself\u001b[39m\u001b[38;5;241m.\u001b[39m_get_validator(prop)\n\u001b[1;32m   5197\u001b[0m \u001b[38;5;28;01mtry\u001b[39;00m:\n\u001b[0;32m-> 5198\u001b[0m     val \u001b[38;5;241m=\u001b[39m \u001b[43mvalidator\u001b[49m\u001b[38;5;241;43m.\u001b[39;49m\u001b[43mvalidate_coerce\u001b[49m\u001b[43m(\u001b[49m\u001b[43mval\u001b[49m\u001b[43m)\u001b[49m\n\u001b[1;32m   5199\u001b[0m \u001b[38;5;28;01mexcept\u001b[39;00m \u001b[38;5;167;01mValueError\u001b[39;00m \u001b[38;5;28;01mas\u001b[39;00m err:\n\u001b[1;32m   5200\u001b[0m     \u001b[38;5;28;01mif\u001b[39;00m \u001b[38;5;28mself\u001b[39m\u001b[38;5;241m.\u001b[39m_skip_invalid:\n",
      "File \u001b[0;32m~/.local/lib/python3.10/site-packages/_plotly_utils/basevalidators.py:1355\u001b[0m, in \u001b[0;36mColorValidator.validate_coerce\u001b[0;34m(self, v, should_raise)\u001b[0m\n\u001b[1;32m   1352\u001b[0m invalid_els \u001b[38;5;241m=\u001b[39m \u001b[38;5;28mself\u001b[39m\u001b[38;5;241m.\u001b[39mfind_invalid_els(v, validated_v)\n\u001b[1;32m   1354\u001b[0m \u001b[38;5;28;01mif\u001b[39;00m invalid_els \u001b[38;5;129;01mand\u001b[39;00m should_raise:\n\u001b[0;32m-> 1355\u001b[0m     \u001b[38;5;28;43mself\u001b[39;49m\u001b[38;5;241;43m.\u001b[39;49m\u001b[43mraise_invalid_elements\u001b[49m\u001b[43m(\u001b[49m\u001b[43minvalid_els\u001b[49m\u001b[43m)\u001b[49m\n\u001b[1;32m   1357\u001b[0m \u001b[38;5;66;03m# ### Check that elements have valid colors types ###\u001b[39;00m\n\u001b[1;32m   1358\u001b[0m \u001b[38;5;28;01melif\u001b[39;00m \u001b[38;5;28mself\u001b[39m\u001b[38;5;241m.\u001b[39mnumbers_allowed() \u001b[38;5;129;01mor\u001b[39;00m invalid_els:\n",
      "File \u001b[0;32m~/.local/lib/python3.10/site-packages/_plotly_utils/basevalidators.py:304\u001b[0m, in \u001b[0;36mBaseValidator.raise_invalid_elements\u001b[0;34m(self, invalid_els)\u001b[0m\n\u001b[1;32m    302\u001b[0m     \u001b[38;5;28;01mdef\u001b[39;00m \u001b[38;5;21mraise_invalid_elements\u001b[39m(\u001b[38;5;28mself\u001b[39m, invalid_els):\n\u001b[1;32m    303\u001b[0m         \u001b[38;5;28;01mif\u001b[39;00m invalid_els:\n\u001b[0;32m--> 304\u001b[0m             \u001b[38;5;28;01mraise\u001b[39;00m \u001b[38;5;167;01mValueError\u001b[39;00m(\n\u001b[1;32m    305\u001b[0m                 \u001b[38;5;124;03m\"\"\"\u001b[39;00m\n\u001b[1;32m    306\u001b[0m \u001b[38;5;124;03m    Invalid element(s) received for the '{name}' property of {pname}\u001b[39;00m\n\u001b[1;32m    307\u001b[0m \u001b[38;5;124;03m        Invalid elements include: {invalid}\u001b[39;00m\n\u001b[1;32m    308\u001b[0m \n\u001b[1;32m    309\u001b[0m \u001b[38;5;124;03m{valid_clr_desc}\"\"\"\u001b[39;00m\u001b[38;5;241m.\u001b[39mformat(\n\u001b[1;32m    310\u001b[0m                     name\u001b[38;5;241m=\u001b[39m\u001b[38;5;28mself\u001b[39m\u001b[38;5;241m.\u001b[39mplotly_name,\n\u001b[1;32m    311\u001b[0m                     pname\u001b[38;5;241m=\u001b[39m\u001b[38;5;28mself\u001b[39m\u001b[38;5;241m.\u001b[39mparent_name,\n\u001b[1;32m    312\u001b[0m                     invalid\u001b[38;5;241m=\u001b[39minvalid_els[:\u001b[38;5;241m10\u001b[39m],\n\u001b[1;32m    313\u001b[0m                     valid_clr_desc\u001b[38;5;241m=\u001b[39m\u001b[38;5;28mself\u001b[39m\u001b[38;5;241m.\u001b[39mdescription(),\n\u001b[1;32m    314\u001b[0m                 )\n\u001b[1;32m    315\u001b[0m             )\n",
      "\u001b[0;31mValueError\u001b[0m: \n    Invalid element(s) received for the 'color' property of scatter.marker\n        Invalid elements include: ['INFO', 'INFO', 'INFO', 'INFO', 'INFO', 'INFO', 'INFO', 'INFO', 'INFO', 'INFO']\n\n    The 'color' property is a color and may be specified as:\n      - A hex string (e.g. '#ff0000')\n      - An rgb/rgba string (e.g. 'rgb(255,0,0)')\n      - An hsl/hsla string (e.g. 'hsl(0,100%,50%)')\n      - An hsv/hsva string (e.g. 'hsv(0,100%,100%)')\n      - A named CSS color:\n            aliceblue, antiquewhite, aqua, aquamarine, azure,\n            beige, bisque, black, blanchedalmond, blue,\n            blueviolet, brown, burlywood, cadetblue,\n            chartreuse, chocolate, coral, cornflowerblue,\n            cornsilk, crimson, cyan, darkblue, darkcyan,\n            darkgoldenrod, darkgray, darkgrey, darkgreen,\n            darkkhaki, darkmagenta, darkolivegreen, darkorange,\n            darkorchid, darkred, darksalmon, darkseagreen,\n            darkslateblue, darkslategray, darkslategrey,\n            darkturquoise, darkviolet, deeppink, deepskyblue,\n            dimgray, dimgrey, dodgerblue, firebrick,\n            floralwhite, forestgreen, fuchsia, gainsboro,\n            ghostwhite, gold, goldenrod, gray, grey, green,\n            greenyellow, honeydew, hotpink, indianred, indigo,\n            ivory, khaki, lavender, lavenderblush, lawngreen,\n            lemonchiffon, lightblue, lightcoral, lightcyan,\n            lightgoldenrodyellow, lightgray, lightgrey,\n            lightgreen, lightpink, lightsalmon, lightseagreen,\n            lightskyblue, lightslategray, lightslategrey,\n            lightsteelblue, lightyellow, lime, limegreen,\n            linen, magenta, maroon, mediumaquamarine,\n            mediumblue, mediumorchid, mediumpurple,\n            mediumseagreen, mediumslateblue, mediumspringgreen,\n            mediumturquoise, mediumvioletred, midnightblue,\n            mintcream, mistyrose, moccasin, navajowhite, navy,\n            oldlace, olive, olivedrab, orange, orangered,\n            orchid, palegoldenrod, palegreen, paleturquoise,\n            palevioletred, papayawhip, peachpuff, peru, pink,\n            plum, powderblue, purple, red, rosybrown,\n            royalblue, rebeccapurple, saddlebrown, salmon,\n            sandybrown, seagreen, seashell, sienna, silver,\n            skyblue, slateblue, slategray, slategrey, snow,\n            springgreen, steelblue, tan, teal, thistle, tomato,\n            turquoise, violet, wheat, white, whitesmoke,\n            yellow, yellowgreen\n      - A number that will be interpreted as a color\n        according to scatter.marker.colorscale\n      - A list or array of any of the above"
     ]
    }
   ],
   "source": [
    "def create_scatter_plot_2D(series_x, series_y, series_color=None):\n",
    "    \n",
    "    return go.Scatter(x=series_x, y=series_y, marker_color = series_color, marker_mode='markers')\n",
    "create_scatter_plot_2D(data_2D['0'], data_2D['1'], series_color)"
   ]
  },
  {
   "cell_type": "code",
   "execution_count": 63,
   "id": "bc1dd711",
   "metadata": {},
   "outputs": [],
   "source": [
    "def create_scatter_line_2D_3D_color_scale(series_x, series_y, series_z=None, series_color=None,\n",
    "                                          save_path=None, line=True):\n",
    "    \n",
    "    \n",
    "    mode = 'markers'\n",
    "    line=None\n",
    "    if line:\n",
    "        mode = f'lines+{mode}'\n",
    "        line = {'color': 'grey'}\n",
    "        \n",
    "        \n",
    "    color_bar_name = 'scale_values'\n",
    "\n",
    "    # series color\n",
    "    if series_color is not None:\n",
    "\n",
    "        if type(series_color) is pd.core.series.Series:\n",
    "            color_bar_name = series_color.name\n",
    "            series_color = np.array(series_color)\n",
    "\n",
    "        elif type(series_color) is list:\n",
    "            series_color = np.array(series_color)\n",
    "\n",
    "        series_color = LabelEncoder().fit_transform(series_color)\n",
    "\n",
    "        dict_marker = dict(cmax=max(series_color), cmin=min(series_color),\n",
    "                           color=series_color, symbol=series_color, colorscale='Portland',\n",
    "                           colorbar=dict(title=color_bar_name))\n",
    "    else:\n",
    "        dict_marker = dict()\n",
    "\n",
    "    # series z\n",
    "   \n",
    "    if series_z is None:\n",
    "        dict_marker['size'] = 8\n",
    "        scatter = go.Scatter(x=series_x, y=series_y, mode=mode, marker=dict_marker,\n",
    "                             line=line, )\n",
    "    else:\n",
    "        dict_marker['size'] = 3\n",
    "        scatter = go.Scatter3d(x=series_x, y=series_y, z=series_z, mode=mode, marker=dict_marker,\n",
    "                                   line=line, )\n",
    "\n",
    "    return scatter"
   ]
  },
  {
   "cell_type": "code",
   "execution_count": 59,
   "id": "7e74faf5",
   "metadata": {},
   "outputs": [],
   "source": [
    "scatter_ts = create_scatter_line_2D_3D_color_scale(timestamp_series, data_1D['0'], series_color=series_color)"
   ]
  },
  {
   "cell_type": "code",
   "execution_count": 64,
   "id": "ab612a49",
   "metadata": {},
   "outputs": [],
   "source": [
    "scatter_2D = create_scatter_line_2D_3D_color_scale(data_2D['0'],data_2D['1'], series_color=series_color,line=False)"
   ]
  },
  {
   "cell_type": "code",
   "execution_count": 66,
   "id": "5dec278d",
   "metadata": {},
   "outputs": [],
   "source": [
    "sub_fig = make_subplots(2,1, horizontal_spacing=0.1)"
   ]
  },
  {
   "cell_type": "code",
   "execution_count": 67,
   "id": "6c8c8cbe",
   "metadata": {},
   "outputs": [
    {
     "data": {
      "application/vnd.plotly.v1+json": {
       "config": {
        "plotlyServerURL": "https://plot.ly"
       },
       "data": [
        {
         "line": {
          "color": "grey"
         },
         "marker": {
          "cmax": 2,
          "cmin": 0,
          "color": [
           1,
           1,
           1,
           1,
           1,
           1,
           1,
           1,
           1,
           1,
           1,
           1,
           1,
           2,
           2,
           2,
           2,
           2,
           2,
           2,
           1,
           1,
           1,
           1,
           2,
           2,
           2,
           1,
           1,
           1,
           2,
           2,
           2,
           2,
           2,
           2,
           2,
           1,
           2,
           2,
           2,
           2,
           2,
           2,
           2,
           2,
           1,
           1,
           1,
           1,
           1,
           1,
           1,
           1,
           1,
           1,
           1,
           1,
           1,
           1,
           1,
           1,
           1,
           1,
           1,
           1,
           1,
           1,
           1,
           0,
           0,
           0,
           0,
           0,
           0,
           0,
           0,
           0,
           0,
           0,
           0,
           0,
           0,
           0,
           0,
           0,
           0,
           0,
           0,
           0,
           0,
           0,
           0,
           0,
           0,
           0,
           0,
           0,
           0,
           0,
           0,
           0,
           0,
           0,
           0,
           0,
           0,
           1,
           1,
           1,
           1,
           1,
           1,
           1,
           1,
           1,
           1,
           1,
           1,
           1
          ],
          "colorbar": {
           "title": {
            "text": "severity"
           }
          },
          "colorscale": [
           [
            0,
            "rgb(12,51,131)"
           ],
           [
            0.25,
            "rgb(10,136,186)"
           ],
           [
            0.5,
            "rgb(242,211,56)"
           ],
           [
            0.75,
            "rgb(242,143,56)"
           ],
           [
            1,
            "rgb(217,30,30)"
           ]
          ],
          "size": 8,
          "symbol": [
           1,
           1,
           1,
           1,
           1,
           1,
           1,
           1,
           1,
           1,
           1,
           1,
           1,
           2,
           2,
           2,
           2,
           2,
           2,
           2,
           1,
           1,
           1,
           1,
           2,
           2,
           2,
           1,
           1,
           1,
           2,
           2,
           2,
           2,
           2,
           2,
           2,
           1,
           2,
           2,
           2,
           2,
           2,
           2,
           2,
           2,
           1,
           1,
           1,
           1,
           1,
           1,
           1,
           1,
           1,
           1,
           1,
           1,
           1,
           1,
           1,
           1,
           1,
           1,
           1,
           1,
           1,
           1,
           1,
           0,
           0,
           0,
           0,
           0,
           0,
           0,
           0,
           0,
           0,
           0,
           0,
           0,
           0,
           0,
           0,
           0,
           0,
           0,
           0,
           0,
           0,
           0,
           0,
           0,
           0,
           0,
           0,
           0,
           0,
           0,
           0,
           0,
           0,
           0,
           0,
           0,
           0,
           1,
           1,
           1,
           1,
           1,
           1,
           1,
           1,
           1,
           1,
           1,
           1,
           1
          ]
         },
         "mode": "lines+markers",
         "type": "scatter",
         "x": [
          "2022-06-16 12:20:10.993737+00:00",
          "2022-06-16 12:20:25.990961+00:00",
          "2022-06-16 12:20:41.021435+00:00",
          "2022-06-16 12:20:55.988691+00:00",
          "2022-06-16 12:21:10.992139+00:00",
          "2022-06-16 12:21:25.990180+00:00",
          "2022-06-16 12:21:40.982512+00:00",
          "2022-06-16 12:21:56.003001+00:00",
          "2022-06-16 12:22:10.992292+00:00",
          "2022-06-16 12:22:25.993974+00:00",
          "2022-06-16 12:22:40.988481+00:00",
          "2022-06-16 12:22:55.987677+00:00",
          "2022-06-16 12:23:10.984346+00:00",
          "2022-06-16 12:23:25.994201+00:00",
          "2022-06-16 12:23:40.994959+00:00",
          "2022-06-16 12:23:55.993895+00:00",
          "2022-06-16 12:24:10.992194+00:00",
          "2022-06-16 12:24:25.983197+00:00",
          "2022-06-16 12:24:40.980962+00:00",
          "2022-06-16 12:24:55.981661+00:00",
          "2022-06-16 12:25:10.976160+00:00",
          "2022-06-16 12:25:25.984557+00:00",
          "2022-06-16 12:25:40.994155+00:00",
          "2022-06-16 12:25:55.974030+00:00",
          "2022-06-16 12:26:10.975829+00:00",
          "2022-06-16 12:26:25.981940+00:00",
          "2022-06-16 12:26:40.979382+00:00",
          "2022-06-16 12:26:55.985328+00:00",
          "2022-06-16 12:27:10.980079+00:00",
          "2022-06-16 12:27:25.984619+00:00",
          "2022-06-16 12:27:40.981062+00:00",
          "2022-06-16 12:27:55.973703+00:00",
          "2022-06-16 12:28:11.017848+00:00",
          "2022-06-16 12:28:25.976659+00:00",
          "2022-06-16 12:28:40.966903+00:00",
          "2022-06-16 12:28:55.978130+00:00",
          "2022-06-16 12:29:10.974750+00:00",
          "2022-06-16 12:29:25.973987+00:00",
          "2022-06-16 12:29:40.971503+00:00",
          "2022-06-16 12:29:55.983460+00:00",
          "2022-06-16 12:30:10.969369+00:00",
          "2022-06-16 12:30:25.966065+00:00",
          "2022-06-16 12:30:40.970107+00:00",
          "2022-06-16 12:30:55.977200+00:00",
          "2022-06-16 12:31:10.970366+00:00",
          "2022-06-16 12:31:25.961090+00:00",
          "2022-06-16 12:31:40.966502+00:00",
          "2022-06-16 12:31:55.963356+00:00",
          "2022-06-16 12:32:10.962672+00:00",
          "2022-06-16 12:32:25.967312+00:00",
          "2022-06-16 12:32:40.964128+00:00",
          "2022-06-16 12:32:55.963441+00:00",
          "2022-06-16 12:33:10.962129+00:00",
          "2022-06-16 12:33:25.968640+00:00",
          "2022-06-16 12:33:40.963362+00:00",
          "2022-06-16 12:33:55.971821+00:00",
          "2022-06-16 12:34:10.962403+00:00",
          "2022-06-16 12:34:25.966751+00:00",
          "2022-06-16 12:34:40.957350+00:00",
          "2022-06-16 12:34:55.958417+00:00",
          "2022-06-16 12:35:10.962399+00:00",
          "2022-06-16 12:35:25.962698+00:00",
          "2022-06-16 12:35:40.952704+00:00",
          "2022-06-16 12:35:55.960180+00:00",
          "2022-06-16 12:36:10.951095+00:00",
          "2022-06-16 12:36:25.958344+00:00",
          "2022-06-16 12:36:40.974172+00:00",
          "2022-06-16 12:36:55.954510+00:00",
          "2022-06-16 12:37:10.960567+00:00",
          "2022-06-16 12:37:25.956129+00:00",
          "2022-06-16 12:37:40.949835+00:00",
          "2022-06-16 12:37:55.962322+00:00",
          "2022-06-16 12:38:10.955415+00:00",
          "2022-06-16 12:38:25.949963+00:00",
          "2022-06-16 12:38:40.955743+00:00",
          "2022-06-16 12:38:55.952394+00:00",
          "2022-06-16 12:39:10.947063+00:00",
          "2022-06-16 12:39:25.951434+00:00",
          "2022-06-16 12:39:40.950639+00:00",
          "2022-06-16 12:39:55.945213+00:00",
          "2022-06-16 12:40:10.952315+00:00",
          "2022-06-16 12:40:25.944381+00:00",
          "2022-06-16 12:40:40.947248+00:00",
          "2022-06-16 12:40:55.954404+00:00",
          "2022-06-16 12:41:10.942891+00:00",
          "2022-06-16 12:41:25.958858+00:00",
          "2022-06-16 12:41:40.955304+00:00",
          "2022-06-16 12:41:55.960371+00:00",
          "2022-06-16 12:42:10.970880+00:00",
          "2022-06-16 12:42:25.943995+00:00",
          "2022-06-16 12:42:40.941667+00:00",
          "2022-06-16 12:42:55.940470+00:00",
          "2022-06-16 12:43:10.937420+00:00",
          "2022-06-16 12:43:25.949198+00:00",
          "2022-06-16 12:43:40.939761+00:00",
          "2022-06-16 12:43:55.936090+00:00",
          "2022-06-16 12:44:10.941839+00:00",
          "2022-06-16 12:44:25.936187+00:00",
          "2022-06-16 12:44:40.938617+00:00",
          "2022-06-16 12:44:55.952454+00:00",
          "2022-06-16 12:45:10.933794+00:00",
          "2022-06-16 12:45:25.934122+00:00",
          "2022-06-16 12:45:40.936473+00:00",
          "2022-06-16 12:45:55.945096+00:00",
          "2022-06-16 12:46:10.941472+00:00",
          "2022-06-16 12:46:25.955093+00:00",
          "2022-06-16 12:46:40.930280+00:00",
          "2022-06-16 12:46:55.940749+00:00",
          "2022-06-16 12:47:10.932040+00:00",
          "2022-06-16 12:47:25.935389+00:00",
          "2022-06-16 12:47:40.931700+00:00",
          "2022-06-16 12:47:55.927519+00:00",
          "2022-06-16 12:48:10.930255+00:00",
          "2022-06-16 12:48:25.931700+00:00",
          "2022-06-16 12:48:40.927822+00:00",
          "2022-06-16 12:48:55.942189+00:00",
          "2022-06-16 12:49:10.936065+00:00",
          "2022-06-16 12:49:25.928817+00:00",
          "2022-06-16 12:49:40.925928+00:00",
          "2022-06-16 12:49:55.923475+00:00"
         ],
         "xaxis": "x",
         "y": [
          34.737118,
          35.66602,
          13.312069,
          15.760091,
          16.723112,
          35.286564,
          13.92338,
          13.839426,
          13.395313,
          -7.877904,
          -16.922554,
          -7.8348727,
          -8.016755,
          5.3545313,
          -7.961464,
          23.868097,
          5.739012,
          5.330615,
          -2.1326964,
          23.618587,
          23.46906,
          -2.263636,
          -17.200125,
          5.507206,
          23.368887,
          24.098228,
          24.367716,
          5.270538,
          23.607676,
          5.642005,
          23.79095,
          -7.833262,
          5.3620343,
          23.727705,
          24.334595,
          5.183078,
          23.554388,
          23.833311,
          24.309483,
          -7.193129,
          35.343895,
          15.030993,
          16.901354,
          35.422832,
          16.169477,
          13.9532795,
          13.840495,
          35.12045,
          14.487456,
          14.2987175,
          16.002735,
          35.558872,
          16.163897,
          34.786797,
          13.655016,
          15.08811,
          16.502462,
          15.226125,
          35.745575,
          15.141155,
          16.574373,
          13.64691,
          13.3771515,
          -17.305553,
          -8.950913,
          -17.007698,
          -7.097745,
          -17.155697,
          -7.406967,
          -7.1804805,
          -8.727975,
          -8.845287,
          -16.924356,
          -8.626069,
          -9.050144,
          -8.449343,
          -8.41486,
          -2.3628151,
          -3.8564475,
          -8.973619,
          -3.4569225,
          -3.524694,
          -3.6579053,
          -7.2620926,
          5.401274,
          -2.4666152,
          -2.5613482,
          -17.289936,
          5.606963,
          -3.395458,
          -3.2719667,
          -8.965107,
          -2.535612,
          -3.4918368,
          5.5473604,
          -17.215574,
          -3.7000551,
          -3.5697243,
          -3.2468774,
          -9.127564,
          -3.7557106,
          35.218468,
          35.20679,
          13.279699,
          35.592316,
          16.253456,
          16.862207,
          15.144348,
          16.427166,
          14.419769,
          13.759831,
          15.602526,
          16.855442,
          16.793375,
          14.533137,
          35.690693,
          15.074228,
          35.22157,
          14.708056,
          34.98395
         ],
         "yaxis": "y"
        },
        {
         "marker": {
          "cmax": 2,
          "cmin": 0,
          "color": [
           1,
           1,
           1,
           1,
           1,
           1,
           1,
           1,
           1,
           1,
           1,
           1,
           1,
           2,
           2,
           2,
           2,
           2,
           2,
           2,
           1,
           1,
           1,
           1,
           2,
           2,
           2,
           1,
           1,
           1,
           2,
           2,
           2,
           2,
           2,
           2,
           2,
           1,
           2,
           2,
           2,
           2,
           2,
           2,
           2,
           2,
           1,
           1,
           1,
           1,
           1,
           1,
           1,
           1,
           1,
           1,
           1,
           1,
           1,
           1,
           1,
           1,
           1,
           1,
           1,
           1,
           1,
           1,
           1,
           0,
           0,
           0,
           0,
           0,
           0,
           0,
           0,
           0,
           0,
           0,
           0,
           0,
           0,
           0,
           0,
           0,
           0,
           0,
           0,
           0,
           0,
           0,
           0,
           0,
           0,
           0,
           0,
           0,
           0,
           0,
           0,
           0,
           0,
           0,
           0,
           0,
           0,
           1,
           1,
           1,
           1,
           1,
           1,
           1,
           1,
           1,
           1,
           1,
           1,
           1
          ],
          "colorbar": {
           "title": {
            "text": "severity"
           }
          },
          "colorscale": [
           [
            0,
            "rgb(12,51,131)"
           ],
           [
            0.25,
            "rgb(10,136,186)"
           ],
           [
            0.5,
            "rgb(242,211,56)"
           ],
           [
            0.75,
            "rgb(242,143,56)"
           ],
           [
            1,
            "rgb(217,30,30)"
           ]
          ],
          "size": 8,
          "symbol": [
           1,
           1,
           1,
           1,
           1,
           1,
           1,
           1,
           1,
           1,
           1,
           1,
           1,
           2,
           2,
           2,
           2,
           2,
           2,
           2,
           1,
           1,
           1,
           1,
           2,
           2,
           2,
           1,
           1,
           1,
           2,
           2,
           2,
           2,
           2,
           2,
           2,
           1,
           2,
           2,
           2,
           2,
           2,
           2,
           2,
           2,
           1,
           1,
           1,
           1,
           1,
           1,
           1,
           1,
           1,
           1,
           1,
           1,
           1,
           1,
           1,
           1,
           1,
           1,
           1,
           1,
           1,
           1,
           1,
           0,
           0,
           0,
           0,
           0,
           0,
           0,
           0,
           0,
           0,
           0,
           0,
           0,
           0,
           0,
           0,
           0,
           0,
           0,
           0,
           0,
           0,
           0,
           0,
           0,
           0,
           0,
           0,
           0,
           0,
           0,
           0,
           0,
           0,
           0,
           0,
           0,
           0,
           1,
           1,
           1,
           1,
           1,
           1,
           1,
           1,
           1,
           1,
           1,
           1,
           1
          ]
         },
         "mode": "markers",
         "type": "scatter",
         "x": [
          26.4732,
          26.563128,
          15.145804,
          14.871727,
          14.204561,
          27.32224,
          15.662052,
          15.862557,
          15.276675,
          -7.6447186,
          -5.6270905,
          -7.7577724,
          -7.720159,
          2.5900838,
          -7.581536,
          4.9925613,
          2.3844109,
          2.011802,
          1.7198664,
          5.147574,
          5.2347894,
          1.8467052,
          -5.9048195,
          2.0345116,
          5.341781,
          4.875093,
          4.509145,
          2.0248938,
          5.1633577,
          2.3628042,
          4.772589,
          -7.6983013,
          2.2755916,
          4.9297023,
          4.4781876,
          2.1352878,
          5.025069,
          4.848893,
          4.389192,
          -8.397084,
          26.845055,
          15.737752,
          14.303211,
          27.167479,
          14.844701,
          15.409561,
          16.032528,
          27.227024,
          15.242386,
          16.024517,
          14.886222,
          26.917305,
          14.832522,
          26.493805,
          15.771374,
          15.844333,
          13.975339,
          15.603159,
          27.06914,
          15.940675,
          14.015942,
          15.758311,
          15.591264,
          -5.744791,
          -8.950419,
          -5.7443137,
          -8.484316,
          -5.5594764,
          -8.330136,
          -8.474827,
          -8.900816,
          -8.776862,
          -5.449105,
          -9.05337,
          -9.122835,
          -8.644528,
          -8.613159,
          1.7853535,
          0.4766835,
          -8.918579,
          0.104550645,
          0.23169418,
          0.29976964,
          -8.438175,
          2.3263097,
          1.5801208,
          1.6786486,
          -5.732839,
          2.4777143,
          0.08015175,
          -0.013551191,
          -8.978437,
          1.5457355,
          0.25845397,
          2.4272022,
          -5.6054792,
          0.26723567,
          0.29696032,
          0.42923328,
          -9.152483,
          0.37701043,
          26.767536,
          26.447355,
          15.4152155,
          27.398212,
          14.751193,
          14.374966,
          15.69752,
          13.986603,
          15.902134,
          15.82795,
          15.116343,
          14.323406,
          14.250787,
          16.036364,
          27.016798,
          15.795841,
          27.149965,
          15.27958,
          26.607504
         ],
         "xaxis": "x2",
         "y": [
          11.040215,
          10.795956,
          5.7177978,
          7.014143,
          7.3003035,
          11.033834,
          5.759622,
          5.951032,
          5.5578084,
          6.476808,
          3.2864575,
          6.443493,
          6.490605,
          -2.0308266,
          6.6720114,
          1.45011,
          -2.0041926,
          -2.2999158,
          4.8659973,
          1.2448028,
          1.3322791,
          4.7679257,
          3.0579133,
          -2.1681151,
          1.4411922,
          1.0644441,
          1.5711133,
          -2.3007727,
          1.342926,
          -2.408491,
          1.2765821,
          6.534231,
          -2.0099242,
          1.543488,
          1.3976604,
          -2.2051084,
          1.4130443,
          1.354494,
          1.3502271,
          5.8566885,
          11.28727,
          7.2365522,
          7.1958647,
          10.823278,
          7.6034164,
          5.8794785,
          5.9137154,
          11.173353,
          6.4155946,
          6.2601466,
          7.021151,
          10.954329,
          7.54317,
          10.863392,
          5.640814,
          7.1452575,
          7.5352387,
          7.35197,
          10.86359,
          7.2701426,
          7.528339,
          5.7159123,
          5.543746,
          3.0152595,
          6.529934,
          3.2314913,
          5.982852,
          3.2072856,
          5.9950867,
          5.904895,
          6.7163124,
          6.4747767,
          3.0900042,
          6.415447,
          6.556248,
          6.6694345,
          6.4437466,
          4.9777074,
          5.029857,
          6.213347,
          5.2790213,
          5.3963184,
          5.420568,
          5.9946837,
          -2.0102143,
          5.007736,
          4.8666205,
          3.0471375,
          -2.1516397,
          5.180399,
          5.336871,
          6.3262024,
          4.9632726,
          5.4109983,
          -1.9375253,
          3.341215,
          4.9393916,
          5.133807,
          5.2027326,
          6.2869687,
          5.2854505,
          11.39916,
          10.855855,
          5.5300655,
          10.967636,
          7.551471,
          7.218853,
          7.058302,
          7.557027,
          6.315069,
          5.6530275,
          6.988912,
          7.1486516,
          7.2002625,
          6.5225577,
          10.913266,
          7.202504,
          10.789955,
          6.4476213,
          11.030767
         ],
         "yaxis": "y2"
        }
       ],
       "layout": {
        "template": {
         "data": {
          "bar": [
           {
            "error_x": {
             "color": "#2a3f5f"
            },
            "error_y": {
             "color": "#2a3f5f"
            },
            "marker": {
             "line": {
              "color": "#E5ECF6",
              "width": 0.5
             },
             "pattern": {
              "fillmode": "overlay",
              "size": 10,
              "solidity": 0.2
             }
            },
            "type": "bar"
           }
          ],
          "barpolar": [
           {
            "marker": {
             "line": {
              "color": "#E5ECF6",
              "width": 0.5
             },
             "pattern": {
              "fillmode": "overlay",
              "size": 10,
              "solidity": 0.2
             }
            },
            "type": "barpolar"
           }
          ],
          "carpet": [
           {
            "aaxis": {
             "endlinecolor": "#2a3f5f",
             "gridcolor": "white",
             "linecolor": "white",
             "minorgridcolor": "white",
             "startlinecolor": "#2a3f5f"
            },
            "baxis": {
             "endlinecolor": "#2a3f5f",
             "gridcolor": "white",
             "linecolor": "white",
             "minorgridcolor": "white",
             "startlinecolor": "#2a3f5f"
            },
            "type": "carpet"
           }
          ],
          "choropleth": [
           {
            "colorbar": {
             "outlinewidth": 0,
             "ticks": ""
            },
            "type": "choropleth"
           }
          ],
          "contour": [
           {
            "colorbar": {
             "outlinewidth": 0,
             "ticks": ""
            },
            "colorscale": [
             [
              0,
              "#0d0887"
             ],
             [
              0.1111111111111111,
              "#46039f"
             ],
             [
              0.2222222222222222,
              "#7201a8"
             ],
             [
              0.3333333333333333,
              "#9c179e"
             ],
             [
              0.4444444444444444,
              "#bd3786"
             ],
             [
              0.5555555555555556,
              "#d8576b"
             ],
             [
              0.6666666666666666,
              "#ed7953"
             ],
             [
              0.7777777777777778,
              "#fb9f3a"
             ],
             [
              0.8888888888888888,
              "#fdca26"
             ],
             [
              1,
              "#f0f921"
             ]
            ],
            "type": "contour"
           }
          ],
          "contourcarpet": [
           {
            "colorbar": {
             "outlinewidth": 0,
             "ticks": ""
            },
            "type": "contourcarpet"
           }
          ],
          "heatmap": [
           {
            "colorbar": {
             "outlinewidth": 0,
             "ticks": ""
            },
            "colorscale": [
             [
              0,
              "#0d0887"
             ],
             [
              0.1111111111111111,
              "#46039f"
             ],
             [
              0.2222222222222222,
              "#7201a8"
             ],
             [
              0.3333333333333333,
              "#9c179e"
             ],
             [
              0.4444444444444444,
              "#bd3786"
             ],
             [
              0.5555555555555556,
              "#d8576b"
             ],
             [
              0.6666666666666666,
              "#ed7953"
             ],
             [
              0.7777777777777778,
              "#fb9f3a"
             ],
             [
              0.8888888888888888,
              "#fdca26"
             ],
             [
              1,
              "#f0f921"
             ]
            ],
            "type": "heatmap"
           }
          ],
          "heatmapgl": [
           {
            "colorbar": {
             "outlinewidth": 0,
             "ticks": ""
            },
            "colorscale": [
             [
              0,
              "#0d0887"
             ],
             [
              0.1111111111111111,
              "#46039f"
             ],
             [
              0.2222222222222222,
              "#7201a8"
             ],
             [
              0.3333333333333333,
              "#9c179e"
             ],
             [
              0.4444444444444444,
              "#bd3786"
             ],
             [
              0.5555555555555556,
              "#d8576b"
             ],
             [
              0.6666666666666666,
              "#ed7953"
             ],
             [
              0.7777777777777778,
              "#fb9f3a"
             ],
             [
              0.8888888888888888,
              "#fdca26"
             ],
             [
              1,
              "#f0f921"
             ]
            ],
            "type": "heatmapgl"
           }
          ],
          "histogram": [
           {
            "marker": {
             "pattern": {
              "fillmode": "overlay",
              "size": 10,
              "solidity": 0.2
             }
            },
            "type": "histogram"
           }
          ],
          "histogram2d": [
           {
            "colorbar": {
             "outlinewidth": 0,
             "ticks": ""
            },
            "colorscale": [
             [
              0,
              "#0d0887"
             ],
             [
              0.1111111111111111,
              "#46039f"
             ],
             [
              0.2222222222222222,
              "#7201a8"
             ],
             [
              0.3333333333333333,
              "#9c179e"
             ],
             [
              0.4444444444444444,
              "#bd3786"
             ],
             [
              0.5555555555555556,
              "#d8576b"
             ],
             [
              0.6666666666666666,
              "#ed7953"
             ],
             [
              0.7777777777777778,
              "#fb9f3a"
             ],
             [
              0.8888888888888888,
              "#fdca26"
             ],
             [
              1,
              "#f0f921"
             ]
            ],
            "type": "histogram2d"
           }
          ],
          "histogram2dcontour": [
           {
            "colorbar": {
             "outlinewidth": 0,
             "ticks": ""
            },
            "colorscale": [
             [
              0,
              "#0d0887"
             ],
             [
              0.1111111111111111,
              "#46039f"
             ],
             [
              0.2222222222222222,
              "#7201a8"
             ],
             [
              0.3333333333333333,
              "#9c179e"
             ],
             [
              0.4444444444444444,
              "#bd3786"
             ],
             [
              0.5555555555555556,
              "#d8576b"
             ],
             [
              0.6666666666666666,
              "#ed7953"
             ],
             [
              0.7777777777777778,
              "#fb9f3a"
             ],
             [
              0.8888888888888888,
              "#fdca26"
             ],
             [
              1,
              "#f0f921"
             ]
            ],
            "type": "histogram2dcontour"
           }
          ],
          "mesh3d": [
           {
            "colorbar": {
             "outlinewidth": 0,
             "ticks": ""
            },
            "type": "mesh3d"
           }
          ],
          "parcoords": [
           {
            "line": {
             "colorbar": {
              "outlinewidth": 0,
              "ticks": ""
             }
            },
            "type": "parcoords"
           }
          ],
          "pie": [
           {
            "automargin": true,
            "type": "pie"
           }
          ],
          "scatter": [
           {
            "fillpattern": {
             "fillmode": "overlay",
             "size": 10,
             "solidity": 0.2
            },
            "type": "scatter"
           }
          ],
          "scatter3d": [
           {
            "line": {
             "colorbar": {
              "outlinewidth": 0,
              "ticks": ""
             }
            },
            "marker": {
             "colorbar": {
              "outlinewidth": 0,
              "ticks": ""
             }
            },
            "type": "scatter3d"
           }
          ],
          "scattercarpet": [
           {
            "marker": {
             "colorbar": {
              "outlinewidth": 0,
              "ticks": ""
             }
            },
            "type": "scattercarpet"
           }
          ],
          "scattergeo": [
           {
            "marker": {
             "colorbar": {
              "outlinewidth": 0,
              "ticks": ""
             }
            },
            "type": "scattergeo"
           }
          ],
          "scattergl": [
           {
            "marker": {
             "colorbar": {
              "outlinewidth": 0,
              "ticks": ""
             }
            },
            "type": "scattergl"
           }
          ],
          "scattermapbox": [
           {
            "marker": {
             "colorbar": {
              "outlinewidth": 0,
              "ticks": ""
             }
            },
            "type": "scattermapbox"
           }
          ],
          "scatterpolar": [
           {
            "marker": {
             "colorbar": {
              "outlinewidth": 0,
              "ticks": ""
             }
            },
            "type": "scatterpolar"
           }
          ],
          "scatterpolargl": [
           {
            "marker": {
             "colorbar": {
              "outlinewidth": 0,
              "ticks": ""
             }
            },
            "type": "scatterpolargl"
           }
          ],
          "scatterternary": [
           {
            "marker": {
             "colorbar": {
              "outlinewidth": 0,
              "ticks": ""
             }
            },
            "type": "scatterternary"
           }
          ],
          "surface": [
           {
            "colorbar": {
             "outlinewidth": 0,
             "ticks": ""
            },
            "colorscale": [
             [
              0,
              "#0d0887"
             ],
             [
              0.1111111111111111,
              "#46039f"
             ],
             [
              0.2222222222222222,
              "#7201a8"
             ],
             [
              0.3333333333333333,
              "#9c179e"
             ],
             [
              0.4444444444444444,
              "#bd3786"
             ],
             [
              0.5555555555555556,
              "#d8576b"
             ],
             [
              0.6666666666666666,
              "#ed7953"
             ],
             [
              0.7777777777777778,
              "#fb9f3a"
             ],
             [
              0.8888888888888888,
              "#fdca26"
             ],
             [
              1,
              "#f0f921"
             ]
            ],
            "type": "surface"
           }
          ],
          "table": [
           {
            "cells": {
             "fill": {
              "color": "#EBF0F8"
             },
             "line": {
              "color": "white"
             }
            },
            "header": {
             "fill": {
              "color": "#C8D4E3"
             },
             "line": {
              "color": "white"
             }
            },
            "type": "table"
           }
          ]
         },
         "layout": {
          "annotationdefaults": {
           "arrowcolor": "#2a3f5f",
           "arrowhead": 0,
           "arrowwidth": 1
          },
          "autotypenumbers": "strict",
          "coloraxis": {
           "colorbar": {
            "outlinewidth": 0,
            "ticks": ""
           }
          },
          "colorscale": {
           "diverging": [
            [
             0,
             "#8e0152"
            ],
            [
             0.1,
             "#c51b7d"
            ],
            [
             0.2,
             "#de77ae"
            ],
            [
             0.3,
             "#f1b6da"
            ],
            [
             0.4,
             "#fde0ef"
            ],
            [
             0.5,
             "#f7f7f7"
            ],
            [
             0.6,
             "#e6f5d0"
            ],
            [
             0.7,
             "#b8e186"
            ],
            [
             0.8,
             "#7fbc41"
            ],
            [
             0.9,
             "#4d9221"
            ],
            [
             1,
             "#276419"
            ]
           ],
           "sequential": [
            [
             0,
             "#0d0887"
            ],
            [
             0.1111111111111111,
             "#46039f"
            ],
            [
             0.2222222222222222,
             "#7201a8"
            ],
            [
             0.3333333333333333,
             "#9c179e"
            ],
            [
             0.4444444444444444,
             "#bd3786"
            ],
            [
             0.5555555555555556,
             "#d8576b"
            ],
            [
             0.6666666666666666,
             "#ed7953"
            ],
            [
             0.7777777777777778,
             "#fb9f3a"
            ],
            [
             0.8888888888888888,
             "#fdca26"
            ],
            [
             1,
             "#f0f921"
            ]
           ],
           "sequentialminus": [
            [
             0,
             "#0d0887"
            ],
            [
             0.1111111111111111,
             "#46039f"
            ],
            [
             0.2222222222222222,
             "#7201a8"
            ],
            [
             0.3333333333333333,
             "#9c179e"
            ],
            [
             0.4444444444444444,
             "#bd3786"
            ],
            [
             0.5555555555555556,
             "#d8576b"
            ],
            [
             0.6666666666666666,
             "#ed7953"
            ],
            [
             0.7777777777777778,
             "#fb9f3a"
            ],
            [
             0.8888888888888888,
             "#fdca26"
            ],
            [
             1,
             "#f0f921"
            ]
           ]
          },
          "colorway": [
           "#636efa",
           "#EF553B",
           "#00cc96",
           "#ab63fa",
           "#FFA15A",
           "#19d3f3",
           "#FF6692",
           "#B6E880",
           "#FF97FF",
           "#FECB52"
          ],
          "font": {
           "color": "#2a3f5f"
          },
          "geo": {
           "bgcolor": "white",
           "lakecolor": "white",
           "landcolor": "#E5ECF6",
           "showlakes": true,
           "showland": true,
           "subunitcolor": "white"
          },
          "hoverlabel": {
           "align": "left"
          },
          "hovermode": "closest",
          "mapbox": {
           "style": "light"
          },
          "paper_bgcolor": "white",
          "plot_bgcolor": "#E5ECF6",
          "polar": {
           "angularaxis": {
            "gridcolor": "white",
            "linecolor": "white",
            "ticks": ""
           },
           "bgcolor": "#E5ECF6",
           "radialaxis": {
            "gridcolor": "white",
            "linecolor": "white",
            "ticks": ""
           }
          },
          "scene": {
           "xaxis": {
            "backgroundcolor": "#E5ECF6",
            "gridcolor": "white",
            "gridwidth": 2,
            "linecolor": "white",
            "showbackground": true,
            "ticks": "",
            "zerolinecolor": "white"
           },
           "yaxis": {
            "backgroundcolor": "#E5ECF6",
            "gridcolor": "white",
            "gridwidth": 2,
            "linecolor": "white",
            "showbackground": true,
            "ticks": "",
            "zerolinecolor": "white"
           },
           "zaxis": {
            "backgroundcolor": "#E5ECF6",
            "gridcolor": "white",
            "gridwidth": 2,
            "linecolor": "white",
            "showbackground": true,
            "ticks": "",
            "zerolinecolor": "white"
           }
          },
          "shapedefaults": {
           "line": {
            "color": "#2a3f5f"
           }
          },
          "ternary": {
           "aaxis": {
            "gridcolor": "white",
            "linecolor": "white",
            "ticks": ""
           },
           "baxis": {
            "gridcolor": "white",
            "linecolor": "white",
            "ticks": ""
           },
           "bgcolor": "#E5ECF6",
           "caxis": {
            "gridcolor": "white",
            "linecolor": "white",
            "ticks": ""
           }
          },
          "title": {
           "x": 0.05
          },
          "xaxis": {
           "automargin": true,
           "gridcolor": "white",
           "linecolor": "white",
           "ticks": "",
           "title": {
            "standoff": 15
           },
           "zerolinecolor": "white",
           "zerolinewidth": 2
          },
          "yaxis": {
           "automargin": true,
           "gridcolor": "white",
           "linecolor": "white",
           "ticks": "",
           "title": {
            "standoff": 15
           },
           "zerolinecolor": "white",
           "zerolinewidth": 2
          }
         }
        },
        "xaxis": {
         "anchor": "y",
         "domain": [
          0,
          1
         ]
        },
        "xaxis2": {
         "anchor": "y2",
         "domain": [
          0,
          1
         ]
        },
        "yaxis": {
         "anchor": "x",
         "domain": [
          0.575,
          1
         ]
        },
        "yaxis2": {
         "anchor": "x2",
         "domain": [
          0,
          0.425
         ]
        }
       }
      },
      "text/html": [
       "<div>                            <div id=\"33783918-68ef-40c2-aa58-9c222f4da127\" class=\"plotly-graph-div\" style=\"height:525px; width:100%;\"></div>            <script type=\"text/javascript\">                require([\"plotly\"], function(Plotly) {                    window.PLOTLYENV=window.PLOTLYENV || {};                                    if (document.getElementById(\"33783918-68ef-40c2-aa58-9c222f4da127\")) {                    Plotly.newPlot(                        \"33783918-68ef-40c2-aa58-9c222f4da127\",                        [{\"line\":{\"color\":\"grey\"},\"marker\":{\"cmax\":2,\"cmin\":0,\"color\":[1,1,1,1,1,1,1,1,1,1,1,1,1,2,2,2,2,2,2,2,1,1,1,1,2,2,2,1,1,1,2,2,2,2,2,2,2,1,2,2,2,2,2,2,2,2,1,1,1,1,1,1,1,1,1,1,1,1,1,1,1,1,1,1,1,1,1,1,1,0,0,0,0,0,0,0,0,0,0,0,0,0,0,0,0,0,0,0,0,0,0,0,0,0,0,0,0,0,0,0,0,0,0,0,0,0,0,1,1,1,1,1,1,1,1,1,1,1,1,1],\"colorbar\":{\"title\":{\"text\":\"severity\"}},\"colorscale\":[[0.0,\"rgb(12,51,131)\"],[0.25,\"rgb(10,136,186)\"],[0.5,\"rgb(242,211,56)\"],[0.75,\"rgb(242,143,56)\"],[1.0,\"rgb(217,30,30)\"]],\"size\":8,\"symbol\":[1,1,1,1,1,1,1,1,1,1,1,1,1,2,2,2,2,2,2,2,1,1,1,1,2,2,2,1,1,1,2,2,2,2,2,2,2,1,2,2,2,2,2,2,2,2,1,1,1,1,1,1,1,1,1,1,1,1,1,1,1,1,1,1,1,1,1,1,1,0,0,0,0,0,0,0,0,0,0,0,0,0,0,0,0,0,0,0,0,0,0,0,0,0,0,0,0,0,0,0,0,0,0,0,0,0,0,1,1,1,1,1,1,1,1,1,1,1,1,1]},\"mode\":\"lines+markers\",\"x\":[\"2022-06-16 12:20:10.993737+00:00\",\"2022-06-16 12:20:25.990961+00:00\",\"2022-06-16 12:20:41.021435+00:00\",\"2022-06-16 12:20:55.988691+00:00\",\"2022-06-16 12:21:10.992139+00:00\",\"2022-06-16 12:21:25.990180+00:00\",\"2022-06-16 12:21:40.982512+00:00\",\"2022-06-16 12:21:56.003001+00:00\",\"2022-06-16 12:22:10.992292+00:00\",\"2022-06-16 12:22:25.993974+00:00\",\"2022-06-16 12:22:40.988481+00:00\",\"2022-06-16 12:22:55.987677+00:00\",\"2022-06-16 12:23:10.984346+00:00\",\"2022-06-16 12:23:25.994201+00:00\",\"2022-06-16 12:23:40.994959+00:00\",\"2022-06-16 12:23:55.993895+00:00\",\"2022-06-16 12:24:10.992194+00:00\",\"2022-06-16 12:24:25.983197+00:00\",\"2022-06-16 12:24:40.980962+00:00\",\"2022-06-16 12:24:55.981661+00:00\",\"2022-06-16 12:25:10.976160+00:00\",\"2022-06-16 12:25:25.984557+00:00\",\"2022-06-16 12:25:40.994155+00:00\",\"2022-06-16 12:25:55.974030+00:00\",\"2022-06-16 12:26:10.975829+00:00\",\"2022-06-16 12:26:25.981940+00:00\",\"2022-06-16 12:26:40.979382+00:00\",\"2022-06-16 12:26:55.985328+00:00\",\"2022-06-16 12:27:10.980079+00:00\",\"2022-06-16 12:27:25.984619+00:00\",\"2022-06-16 12:27:40.981062+00:00\",\"2022-06-16 12:27:55.973703+00:00\",\"2022-06-16 12:28:11.017848+00:00\",\"2022-06-16 12:28:25.976659+00:00\",\"2022-06-16 12:28:40.966903+00:00\",\"2022-06-16 12:28:55.978130+00:00\",\"2022-06-16 12:29:10.974750+00:00\",\"2022-06-16 12:29:25.973987+00:00\",\"2022-06-16 12:29:40.971503+00:00\",\"2022-06-16 12:29:55.983460+00:00\",\"2022-06-16 12:30:10.969369+00:00\",\"2022-06-16 12:30:25.966065+00:00\",\"2022-06-16 12:30:40.970107+00:00\",\"2022-06-16 12:30:55.977200+00:00\",\"2022-06-16 12:31:10.970366+00:00\",\"2022-06-16 12:31:25.961090+00:00\",\"2022-06-16 12:31:40.966502+00:00\",\"2022-06-16 12:31:55.963356+00:00\",\"2022-06-16 12:32:10.962672+00:00\",\"2022-06-16 12:32:25.967312+00:00\",\"2022-06-16 12:32:40.964128+00:00\",\"2022-06-16 12:32:55.963441+00:00\",\"2022-06-16 12:33:10.962129+00:00\",\"2022-06-16 12:33:25.968640+00:00\",\"2022-06-16 12:33:40.963362+00:00\",\"2022-06-16 12:33:55.971821+00:00\",\"2022-06-16 12:34:10.962403+00:00\",\"2022-06-16 12:34:25.966751+00:00\",\"2022-06-16 12:34:40.957350+00:00\",\"2022-06-16 12:34:55.958417+00:00\",\"2022-06-16 12:35:10.962399+00:00\",\"2022-06-16 12:35:25.962698+00:00\",\"2022-06-16 12:35:40.952704+00:00\",\"2022-06-16 12:35:55.960180+00:00\",\"2022-06-16 12:36:10.951095+00:00\",\"2022-06-16 12:36:25.958344+00:00\",\"2022-06-16 12:36:40.974172+00:00\",\"2022-06-16 12:36:55.954510+00:00\",\"2022-06-16 12:37:10.960567+00:00\",\"2022-06-16 12:37:25.956129+00:00\",\"2022-06-16 12:37:40.949835+00:00\",\"2022-06-16 12:37:55.962322+00:00\",\"2022-06-16 12:38:10.955415+00:00\",\"2022-06-16 12:38:25.949963+00:00\",\"2022-06-16 12:38:40.955743+00:00\",\"2022-06-16 12:38:55.952394+00:00\",\"2022-06-16 12:39:10.947063+00:00\",\"2022-06-16 12:39:25.951434+00:00\",\"2022-06-16 12:39:40.950639+00:00\",\"2022-06-16 12:39:55.945213+00:00\",\"2022-06-16 12:40:10.952315+00:00\",\"2022-06-16 12:40:25.944381+00:00\",\"2022-06-16 12:40:40.947248+00:00\",\"2022-06-16 12:40:55.954404+00:00\",\"2022-06-16 12:41:10.942891+00:00\",\"2022-06-16 12:41:25.958858+00:00\",\"2022-06-16 12:41:40.955304+00:00\",\"2022-06-16 12:41:55.960371+00:00\",\"2022-06-16 12:42:10.970880+00:00\",\"2022-06-16 12:42:25.943995+00:00\",\"2022-06-16 12:42:40.941667+00:00\",\"2022-06-16 12:42:55.940470+00:00\",\"2022-06-16 12:43:10.937420+00:00\",\"2022-06-16 12:43:25.949198+00:00\",\"2022-06-16 12:43:40.939761+00:00\",\"2022-06-16 12:43:55.936090+00:00\",\"2022-06-16 12:44:10.941839+00:00\",\"2022-06-16 12:44:25.936187+00:00\",\"2022-06-16 12:44:40.938617+00:00\",\"2022-06-16 12:44:55.952454+00:00\",\"2022-06-16 12:45:10.933794+00:00\",\"2022-06-16 12:45:25.934122+00:00\",\"2022-06-16 12:45:40.936473+00:00\",\"2022-06-16 12:45:55.945096+00:00\",\"2022-06-16 12:46:10.941472+00:00\",\"2022-06-16 12:46:25.955093+00:00\",\"2022-06-16 12:46:40.930280+00:00\",\"2022-06-16 12:46:55.940749+00:00\",\"2022-06-16 12:47:10.932040+00:00\",\"2022-06-16 12:47:25.935389+00:00\",\"2022-06-16 12:47:40.931700+00:00\",\"2022-06-16 12:47:55.927519+00:00\",\"2022-06-16 12:48:10.930255+00:00\",\"2022-06-16 12:48:25.931700+00:00\",\"2022-06-16 12:48:40.927822+00:00\",\"2022-06-16 12:48:55.942189+00:00\",\"2022-06-16 12:49:10.936065+00:00\",\"2022-06-16 12:49:25.928817+00:00\",\"2022-06-16 12:49:40.925928+00:00\",\"2022-06-16 12:49:55.923475+00:00\"],\"y\":[34.737118,35.66602,13.312069,15.760091,16.723112,35.286564,13.92338,13.839426,13.395313,-7.877904,-16.922554,-7.8348727,-8.016755,5.3545313,-7.961464,23.868097,5.739012,5.330615,-2.1326964,23.618587,23.46906,-2.263636,-17.200125,5.507206,23.368887,24.098228,24.367716,5.270538,23.607676,5.642005,23.79095,-7.833262,5.3620343,23.727705,24.334595,5.183078,23.554388,23.833311,24.309483,-7.193129,35.343895,15.030993,16.901354,35.422832,16.169477,13.9532795,13.840495,35.12045,14.487456,14.2987175,16.002735,35.558872,16.163897,34.786797,13.655016,15.08811,16.502462,15.226125,35.745575,15.141155,16.574373,13.64691,13.3771515,-17.305553,-8.950913,-17.007698,-7.097745,-17.155697,-7.406967,-7.1804805,-8.727975,-8.845287,-16.924356,-8.626069,-9.050144,-8.449343,-8.41486,-2.3628151,-3.8564475,-8.973619,-3.4569225,-3.524694,-3.6579053,-7.2620926,5.401274,-2.4666152,-2.5613482,-17.289936,5.606963,-3.395458,-3.2719667,-8.965107,-2.535612,-3.4918368,5.5473604,-17.215574,-3.7000551,-3.5697243,-3.2468774,-9.127564,-3.7557106,35.218468,35.20679,13.279699,35.592316,16.253456,16.862207,15.144348,16.427166,14.419769,13.759831,15.602526,16.855442,16.793375,14.533137,35.690693,15.074228,35.22157,14.708056,34.98395],\"type\":\"scatter\",\"xaxis\":\"x\",\"yaxis\":\"y\"},{\"marker\":{\"cmax\":2,\"cmin\":0,\"color\":[1,1,1,1,1,1,1,1,1,1,1,1,1,2,2,2,2,2,2,2,1,1,1,1,2,2,2,1,1,1,2,2,2,2,2,2,2,1,2,2,2,2,2,2,2,2,1,1,1,1,1,1,1,1,1,1,1,1,1,1,1,1,1,1,1,1,1,1,1,0,0,0,0,0,0,0,0,0,0,0,0,0,0,0,0,0,0,0,0,0,0,0,0,0,0,0,0,0,0,0,0,0,0,0,0,0,0,1,1,1,1,1,1,1,1,1,1,1,1,1],\"colorbar\":{\"title\":{\"text\":\"severity\"}},\"colorscale\":[[0.0,\"rgb(12,51,131)\"],[0.25,\"rgb(10,136,186)\"],[0.5,\"rgb(242,211,56)\"],[0.75,\"rgb(242,143,56)\"],[1.0,\"rgb(217,30,30)\"]],\"size\":8,\"symbol\":[1,1,1,1,1,1,1,1,1,1,1,1,1,2,2,2,2,2,2,2,1,1,1,1,2,2,2,1,1,1,2,2,2,2,2,2,2,1,2,2,2,2,2,2,2,2,1,1,1,1,1,1,1,1,1,1,1,1,1,1,1,1,1,1,1,1,1,1,1,0,0,0,0,0,0,0,0,0,0,0,0,0,0,0,0,0,0,0,0,0,0,0,0,0,0,0,0,0,0,0,0,0,0,0,0,0,0,1,1,1,1,1,1,1,1,1,1,1,1,1]},\"mode\":\"markers\",\"x\":[26.4732,26.563128,15.145804,14.871727,14.204561,27.32224,15.662052,15.862557,15.276675,-7.6447186,-5.6270905,-7.7577724,-7.720159,2.5900838,-7.581536,4.9925613,2.3844109,2.011802,1.7198664,5.147574,5.2347894,1.8467052,-5.9048195,2.0345116,5.341781,4.875093,4.509145,2.0248938,5.1633577,2.3628042,4.772589,-7.6983013,2.2755916,4.9297023,4.4781876,2.1352878,5.025069,4.848893,4.389192,-8.397084,26.845055,15.737752,14.303211,27.167479,14.844701,15.409561,16.032528,27.227024,15.242386,16.024517,14.886222,26.917305,14.832522,26.493805,15.771374,15.844333,13.975339,15.603159,27.06914,15.940675,14.015942,15.758311,15.591264,-5.744791,-8.950419,-5.7443137,-8.484316,-5.5594764,-8.330136,-8.474827,-8.900816,-8.776862,-5.449105,-9.05337,-9.122835,-8.644528,-8.613159,1.7853535,0.4766835,-8.918579,0.104550645,0.23169418,0.29976964,-8.438175,2.3263097,1.5801208,1.6786486,-5.732839,2.4777143,0.08015175,-0.013551191,-8.978437,1.5457355,0.25845397,2.4272022,-5.6054792,0.26723567,0.29696032,0.42923328,-9.152483,0.37701043,26.767536,26.447355,15.4152155,27.398212,14.751193,14.374966,15.69752,13.986603,15.902134,15.82795,15.116343,14.323406,14.250787,16.036364,27.016798,15.795841,27.149965,15.27958,26.607504],\"y\":[11.040215,10.795956,5.7177978,7.014143,7.3003035,11.033834,5.759622,5.951032,5.5578084,6.476808,3.2864575,6.443493,6.490605,-2.0308266,6.6720114,1.45011,-2.0041926,-2.2999158,4.8659973,1.2448028,1.3322791,4.7679257,3.0579133,-2.1681151,1.4411922,1.0644441,1.5711133,-2.3007727,1.342926,-2.408491,1.2765821,6.534231,-2.0099242,1.543488,1.3976604,-2.2051084,1.4130443,1.354494,1.3502271,5.8566885,11.28727,7.2365522,7.1958647,10.823278,7.6034164,5.8794785,5.9137154,11.173353,6.4155946,6.2601466,7.021151,10.954329,7.54317,10.863392,5.640814,7.1452575,7.5352387,7.35197,10.86359,7.2701426,7.528339,5.7159123,5.543746,3.0152595,6.529934,3.2314913,5.982852,3.2072856,5.9950867,5.904895,6.7163124,6.4747767,3.0900042,6.415447,6.556248,6.6694345,6.4437466,4.9777074,5.029857,6.213347,5.2790213,5.3963184,5.420568,5.9946837,-2.0102143,5.007736,4.8666205,3.0471375,-2.1516397,5.180399,5.336871,6.3262024,4.9632726,5.4109983,-1.9375253,3.341215,4.9393916,5.133807,5.2027326,6.2869687,5.2854505,11.39916,10.855855,5.5300655,10.967636,7.551471,7.218853,7.058302,7.557027,6.315069,5.6530275,6.988912,7.1486516,7.2002625,6.5225577,10.913266,7.202504,10.789955,6.4476213,11.030767],\"type\":\"scatter\",\"xaxis\":\"x2\",\"yaxis\":\"y2\"}],                        {\"template\":{\"data\":{\"histogram2dcontour\":[{\"type\":\"histogram2dcontour\",\"colorbar\":{\"outlinewidth\":0,\"ticks\":\"\"},\"colorscale\":[[0.0,\"#0d0887\"],[0.1111111111111111,\"#46039f\"],[0.2222222222222222,\"#7201a8\"],[0.3333333333333333,\"#9c179e\"],[0.4444444444444444,\"#bd3786\"],[0.5555555555555556,\"#d8576b\"],[0.6666666666666666,\"#ed7953\"],[0.7777777777777778,\"#fb9f3a\"],[0.8888888888888888,\"#fdca26\"],[1.0,\"#f0f921\"]]}],\"choropleth\":[{\"type\":\"choropleth\",\"colorbar\":{\"outlinewidth\":0,\"ticks\":\"\"}}],\"histogram2d\":[{\"type\":\"histogram2d\",\"colorbar\":{\"outlinewidth\":0,\"ticks\":\"\"},\"colorscale\":[[0.0,\"#0d0887\"],[0.1111111111111111,\"#46039f\"],[0.2222222222222222,\"#7201a8\"],[0.3333333333333333,\"#9c179e\"],[0.4444444444444444,\"#bd3786\"],[0.5555555555555556,\"#d8576b\"],[0.6666666666666666,\"#ed7953\"],[0.7777777777777778,\"#fb9f3a\"],[0.8888888888888888,\"#fdca26\"],[1.0,\"#f0f921\"]]}],\"heatmap\":[{\"type\":\"heatmap\",\"colorbar\":{\"outlinewidth\":0,\"ticks\":\"\"},\"colorscale\":[[0.0,\"#0d0887\"],[0.1111111111111111,\"#46039f\"],[0.2222222222222222,\"#7201a8\"],[0.3333333333333333,\"#9c179e\"],[0.4444444444444444,\"#bd3786\"],[0.5555555555555556,\"#d8576b\"],[0.6666666666666666,\"#ed7953\"],[0.7777777777777778,\"#fb9f3a\"],[0.8888888888888888,\"#fdca26\"],[1.0,\"#f0f921\"]]}],\"heatmapgl\":[{\"type\":\"heatmapgl\",\"colorbar\":{\"outlinewidth\":0,\"ticks\":\"\"},\"colorscale\":[[0.0,\"#0d0887\"],[0.1111111111111111,\"#46039f\"],[0.2222222222222222,\"#7201a8\"],[0.3333333333333333,\"#9c179e\"],[0.4444444444444444,\"#bd3786\"],[0.5555555555555556,\"#d8576b\"],[0.6666666666666666,\"#ed7953\"],[0.7777777777777778,\"#fb9f3a\"],[0.8888888888888888,\"#fdca26\"],[1.0,\"#f0f921\"]]}],\"contourcarpet\":[{\"type\":\"contourcarpet\",\"colorbar\":{\"outlinewidth\":0,\"ticks\":\"\"}}],\"contour\":[{\"type\":\"contour\",\"colorbar\":{\"outlinewidth\":0,\"ticks\":\"\"},\"colorscale\":[[0.0,\"#0d0887\"],[0.1111111111111111,\"#46039f\"],[0.2222222222222222,\"#7201a8\"],[0.3333333333333333,\"#9c179e\"],[0.4444444444444444,\"#bd3786\"],[0.5555555555555556,\"#d8576b\"],[0.6666666666666666,\"#ed7953\"],[0.7777777777777778,\"#fb9f3a\"],[0.8888888888888888,\"#fdca26\"],[1.0,\"#f0f921\"]]}],\"surface\":[{\"type\":\"surface\",\"colorbar\":{\"outlinewidth\":0,\"ticks\":\"\"},\"colorscale\":[[0.0,\"#0d0887\"],[0.1111111111111111,\"#46039f\"],[0.2222222222222222,\"#7201a8\"],[0.3333333333333333,\"#9c179e\"],[0.4444444444444444,\"#bd3786\"],[0.5555555555555556,\"#d8576b\"],[0.6666666666666666,\"#ed7953\"],[0.7777777777777778,\"#fb9f3a\"],[0.8888888888888888,\"#fdca26\"],[1.0,\"#f0f921\"]]}],\"mesh3d\":[{\"type\":\"mesh3d\",\"colorbar\":{\"outlinewidth\":0,\"ticks\":\"\"}}],\"scatter\":[{\"fillpattern\":{\"fillmode\":\"overlay\",\"size\":10,\"solidity\":0.2},\"type\":\"scatter\"}],\"parcoords\":[{\"type\":\"parcoords\",\"line\":{\"colorbar\":{\"outlinewidth\":0,\"ticks\":\"\"}}}],\"scatterpolargl\":[{\"type\":\"scatterpolargl\",\"marker\":{\"colorbar\":{\"outlinewidth\":0,\"ticks\":\"\"}}}],\"bar\":[{\"error_x\":{\"color\":\"#2a3f5f\"},\"error_y\":{\"color\":\"#2a3f5f\"},\"marker\":{\"line\":{\"color\":\"#E5ECF6\",\"width\":0.5},\"pattern\":{\"fillmode\":\"overlay\",\"size\":10,\"solidity\":0.2}},\"type\":\"bar\"}],\"scattergeo\":[{\"type\":\"scattergeo\",\"marker\":{\"colorbar\":{\"outlinewidth\":0,\"ticks\":\"\"}}}],\"scatterpolar\":[{\"type\":\"scatterpolar\",\"marker\":{\"colorbar\":{\"outlinewidth\":0,\"ticks\":\"\"}}}],\"histogram\":[{\"marker\":{\"pattern\":{\"fillmode\":\"overlay\",\"size\":10,\"solidity\":0.2}},\"type\":\"histogram\"}],\"scattergl\":[{\"type\":\"scattergl\",\"marker\":{\"colorbar\":{\"outlinewidth\":0,\"ticks\":\"\"}}}],\"scatter3d\":[{\"type\":\"scatter3d\",\"line\":{\"colorbar\":{\"outlinewidth\":0,\"ticks\":\"\"}},\"marker\":{\"colorbar\":{\"outlinewidth\":0,\"ticks\":\"\"}}}],\"scattermapbox\":[{\"type\":\"scattermapbox\",\"marker\":{\"colorbar\":{\"outlinewidth\":0,\"ticks\":\"\"}}}],\"scatterternary\":[{\"type\":\"scatterternary\",\"marker\":{\"colorbar\":{\"outlinewidth\":0,\"ticks\":\"\"}}}],\"scattercarpet\":[{\"type\":\"scattercarpet\",\"marker\":{\"colorbar\":{\"outlinewidth\":0,\"ticks\":\"\"}}}],\"carpet\":[{\"aaxis\":{\"endlinecolor\":\"#2a3f5f\",\"gridcolor\":\"white\",\"linecolor\":\"white\",\"minorgridcolor\":\"white\",\"startlinecolor\":\"#2a3f5f\"},\"baxis\":{\"endlinecolor\":\"#2a3f5f\",\"gridcolor\":\"white\",\"linecolor\":\"white\",\"minorgridcolor\":\"white\",\"startlinecolor\":\"#2a3f5f\"},\"type\":\"carpet\"}],\"table\":[{\"cells\":{\"fill\":{\"color\":\"#EBF0F8\"},\"line\":{\"color\":\"white\"}},\"header\":{\"fill\":{\"color\":\"#C8D4E3\"},\"line\":{\"color\":\"white\"}},\"type\":\"table\"}],\"barpolar\":[{\"marker\":{\"line\":{\"color\":\"#E5ECF6\",\"width\":0.5},\"pattern\":{\"fillmode\":\"overlay\",\"size\":10,\"solidity\":0.2}},\"type\":\"barpolar\"}],\"pie\":[{\"automargin\":true,\"type\":\"pie\"}]},\"layout\":{\"autotypenumbers\":\"strict\",\"colorway\":[\"#636efa\",\"#EF553B\",\"#00cc96\",\"#ab63fa\",\"#FFA15A\",\"#19d3f3\",\"#FF6692\",\"#B6E880\",\"#FF97FF\",\"#FECB52\"],\"font\":{\"color\":\"#2a3f5f\"},\"hovermode\":\"closest\",\"hoverlabel\":{\"align\":\"left\"},\"paper_bgcolor\":\"white\",\"plot_bgcolor\":\"#E5ECF6\",\"polar\":{\"bgcolor\":\"#E5ECF6\",\"angularaxis\":{\"gridcolor\":\"white\",\"linecolor\":\"white\",\"ticks\":\"\"},\"radialaxis\":{\"gridcolor\":\"white\",\"linecolor\":\"white\",\"ticks\":\"\"}},\"ternary\":{\"bgcolor\":\"#E5ECF6\",\"aaxis\":{\"gridcolor\":\"white\",\"linecolor\":\"white\",\"ticks\":\"\"},\"baxis\":{\"gridcolor\":\"white\",\"linecolor\":\"white\",\"ticks\":\"\"},\"caxis\":{\"gridcolor\":\"white\",\"linecolor\":\"white\",\"ticks\":\"\"}},\"coloraxis\":{\"colorbar\":{\"outlinewidth\":0,\"ticks\":\"\"}},\"colorscale\":{\"sequential\":[[0.0,\"#0d0887\"],[0.1111111111111111,\"#46039f\"],[0.2222222222222222,\"#7201a8\"],[0.3333333333333333,\"#9c179e\"],[0.4444444444444444,\"#bd3786\"],[0.5555555555555556,\"#d8576b\"],[0.6666666666666666,\"#ed7953\"],[0.7777777777777778,\"#fb9f3a\"],[0.8888888888888888,\"#fdca26\"],[1.0,\"#f0f921\"]],\"sequentialminus\":[[0.0,\"#0d0887\"],[0.1111111111111111,\"#46039f\"],[0.2222222222222222,\"#7201a8\"],[0.3333333333333333,\"#9c179e\"],[0.4444444444444444,\"#bd3786\"],[0.5555555555555556,\"#d8576b\"],[0.6666666666666666,\"#ed7953\"],[0.7777777777777778,\"#fb9f3a\"],[0.8888888888888888,\"#fdca26\"],[1.0,\"#f0f921\"]],\"diverging\":[[0,\"#8e0152\"],[0.1,\"#c51b7d\"],[0.2,\"#de77ae\"],[0.3,\"#f1b6da\"],[0.4,\"#fde0ef\"],[0.5,\"#f7f7f7\"],[0.6,\"#e6f5d0\"],[0.7,\"#b8e186\"],[0.8,\"#7fbc41\"],[0.9,\"#4d9221\"],[1,\"#276419\"]]},\"xaxis\":{\"gridcolor\":\"white\",\"linecolor\":\"white\",\"ticks\":\"\",\"title\":{\"standoff\":15},\"zerolinecolor\":\"white\",\"automargin\":true,\"zerolinewidth\":2},\"yaxis\":{\"gridcolor\":\"white\",\"linecolor\":\"white\",\"ticks\":\"\",\"title\":{\"standoff\":15},\"zerolinecolor\":\"white\",\"automargin\":true,\"zerolinewidth\":2},\"scene\":{\"xaxis\":{\"backgroundcolor\":\"#E5ECF6\",\"gridcolor\":\"white\",\"linecolor\":\"white\",\"showbackground\":true,\"ticks\":\"\",\"zerolinecolor\":\"white\",\"gridwidth\":2},\"yaxis\":{\"backgroundcolor\":\"#E5ECF6\",\"gridcolor\":\"white\",\"linecolor\":\"white\",\"showbackground\":true,\"ticks\":\"\",\"zerolinecolor\":\"white\",\"gridwidth\":2},\"zaxis\":{\"backgroundcolor\":\"#E5ECF6\",\"gridcolor\":\"white\",\"linecolor\":\"white\",\"showbackground\":true,\"ticks\":\"\",\"zerolinecolor\":\"white\",\"gridwidth\":2}},\"shapedefaults\":{\"line\":{\"color\":\"#2a3f5f\"}},\"annotationdefaults\":{\"arrowcolor\":\"#2a3f5f\",\"arrowhead\":0,\"arrowwidth\":1},\"geo\":{\"bgcolor\":\"white\",\"landcolor\":\"#E5ECF6\",\"subunitcolor\":\"white\",\"showland\":true,\"showlakes\":true,\"lakecolor\":\"white\"},\"title\":{\"x\":0.05},\"mapbox\":{\"style\":\"light\"}}},\"xaxis\":{\"anchor\":\"y\",\"domain\":[0.0,1.0]},\"yaxis\":{\"anchor\":\"x\",\"domain\":[0.575,1.0]},\"xaxis2\":{\"anchor\":\"y2\",\"domain\":[0.0,1.0]},\"yaxis2\":{\"anchor\":\"x2\",\"domain\":[0.0,0.425]}},                        {\"responsive\": true}                    ).then(function(){\n",
       "                            \n",
       "var gd = document.getElementById('33783918-68ef-40c2-aa58-9c222f4da127');\n",
       "var x = new MutationObserver(function (mutations, observer) {{\n",
       "        var display = window.getComputedStyle(gd).display;\n",
       "        if (!display || display === 'none') {{\n",
       "            console.log([gd, 'removed!']);\n",
       "            Plotly.purge(gd);\n",
       "            observer.disconnect();\n",
       "        }}\n",
       "}});\n",
       "\n",
       "// Listen for the removal of the full notebook cells\n",
       "var notebookContainer = gd.closest('#notebook-container');\n",
       "if (notebookContainer) {{\n",
       "    x.observe(notebookContainer, {childList: true});\n",
       "}}\n",
       "\n",
       "// Listen for the clearing of the current output cell\n",
       "var outputEl = gd.closest('.output');\n",
       "if (outputEl) {{\n",
       "    x.observe(outputEl, {childList: true});\n",
       "}}\n",
       "\n",
       "                        })                };                });            </script>        </div>"
      ]
     },
     "metadata": {},
     "output_type": "display_data"
    }
   ],
   "source": [
    "sub_fig.add_trace(scatter_ts, row=1, col=1)\n",
    "sub_fig.add_trace(scatter_2D, row=2, col=1)"
   ]
  },
  {
   "cell_type": "code",
   "execution_count": 85,
   "id": "18a23ebf",
   "metadata": {},
   "outputs": [],
   "source": [
    "def create_scatter_line_2D_3D_color_discrete(figure, row, col,name_and_group, show_legend=True,\n",
    "                                             series_x, series_y, series_z=None, series_color=None,line = True,\n",
    "                                             save_path=None):\n",
    "    \n",
    "    \n",
    "    mode = 'markers'\n",
    "    if line:\n",
    "        mode = f'lines+{mode}'\n",
    "\n",
    "    # convert series_x to pd.Series\n",
    "    if type(series_x) in [list, np.ndarray]:\n",
    "        series_x = pd.Series(series_x)\n",
    "\n",
    "    # convert series_y to pd.Series\n",
    "    if type(series_y) in [list, np.ndarray]:\n",
    "        series_y = pd.Series(series_y)\n",
    "\n",
    "    if series_z is None:\n",
    "        dict_marker = dict(size=10)\n",
    "    else:\n",
    "        dict_marker = dict(size=3)\n",
    "        if type(series_z) in [list, np.ndarray]:\n",
    "            series_z = pd.Series(series_z)  # convert series_z to pd.Series\n",
    "\n",
    "    if series_color is not None:  # colored case\n",
    "\n",
    "        # convert series_color to pd.Series\n",
    "        if type(series_color) in [list, np.ndarray]:\n",
    "            series_color = pd.Series(series_color)\n",
    "\n",
    "        # encode series_color\n",
    "        encoder = LabelEncoder()\n",
    "        series_color_encoded = pd.Series(encoder.fit_transform(series_color))\n",
    "\n",
    "        # add a scatter line in grey\n",
    "        if line:\n",
    "            if series_z is None:  # 2D case\n",
    "                figure.add_scatter(x=series_x, y=series_y, mode='lines', line={'color': 'grey'}, name='state_change', col=col, row=row)\n",
    "            else:  # 3D case\n",
    "                figure.add_scatter3d(x=series_x, y=series_y, z=series_z,\n",
    "                                     mode='lines', line={'color': 'grey'}, name='state_change', col=col, row=row)\n",
    "\n",
    "        # for each labels in series_color : add lines+markers colored\n",
    "        for value_encoded, value in zip(series_color_encoded.value_counts().keys(),\n",
    "                                        series_color.value_counts().keys()):\n",
    "\n",
    "            if series_z is None:  # 2D case\n",
    "                figure.add_scatter(x=series_x.where(series_color_encoded == value_encoded),\n",
    "                                   y=series_y.where(series_color_encoded == value_encoded),\n",
    "                                   mode=mode, marker=dict_marker, name=value, col=col, row=row)\n",
    "            else:  # 3D case\n",
    "                figure.add_scatter3d(x=series_x.where(series_color_encoded == value_encoded),\n",
    "                                     y=series_y.where(series_color_encoded == value_encoded),\n",
    "                                     z=series_z.where(series_color_encoded == value_encoded),\n",
    "                                     mode=mode, marker=dict_marker, name=value,  col=col, row=row)\n",
    "\n",
    "    else:  # non colored case\n",
    "        if series_z is None:  # 2D case\n",
    "            figure.add_scatter(x=series_x, y=series_y, mode=mode, line={'color': 'blue'}, col=col, row=row )\n",
    "        else:  # 3D case\n",
    "            figure.add_scatter3d(x=series_x, y=series_y, z=series_z, mode=mode, line={'color': 'blue'},  col=col, row=row)\n",
    "\n",
    "    return figure "
   ]
  },
  {
   "cell_type": "code",
   "execution_count": 86,
   "id": "871db851",
   "metadata": {},
   "outputs": [],
   "source": [
    "sub_fig = make_subplots(2,1, horizontal_spacing=0.1)"
   ]
  },
  {
   "cell_type": "code",
   "execution_count": 87,
   "id": "1645f335",
   "metadata": {},
   "outputs": [],
   "source": [
    "sub_fig = create_scatter_line_2D_3D_color_discrete(sub_fig,1,1,timestamp_series, data_1D['0'], series_color=series_color,line=True)"
   ]
  },
  {
   "cell_type": "code",
   "execution_count": 88,
   "id": "f72cab1a",
   "metadata": {},
   "outputs": [],
   "source": [
    "sub_fig =  create_scatter_line_2D_3D_color_discrete(sub_fig,2,1, data_2D['0'],data_2D['1'], series_color=series_color,line=False)"
   ]
  },
  {
   "cell_type": "code",
   "execution_count": 89,
   "id": "7d75523e",
   "metadata": {},
   "outputs": [
    {
     "data": {
      "text/plain": [
       "'test.html'"
      ]
     },
     "execution_count": 89,
     "metadata": {},
     "output_type": "execute_result"
    }
   ],
   "source": [
    "plot(sub_fig, filename='test.html', auto_open=True)"
   ]
  }
 ],
 "metadata": {
  "kernelspec": {
   "display_name": "Python 3 (ipykernel)",
   "language": "python",
   "name": "python3"
  },
  "language_info": {
   "codemirror_mode": {
    "name": "ipython",
    "version": 3
   },
   "file_extension": ".py",
   "mimetype": "text/x-python",
   "name": "python",
   "nbconvert_exporter": "python",
   "pygments_lexer": "ipython3",
   "version": "3.10.4"
  }
 },
 "nbformat": 4,
 "nbformat_minor": 5
}
