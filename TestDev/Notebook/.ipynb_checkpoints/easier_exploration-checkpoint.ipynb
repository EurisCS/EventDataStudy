{
 "cells": [
  {
   "cell_type": "code",
   "execution_count": 1,
   "id": "1b9eb40c",
   "metadata": {},
   "outputs": [],
   "source": [
    "from elasticsearch6 import Elasticsearch\n",
    "import pandas as pd"
   ]
  },
  {
   "cell_type": "code",
   "execution_count": 2,
   "id": "02144d52",
   "metadata": {},
   "outputs": [],
   "source": [
    "host='localhost'\n",
    "port = 9200\n",
    "index =  \"events-20220502\""
   ]
  },
  {
   "cell_type": "code",
   "execution_count": 3,
   "id": "c0460bb6",
   "metadata": {},
   "outputs": [],
   "source": [
    "client = Elasticsearch(f'{host}:{port}')"
   ]
  },
  {
   "cell_type": "code",
   "execution_count": 4,
   "id": "36415f68",
   "metadata": {},
   "outputs": [],
   "source": [
    "def query(perimeter, hostname='VM1', size=1000):\n",
    "    return {\n",
    "        \"query\": {\n",
    "        \"bool\": {\n",
    "          \"must\": [\n",
    "            {\n",
    "              \"match\": {\n",
    "                \"category\": perimeter\n",
    "              }\n",
    "            },\n",
    "            {\n",
    "              \"match\": {\n",
    "                \"hostname\": hostname\n",
    "              }\n",
    "            }\n",
    "          ],\n",
    "          \"must_not\": [],\n",
    "          \"should\": []\n",
    "        }\n",
    "        },\n",
    "        \"from\": 0,\n",
    "        \"size\": 1000,\n",
    "        \"sort\": [],\n",
    "        \"aggs\": {}\n",
    "        }"
   ]
  },
  {
   "cell_type": "markdown",
   "id": "5e2f014b",
   "metadata": {},
   "source": [
    "# AVAILABILITY"
   ]
  },
  {
   "cell_type": "code",
   "execution_count": 5,
   "id": "9896ea3e",
   "metadata": {},
   "outputs": [],
   "source": [
    "raw_data_av = client.search(index=index, body=query('availability'))"
   ]
  },
  {
   "cell_type": "code",
   "execution_count": 6,
   "id": "536627cf",
   "metadata": {},
   "outputs": [
    {
     "data": {
      "text/plain": [
       "dict_keys(['metricset', 'event', 'service', 'ecs', 'agent', 'system', 'endpoint', 'customendpoint'])"
      ]
     },
     "execution_count": 6,
     "metadata": {},
     "output_type": "execute_result"
    }
   ],
   "source": [
    "raw_data_av['hits']['hits'][0]['_source']['details'].keys()"
   ]
  },
  {
   "cell_type": "code",
   "execution_count": 7,
   "id": "2a6ca32c",
   "metadata": {},
   "outputs": [
    {
     "data": {
      "text/plain": [
       "{'metricset': {'name': 'memory', 'period': 15000},\n",
       " 'event': {'duration': 1951453,\n",
       "  'module': 'system',\n",
       "  'dataset': 'system.memory'},\n",
       " 'service': {'type': 'system'},\n",
       " 'ecs': {'version': '1.5.0'},\n",
       " 'agent': {'id': '69c94e43-b718-4f50-8636-ef344572580d',\n",
       "  'type': 'metricbeat',\n",
       "  'version': '7.8.1',\n",
       "  'hostname': 'VM1',\n",
       "  'name': 'VM1',\n",
       "  'ephemeral_id': '46260b17-874a-409d-83ae-1af30e523258'},\n",
       " 'system': {'memory': {'total': 1028845568,\n",
       "   'used': {'pct': 0.9126, 'bytes': 938954752},\n",
       "   'actual': {'free': 611532800, 'used': {'pct': 0.4056, 'bytes': 417312768}},\n",
       "   'page_stats': {'pgsteal_direct': {'pages': 125},\n",
       "    'pgsteal_kswapd': {'pages': 552583},\n",
       "    'direct_efficiency': {'pct': 1},\n",
       "    'kswapd_efficiency': {'pct': 0.8723},\n",
       "    'pgfree': {'pages': 18497109},\n",
       "    'pgscan_kswapd': {'pages': 633473},\n",
       "    'pgscan_direct': {'pages': 125}},\n",
       "   'swap': {'in': {'pages': 0},\n",
       "    'readahead': {'pages': 0, 'cached': 0},\n",
       "    'used': {'pct': 0, 'bytes': 0},\n",
       "    'total': 0,\n",
       "    'free': 0,\n",
       "    'out': {'pages': 0}},\n",
       "   'free': 89890816,\n",
       "   'hugepages': {'swap': {'out': {'pages': 0, 'fallback': 0}},\n",
       "    'total': 0,\n",
       "    'used': {'pct': 0, 'bytes': 0},\n",
       "    'default_size': 2097152,\n",
       "    'free': 0,\n",
       "    'surplus': 0,\n",
       "    'reserved': 0}}},\n",
       " 'endpoint': 'logstash',\n",
       " 'customendpoint': True}"
      ]
     },
     "execution_count": 7,
     "metadata": {},
     "output_type": "execute_result"
    }
   ],
   "source": [
    "raw_data_av['hits']['hits'][0]['_source']['details']"
   ]
  },
  {
   "cell_type": "markdown",
   "id": "4aaaf609",
   "metadata": {},
   "source": [
    "# TRACEABILITY"
   ]
  },
  {
   "cell_type": "code",
   "execution_count": 8,
   "id": "a0d0f417",
   "metadata": {},
   "outputs": [],
   "source": [
    "raw_data_tr = client.search(index=index, body=query('traceability'))"
   ]
  },
  {
   "cell_type": "code",
   "execution_count": 9,
   "id": "69085bef",
   "metadata": {
    "scrolled": true
   },
   "outputs": [
    {
     "data": {
      "text/plain": [
       "dict_keys(['event', 'hostname', 'url', 'summary', 'ecs', 'agent', 'icmp', 'monitor', 'endpoint', 'customendpoint'])"
      ]
     },
     "execution_count": 9,
     "metadata": {},
     "output_type": "execute_result"
    }
   ],
   "source": [
    "raw_data_tr['hits']['hits'][0]['_source']['details'].keys()"
   ]
  },
  {
   "cell_type": "code",
   "execution_count": 10,
   "id": "11c4d60c",
   "metadata": {},
   "outputs": [
    {
     "data": {
      "text/plain": [
       "{'event': {'dataset': 'uptime'},\n",
       " 'hostname': 'test-conformite.netplus.priv',\n",
       " 'url': {'scheme': 'icmp',\n",
       "  'domain': '192.168.122.3',\n",
       "  'full': 'icmp://192.168.122.3'},\n",
       " 'summary': {'down': 0, 'up': 1},\n",
       " 'ecs': {'version': '1.5.0'},\n",
       " 'agent': {'id': '016bd43b-ef2a-47c2-8e55-e991357aec94',\n",
       "  'type': 'heartbeat',\n",
       "  'version': '7.9.3',\n",
       "  'hostname': 'test-conformite.netplus.priv',\n",
       "  'name': 'test-conformite.netplus.priv',\n",
       "  'ephemeral_id': '834eb429-21b1-4e52-8972-9ebb6196d5ec'},\n",
       " 'icmp': {'rtt': {'us': 1306}, 'requests': 1},\n",
       " 'monitor': {'timespan': {'lt': '2022-05-05T04:58:36.000Z',\n",
       "   'gte': '2022-05-05T04:58:20.000Z'},\n",
       "  'id': 'dead-host-monitor-f5869335bca2e2ed',\n",
       "  'status': 'up',\n",
       "  'check_group': 'f5bdc4ff-cc2f-11ec-b0d1-9eb4e6ecd790',\n",
       "  'type': 'icmp',\n",
       "  'duration': {'us': 1360},\n",
       "  'ip': '192.168.122.3',\n",
       "  'name': 'dead-host-monitor'},\n",
       " 'endpoint': 'logstash',\n",
       " 'customendpoint': True}"
      ]
     },
     "execution_count": 10,
     "metadata": {},
     "output_type": "execute_result"
    }
   ],
   "source": [
    "raw_data_tr['hits']['hits'][0]['_source']['details']"
   ]
  },
  {
   "cell_type": "code",
   "execution_count": 11,
   "id": "42d11e4a",
   "metadata": {},
   "outputs": [
    {
     "data": {
      "text/plain": [
       "{'timespan': {'lt': '2022-05-05T04:58:36.000Z',\n",
       "  'gte': '2022-05-05T04:58:20.000Z'},\n",
       " 'id': 'dead-host-monitor-f5869335bca2e2ed',\n",
       " 'status': 'up',\n",
       " 'check_group': 'f5bdc4ff-cc2f-11ec-b0d1-9eb4e6ecd790',\n",
       " 'type': 'icmp',\n",
       " 'duration': {'us': 1360},\n",
       " 'ip': '192.168.122.3',\n",
       " 'name': 'dead-host-monitor'}"
      ]
     },
     "execution_count": 11,
     "metadata": {},
     "output_type": "execute_result"
    }
   ],
   "source": [
    "raw_data_tr['hits']['hits'][0]['_source']['details']['monitor']"
   ]
  },
  {
   "cell_type": "markdown",
   "id": "2caeb9fa",
   "metadata": {},
   "source": [
    "# INTEGRITY"
   ]
  },
  {
   "cell_type": "code",
   "execution_count": 12,
   "id": "fe05efa1",
   "metadata": {},
   "outputs": [],
   "source": [
    "client = Elasticsearch(f'{host}:{port}')\n",
    "raw_data_int = client.search(index=index, body=query('integrity'))"
   ]
  },
  {
   "cell_type": "code",
   "execution_count": 13,
   "id": "4ef0ff2e",
   "metadata": {},
   "outputs": [
    {
     "data": {
      "text/plain": [
       "dict_keys(['hash', 'service', 'event', 'file', 'ecs', 'agent', 'endpoint', 'customendpoint'])"
      ]
     },
     "execution_count": 13,
     "metadata": {},
     "output_type": "execute_result"
    }
   ],
   "source": [
    "raw_data_int['hits']['hits'][0]['_source']['details'].keys()"
   ]
  },
  {
   "cell_type": "code",
   "execution_count": 14,
   "id": "15efcff7",
   "metadata": {},
   "outputs": [
    {
     "data": {
      "text/plain": [
       "{'hash': {'sha1': 'da39a3ee5e6b4b0d3255bfef95601890afd80709'},\n",
       " 'service': {'type': 'file_integrity'},\n",
       " 'event': {'category': ['file'],\n",
       "  'type': ['change'],\n",
       "  'action': ['attributes_modified'],\n",
       "  'module': 'file_integrity',\n",
       "  'dataset': 'file',\n",
       "  'kind': 'event'},\n",
       " 'file': {'inode': '774146',\n",
       "  'ctime': '2021-09-29T08:50:27.056Z',\n",
       "  'type': 'file',\n",
       "  'owner': 'root',\n",
       "  'hash': {'sha1': 'da39a3ee5e6b4b0d3255bfef95601890afd80709'},\n",
       "  'mtime': '2021-09-29T08:50:27.056Z',\n",
       "  'mode': '0644',\n",
       "  'path': '/host/watchme/test',\n",
       "  'size': 0,\n",
       "  'uid': '0',\n",
       "  'gid': '0',\n",
       "  'group': 'root'},\n",
       " 'ecs': {'version': '1.5.0'},\n",
       " 'agent': {'id': '86dba4c3-a315-42df-b4d3-67e14c81f3d0',\n",
       "  'type': 'auditbeat',\n",
       "  'version': '7.8.1',\n",
       "  'hostname': 'VM1',\n",
       "  'name': 'VM1',\n",
       "  'ephemeral_id': 'a0d3acbd-22de-4ca3-960d-293f8b384e38'},\n",
       " 'endpoint': 'logstash',\n",
       " 'customendpoint': True}"
      ]
     },
     "execution_count": 14,
     "metadata": {},
     "output_type": "execute_result"
    }
   ],
   "source": [
    "raw_data_int['hits']['hits'][0]['_source']['details']"
   ]
  },
  {
   "cell_type": "markdown",
   "id": "73f3e06b",
   "metadata": {},
   "source": [
    "# CONFIDENTIALITY"
   ]
  },
  {
   "cell_type": "code",
   "execution_count": 15,
   "id": "f12b0b62",
   "metadata": {},
   "outputs": [],
   "source": [
    "raw_data_con = client.search(index=index, body=query('confidentiality'))"
   ]
  },
  {
   "cell_type": "code",
   "execution_count": 16,
   "id": "ba8b072e",
   "metadata": {},
   "outputs": [
    {
     "data": {
      "text/plain": [
       "dict_keys(['message', 'event', 'service', 'user', 'process', 'ecs', 'agent', 'related', 'endpoint', 'customendpoint'])"
      ]
     },
     "execution_count": 16,
     "metadata": {},
     "output_type": "execute_result"
    }
   ],
   "source": [
    "raw_data_con['hits']['hits'][0]['_source']['details'].keys()"
   ]
  },
  {
   "cell_type": "code",
   "execution_count": 17,
   "id": "33bcfd5e",
   "metadata": {},
   "outputs": [
    {
     "data": {
      "text/plain": [
       "{'message': 'Failed login by user root (UID: 0) on  (PID: 101625) from  (IP: 0.0.0.0)',\n",
       " 'event': {'outcome': 'failure',\n",
       "  'category': ['authentication'],\n",
       "  'type': ['start', 'authentication_failure'],\n",
       "  'action': 'user_login',\n",
       "  'module': 'system',\n",
       "  'origin': '/host/var/log/btmp',\n",
       "  'dataset': 'login',\n",
       "  'kind': 'event'},\n",
       " 'service': {'type': 'system'},\n",
       " 'user': {'id': 0, 'name': 'root'},\n",
       " 'process': {'pid': 101625},\n",
       " 'ecs': {'version': '1.5.0'},\n",
       " 'agent': {'id': '86dba4c3-a315-42df-b4d3-67e14c81f3d0',\n",
       "  'type': 'auditbeat',\n",
       "  'version': '7.8.1',\n",
       "  'hostname': 'VM1',\n",
       "  'name': 'VM1',\n",
       "  'ephemeral_id': '1b5e725d-d951-444e-9a7a-a77a1b82ac53'},\n",
       " 'related': {'user': ['root'], 'ip': ['0.0.0.0']},\n",
       " 'endpoint': 'logstash',\n",
       " 'customendpoint': True}"
      ]
     },
     "execution_count": 17,
     "metadata": {},
     "output_type": "execute_result"
    }
   ],
   "source": [
    "raw_data_con['hits']['hits'][0]['_source']['details']"
   ]
  },
  {
   "cell_type": "code",
   "execution_count": null,
   "id": "5c381dfe",
   "metadata": {},
   "outputs": [],
   "source": []
  },
  {
   "cell_type": "code",
   "execution_count": null,
   "id": "1276cb9f",
   "metadata": {},
   "outputs": [],
   "source": []
  },
  {
   "cell_type": "code",
   "execution_count": null,
   "id": "c820d6a4",
   "metadata": {},
   "outputs": [],
   "source": []
  },
  {
   "cell_type": "code",
   "execution_count": 18,
   "id": "acb99ec1",
   "metadata": {},
   "outputs": [],
   "source": [
    "availibilty = ['metricset',  'system']\n",
    "traceability = [ 'hostname', 'url', 'summary', 'icmp', 'monitor' ]\n",
    "integrity = ['hash',  'file']\n",
    "confidentiality = ['message',  'user', 'process', 'related']"
   ]
  }
 ],
 "metadata": {
  "kernelspec": {
   "display_name": "Python 3 (ipykernel)",
   "language": "python",
   "name": "python3"
  },
  "language_info": {
   "codemirror_mode": {
    "name": "ipython",
    "version": 3
   },
   "file_extension": ".py",
   "mimetype": "text/x-python",
   "name": "python",
   "nbconvert_exporter": "python",
   "pygments_lexer": "ipython3",
   "version": "3.10.4"
  }
 },
 "nbformat": 4,
 "nbformat_minor": 5
}
