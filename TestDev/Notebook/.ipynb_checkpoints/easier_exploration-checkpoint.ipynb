{
 "cells": [
  {
   "cell_type": "code",
   "execution_count": 1,
   "id": "1b9eb40c",
   "metadata": {},
   "outputs": [],
   "source": [
    "from elasticsearch6 import Elasticsearch\n",
    "import pandas as pd"
   ]
  },
  {
   "cell_type": "code",
   "execution_count": 2,
   "id": "1c4eda55",
   "metadata": {},
   "outputs": [],
   "source": [
    "import pprint\n",
    "pp = pprint.PrettyPrinter(indent=2)"
   ]
  },
  {
   "cell_type": "code",
   "execution_count": 3,
   "id": "02144d52",
   "metadata": {},
   "outputs": [],
   "source": [
    "host='localhost'\n",
    "port = 9200\n",
    "index =  \"events-20220502\""
   ]
  },
  {
   "cell_type": "code",
   "execution_count": 4,
   "id": "c0460bb6",
   "metadata": {},
   "outputs": [],
   "source": [
    "client = Elasticsearch(f'{host}:{port}')"
   ]
  },
  {
   "cell_type": "code",
   "execution_count": 5,
   "id": "36415f68",
   "metadata": {},
   "outputs": [],
   "source": [
    "def query(perimeter, hostname='VM1', size=10000):\n",
    "    return {\n",
    "        \"query\": {\n",
    "        \"bool\": {\n",
    "          \"must\": [\n",
    "            {\n",
    "              \"match\": {\n",
    "                \"category\": perimeter\n",
    "              }\n",
    "            },\n",
    "            {\n",
    "              \"match\": {\n",
    "                \"hostname\": hostname\n",
    "              }\n",
    "            }\n",
    "          ],\n",
    "          \"must_not\": [],\n",
    "          \"should\": []\n",
    "        }\n",
    "        },\n",
    "        \"from\": 0,\n",
    "        \"size\": 1000,\n",
    "        \"sort\": [],\n",
    "        \"aggs\": {}\n",
    "        }"
   ]
  },
  {
   "cell_type": "markdown",
   "id": "5e2f014b",
   "metadata": {},
   "source": [
    "# AVAILABILITY"
   ]
  },
  {
   "cell_type": "code",
   "execution_count": 6,
   "id": "9896ea3e",
   "metadata": {},
   "outputs": [],
   "source": [
    "raw_data_av = client.search(index=index, body=query('availability'))"
   ]
  },
  {
   "cell_type": "code",
   "execution_count": 7,
   "id": "536627cf",
   "metadata": {},
   "outputs": [
    {
     "data": {
      "text/plain": [
       "dict_keys(['event', 'service', 'ecs', 'metricset', 'agent', 'system', 'endpoint', 'customendpoint'])"
      ]
     },
     "execution_count": 7,
     "metadata": {},
     "output_type": "execute_result"
    }
   ],
   "source": [
    "raw_data_av['hits']['hits'][0]['_source']['details'].keys()"
   ]
  },
  {
   "cell_type": "code",
   "execution_count": 25,
   "id": "2a6ca32c",
   "metadata": {},
   "outputs": [
    {
     "data": {
      "text/plain": [
       "'system.memory'"
      ]
     },
     "execution_count": 25,
     "metadata": {},
     "output_type": "execute_result"
    }
   ],
   "source": [
    "raw_data_av['hits']['hits'][0]['_source']['details']['event']['dataset']"
   ]
  },
  {
   "cell_type": "code",
   "execution_count": 13,
   "id": "a57991f0",
   "metadata": {},
   "outputs": [
    {
     "data": {
      "text/plain": [
       "{'event': {'dataset': 'system.fsstat',\n",
       "  'duration': 3573175,\n",
       "  'module': 'system'},\n",
       " 'service': {'type': 'system'},\n",
       " 'metricset': {'period': 15000, 'name': 'fsstat'},\n",
       " 'ecs': {'version': '1.5.0'},\n",
       " 'agent': {'ephemeral_id': '46260b17-874a-409d-83ae-1af30e523258',\n",
       "  'type': 'metricbeat',\n",
       "  'hostname': 'VM1',\n",
       "  'id': '69c94e43-b718-4f50-8636-ef344572580d',\n",
       "  'name': 'VM1',\n",
       "  'version': '7.8.1'},\n",
       " 'system': {'fsstat': {'count': 109,\n",
       "   'total_files': 4195100,\n",
       "   'total_size': {'used': 15401783296,\n",
       "    'total': 21103867904,\n",
       "    'free': 5702084608}}},\n",
       " 'endpoint': 'logstash',\n",
       " 'customendpoint': True}"
      ]
     },
     "execution_count": 13,
     "metadata": {},
     "output_type": "execute_result"
    }
   ],
   "source": [
    "raw_data_av['hits']['hits'][1]['_source']['details']"
   ]
  },
  {
   "cell_type": "markdown",
   "id": "4aaaf609",
   "metadata": {},
   "source": [
    "# TRACEABILITY"
   ]
  },
  {
   "cell_type": "code",
   "execution_count": 9,
   "id": "a0d0f417",
   "metadata": {},
   "outputs": [],
   "source": [
    "raw_data_tr = client.search(index=index, body=query('traceability'))"
   ]
  },
  {
   "cell_type": "code",
   "execution_count": 10,
   "id": "69085bef",
   "metadata": {
    "scrolled": true
   },
   "outputs": [
    {
     "data": {
      "text/plain": [
       "dict_keys(['event', 'mongodb', 'service', 'ecs', 'metricset', 'agent', 'process', 'endpoint', 'customendpoint'])"
      ]
     },
     "execution_count": 10,
     "metadata": {},
     "output_type": "execute_result"
    }
   ],
   "source": [
    "raw_data_tr['hits']['hits'][0]['_source']['details'].keys()"
   ]
  },
  {
   "cell_type": "code",
   "execution_count": 19,
   "id": "11c4d60c",
   "metadata": {},
   "outputs": [
    {
     "name": "stdout",
     "output_type": "stream",
     "text": [
      "{ 'agent': { 'ephemeral_id': '46260b17-874a-409d-83ae-1af30e523258',\n",
      "             'hostname': 'VM1',\n",
      "             'id': '69c94e43-b718-4f50-8636-ef344572580d',\n",
      "             'name': 'VM1',\n",
      "             'type': 'metricbeat',\n",
      "             'version': '7.8.1'},\n",
      "  'customendpoint': True,\n",
      "  'ecs': {'version': '1.5.0'},\n",
      "  'endpoint': 'logstash',\n",
      "  'event': { 'dataset': 'mongodb.status',\n",
      "             'duration': 5947460,\n",
      "             'module': 'mongodb'},\n",
      "  'metricset': {'name': 'status', 'period': 10000},\n",
      "  'mongodb': { 'status': { 'asserts': { 'msg': 0,\n",
      "                                        'regular': 0,\n",
      "                                        'rollovers': 0,\n",
      "                                        'user': 11,\n",
      "                                        'warning': 0},\n",
      "                           'connections': { 'available': 51199,\n",
      "                                            'current': 1,\n",
      "                                            'total_created': 373764},\n",
      "                           'extra_info': {'heap_usage': {}, 'page_faults': 412},\n",
      "                           'global_lock': { 'active_clients': { 'readers': 0,\n",
      "                                                                'total': 0,\n",
      "                                                                'writers': 0},\n",
      "                                            'current_queue': { 'readers': 0,\n",
      "                                                               'total': 0,\n",
      "                                                               'writers': 0},\n",
      "                                            'total_time': { 'us': 3737644642000}},\n",
      "                           'local_time': '2021-11-09T20:38:06.640Z',\n",
      "                           'locks': { 'collection': { 'acquire': { 'count': { 'W': 2,\n",
      "                                                                              'r': 112148,\n",
      "                                                                              'w': 62293}},\n",
      "                                                      'deadlock': {},\n",
      "                                                      'wait': {}},\n",
      "                                      'database': { 'acquire': { 'count': { 'W': 4,\n",
      "                                                                            'r': 99680,\n",
      "                                                                            'w': 62293}},\n",
      "                                                    'deadlock': {},\n",
      "                                                    'wait': {}},\n",
      "                                      'global': { 'acquire': { 'count': { 'W': 4,\n",
      "                                                                          'r': 16171388,\n",
      "                                                                          'w': 62297}},\n",
      "                                                  'deadlock': {},\n",
      "                                                  'wait': {}}},\n",
      "                           'memory': { 'bits': 64,\n",
      "                                       'mapped': {},\n",
      "                                       'mapped_with_journal': {},\n",
      "                                       'resident': {'mb': 70},\n",
      "                                       'virtual': {'mb': 1479}},\n",
      "                           'network': { 'in': {'bytes': 86712784},\n",
      "                                        'out': {'bytes': 15962998624},\n",
      "                                        'requests': 1495048},\n",
      "                           'ops': { 'counters': { 'command': 1519966,\n",
      "                                                  'delete': 0,\n",
      "                                                  'getmore': 0,\n",
      "                                                  'insert': 0,\n",
      "                                                  'query': 12460,\n",
      "                                                  'update': 0},\n",
      "                                    'latencies': { 'commands': { 'count': 1495047,\n",
      "                                                                 'latency': 375774735},\n",
      "                                                   'reads': { 'count': 0,\n",
      "                                                              'latency': 0},\n",
      "                                                   'writes': { 'count': 0,\n",
      "                                                               'latency': 0}},\n",
      "                                    'replicated': { 'command': 0,\n",
      "                                                    'delete': 0,\n",
      "                                                    'getmore': 0,\n",
      "                                                    'insert': 0,\n",
      "                                                    'query': 0,\n",
      "                                                    'update': 0}},\n",
      "                           'storage_engine': {'name': 'wiredTiger'},\n",
      "                           'uptime': {'ms': 3737645104},\n",
      "                           'wired_tiger': { 'cache': { 'dirty': {'bytes': 1227},\n",
      "                                                       'maximum': { 'bytes': 268435456},\n",
      "                                                       'pages': { 'evicted': 0,\n",
      "                                                                  'read': 14,\n",
      "                                                                  'write': 124570},\n",
      "                                                       'used': { 'bytes': 60481}},\n",
      "                                            'concurrent_transactions': { 'read': { 'available': 128,\n",
      "                                                                                   'out': 0,\n",
      "                                                                                   'total_tickets': 128},\n",
      "                                                                         'write': { 'available': 128,\n",
      "                                                                                    'out': 0,\n",
      "                                                                                    'total_tickets': 128}},\n",
      "                                            'log': { 'flushes': 37374689,\n",
      "                                                     'max_file_size': { 'bytes': 104857600},\n",
      "                                                     'scans': 4,\n",
      "                                                     'size': { 'bytes': 33554432},\n",
      "                                                     'syncs': 70704,\n",
      "                                                     'write': { 'bytes': 103634048},\n",
      "                                                     'writes': 311397}}}},\n",
      "  'process': {'name': 'mongod'},\n",
      "  'service': { 'address': 'localhost:27017',\n",
      "               'type': 'mongodb',\n",
      "               'version': '4.4.3'}}\n",
      "\n",
      "\n"
     ]
    }
   ],
   "source": [
    "for i in range(1):\n",
    "    if raw_data_tr['hits']['hits'][i]['_source']['details']['agent']['type'] =='metricbeat':\n",
    "        pp.pprint(raw_data_tr['hits']['hits'][i]['_source']['details'])\n",
    "    else:\n",
    "        pass\n",
    "        #pp.pprint(raw_data_tr['hits']['hits'][i]['_source']['details'])\n",
    "    print('\\n')"
   ]
  },
  {
   "cell_type": "code",
   "execution_count": 33,
   "id": "93e1e69f",
   "metadata": {},
   "outputs": [
    {
     "name": "stdout",
     "output_type": "stream",
     "text": [
      "{ 'agent': { 'ephemeral_id': 'a155fa20-d061-40e7-9cbb-80df4c50cb40',\n",
      "             'hostname': 'test-conformite.netplus.priv',\n",
      "             'id': '016bd43b-ef2a-47c2-8e55-e991357aec94',\n",
      "             'name': 'test-conformite.netplus.priv',\n",
      "             'type': 'heartbeat',\n",
      "             'version': '7.9.3'},\n",
      "  'customendpoint': True,\n",
      "  'ecs': {'version': '1.5.0'},\n",
      "  'endpoint': 'logstash',\n",
      "  'event': {'dataset': 'uptime'},\n",
      "  'hostname': 'test-conformite.netplus.priv',\n",
      "  'icmp': {'requests': 1, 'rtt': {'us': 885}},\n",
      "  'monitor': { 'check_group': '2c72c535-ec2e-11ec-91b0-005056a5b664',\n",
      "               'duration': {'us': 1085},\n",
      "               'id': 'dead-host-monitor-f5869335bca2e2ed',\n",
      "               'ip': '192.168.122.3',\n",
      "               'name': 'dead-host-monitor',\n",
      "               'status': 'up',\n",
      "               'timespan': { 'gte': '2022-06-14T22:06:10.000Z',\n",
      "                             'lt': '2022-06-14T22:06:26.000Z'},\n",
      "               'type': 'icmp'},\n",
      "  'summary': {'down': 0, 'up': 1},\n",
      "  'url': { 'domain': '192.168.122.3',\n",
      "           'full': 'icmp://192.168.122.3',\n",
      "           'scheme': 'icmp'}}\n"
     ]
    }
   ],
   "source": [
    "pp.pprint(raw_data_tr['hits']['hits'][3]['_source']['details'])"
   ]
  },
  {
   "cell_type": "code",
   "execution_count": 12,
   "id": "42d11e4a",
   "metadata": {},
   "outputs": [
    {
     "ename": "KeyError",
     "evalue": "'monitor'",
     "output_type": "error",
     "traceback": [
      "\u001b[0;31m---------------------------------------------------------------------------\u001b[0m",
      "\u001b[0;31mKeyError\u001b[0m                                  Traceback (most recent call last)",
      "Input \u001b[0;32mIn [12]\u001b[0m, in \u001b[0;36m<cell line: 1>\u001b[0;34m()\u001b[0m\n\u001b[0;32m----> 1\u001b[0m \u001b[43mraw_data_tr\u001b[49m\u001b[43m[\u001b[49m\u001b[38;5;124;43m'\u001b[39;49m\u001b[38;5;124;43mhits\u001b[39;49m\u001b[38;5;124;43m'\u001b[39;49m\u001b[43m]\u001b[49m\u001b[43m[\u001b[49m\u001b[38;5;124;43m'\u001b[39;49m\u001b[38;5;124;43mhits\u001b[39;49m\u001b[38;5;124;43m'\u001b[39;49m\u001b[43m]\u001b[49m\u001b[43m[\u001b[49m\u001b[38;5;241;43m0\u001b[39;49m\u001b[43m]\u001b[49m\u001b[43m[\u001b[49m\u001b[38;5;124;43m'\u001b[39;49m\u001b[38;5;124;43m_source\u001b[39;49m\u001b[38;5;124;43m'\u001b[39;49m\u001b[43m]\u001b[49m\u001b[43m[\u001b[49m\u001b[38;5;124;43m'\u001b[39;49m\u001b[38;5;124;43mdetails\u001b[39;49m\u001b[38;5;124;43m'\u001b[39;49m\u001b[43m]\u001b[49m\u001b[43m[\u001b[49m\u001b[38;5;124;43m'\u001b[39;49m\u001b[38;5;124;43mmonitor\u001b[39;49m\u001b[38;5;124;43m'\u001b[39;49m\u001b[43m]\u001b[49m\n",
      "\u001b[0;31mKeyError\u001b[0m: 'monitor'"
     ]
    }
   ],
   "source": [
    "raw_data_tr['hits']['hits'][0]['_source']['details']['monitor']"
   ]
  },
  {
   "cell_type": "markdown",
   "id": "2caeb9fa",
   "metadata": {},
   "source": [
    "# INTEGRITY"
   ]
  },
  {
   "cell_type": "code",
   "execution_count": null,
   "id": "fe05efa1",
   "metadata": {},
   "outputs": [],
   "source": [
    "client = Elasticsearch(f'{host}:{port}')\n",
    "raw_data_int = client.search(index=index, body=query('integrity'))"
   ]
  },
  {
   "cell_type": "code",
   "execution_count": null,
   "id": "4ef0ff2e",
   "metadata": {},
   "outputs": [],
   "source": [
    "raw_data_int['hits']['hits'][0]['_source']['details'].keys()"
   ]
  },
  {
   "cell_type": "code",
   "execution_count": null,
   "id": "15efcff7",
   "metadata": {},
   "outputs": [],
   "source": [
    "for i in range(5):\n",
    "    pp.pprint(raw_data_int['hits']['hits'][i]['_source']['details'])\n",
    "    print('\\n')"
   ]
  },
  {
   "cell_type": "markdown",
   "id": "73f3e06b",
   "metadata": {},
   "source": [
    "# CONFIDENTIALITY"
   ]
  },
  {
   "cell_type": "code",
   "execution_count": null,
   "id": "f12b0b62",
   "metadata": {},
   "outputs": [],
   "source": [
    "raw_data_con = client.search(index=index, body=query('confidentiality'))"
   ]
  },
  {
   "cell_type": "code",
   "execution_count": null,
   "id": "ba8b072e",
   "metadata": {},
   "outputs": [],
   "source": [
    "raw_data_con['hits']['hits'][0]['_source']['details'].keys()"
   ]
  },
  {
   "cell_type": "code",
   "execution_count": null,
   "id": "33bcfd5e",
   "metadata": {},
   "outputs": [],
   "source": [
    "for i in range(10):\n",
    "    pp.pprint(raw_data_con['hits']['hits'][i]['_source']['details'])\n",
    "    print('\\n')\n"
   ]
  },
  {
   "cell_type": "code",
   "execution_count": null,
   "id": "5c381dfe",
   "metadata": {},
   "outputs": [],
   "source": []
  },
  {
   "cell_type": "code",
   "execution_count": null,
   "id": "1276cb9f",
   "metadata": {},
   "outputs": [],
   "source": []
  },
  {
   "cell_type": "code",
   "execution_count": null,
   "id": "c820d6a4",
   "metadata": {},
   "outputs": [],
   "source": []
  },
  {
   "cell_type": "code",
   "execution_count": null,
   "id": "acb99ec1",
   "metadata": {},
   "outputs": [],
   "source": [
    "availibilty = ['metricset',  'system']\n",
    "traceability = [ 'hostname', 'url', 'summary', 'icmp', 'monitor' ]\n",
    "integrity = ['hash',  'file']\n",
    "confidentiality = ['message',  'user', 'process', 'related']"
   ]
  }
 ],
 "metadata": {
  "kernelspec": {
   "display_name": "Python 3 (ipykernel)",
   "language": "python",
   "name": "python3"
  },
  "language_info": {
   "codemirror_mode": {
    "name": "ipython",
    "version": 3
   },
   "file_extension": ".py",
   "mimetype": "text/x-python",
   "name": "python",
   "nbconvert_exporter": "python",
   "pygments_lexer": "ipython3",
   "version": "3.10.4"
  }
 },
 "nbformat": 4,
 "nbformat_minor": 5
}
