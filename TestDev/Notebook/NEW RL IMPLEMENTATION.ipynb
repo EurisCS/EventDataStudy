{
 "cells": [
  {
   "cell_type": "code",
   "execution_count": 5,
   "id": "f183b8e6",
   "metadata": {},
   "outputs": [],
   "source": [
    "from gym import Env\n",
    "from gym.spaces import Discrete, Box, Dict\n",
    "import numpy as np\n",
    "import random"
   ]
  },
  {
   "cell_type": "code",
   "execution_count": 4,
   "id": "d482a367",
   "metadata": {},
   "outputs": [],
   "source": [
    "\n",
    "class CustomBaseEnvironment(Env):\n",
    "\n",
    "    def __init__(self, observation_space, action_space, function_reset_environment,\n",
    "                 function_get_observation_from_action):\n",
    "\n",
    "        # observations space of the environment\n",
    "        self.observation_space = observation_space\n",
    "      \n",
    "\n",
    "        # action space executed on the environment\n",
    "        self.action_space = action_space  \n",
    "\n",
    "        self.reset_environment = function_reset_environment\n",
    "        self.get_state_from_action = function_get_observation_from_action\n",
    "\n",
    "        # Set start temp\n",
    "        # self.state = self.get_observation_space()\n",
    "\n",
    "    def get_observation_space(self):\n",
    "        return self.observation_space.sample()\n",
    "\n",
    "    def reset(self, seed=None, return_info=False, options=None):\n",
    "        super().reset()\n",
    "\n",
    "        self.reset_environment()\n",
    "\n",
    "    def step(self, action):\n",
    "        state, reward, terminated, truncated, info = self.get_state_from_action(action)\n",
    "\n",
    "        return state, reward, terminated, truncated, info\n",
    "\n",
    "    def render(self, mode='human'):\n",
    "        super().render(mode)\n",
    "\n"
   ]
  },
  {
   "cell_type": "code",
   "execution_count": 10,
   "id": "aee496c9",
   "metadata": {},
   "outputs": [],
   "source": [
    "class MyownEnvironment():\n",
    "    \n",
    "    def __init__(self):\n",
    "        self.action_space =  Discrete(3)\n",
    "\n",
    "        self.observation_space = Box(low=np.array([0]), high=np.array([100]),dtype=float)\n",
    "\n",
    "    def reset_environment(self):\n",
    "        # Reset shower temperature\n",
    "        self.state = 38 + random.randint(-3,3)\n",
    "        # Reset shower time\n",
    "        self.shower_length = 60 \n",
    "        return self.state\n",
    "        \n",
    "        \n",
    "    def function_get_observation_from_action(self,action):\n",
    "        # Apply action\n",
    "        # 0 -1 = -1 temperature\n",
    "        # 1 -1 = 0 \n",
    "        # 2 -1 = 1 temperature \n",
    "        self.state += action -1 \n",
    "        \n",
    "        # Reduce shower length by 1 second\n",
    "        self.shower_length -= 1 \n",
    "        \n",
    "        # Calculate reward\n",
    "        if self.state >=37 and self.state <=39: \n",
    "            reward =1 \n",
    "        else: \n",
    "            reward = -1 \n",
    "        \n",
    "        # Check if shower is done\n",
    "        if self.shower_length <= 0: \n",
    "            done = True\n",
    "        else:\n",
    "            done = False\n",
    "        \n",
    "        # Apply temperature noise\n",
    "        #self.state += random.randint(-1,1)\n",
    "        # Set placeholder for info\n",
    "        info = {}\n",
    "        \n",
    "        # Return step information\n",
    "        return self.state, reward, done, info\n",
    "    \n",
    "   \n",
    "    \n",
    "    def generate_environment(self):\n",
    "        \n",
    "        return CustomBaseEnvironment(self.observation_space, self.action_space,self.reset_environment, self.generate_environment)\n",
    "    "
   ]
  },
  {
   "cell_type": "code",
   "execution_count": 11,
   "id": "936e2c04",
   "metadata": {},
   "outputs": [
    {
     "name": "stderr",
     "output_type": "stream",
     "text": [
      "/home/eguimard/.local/lib/python3.10/site-packages/gym/spaces/box.py:127: UserWarning: \u001b[33mWARN: Box bound precision lowered by casting to float64\u001b[0m\n",
      "  logger.warn(f\"Box bound precision lowered by casting to {self.dtype}\")\n"
     ]
    }
   ],
   "source": [
    "env = MyownEnvironment().generate_environment()"
   ]
  },
  {
   "cell_type": "code",
   "execution_count": null,
   "id": "0006daad",
   "metadata": {},
   "outputs": [],
   "source": []
  }
 ],
 "metadata": {
  "kernelspec": {
   "display_name": "Python 3 (ipykernel)",
   "language": "python",
   "name": "python3"
  },
  "language_info": {
   "codemirror_mode": {
    "name": "ipython",
    "version": 3
   },
   "file_extension": ".py",
   "mimetype": "text/x-python",
   "name": "python",
   "nbconvert_exporter": "python",
   "pygments_lexer": "ipython3",
   "version": "3.10.4"
  }
 },
 "nbformat": 4,
 "nbformat_minor": 5
}
