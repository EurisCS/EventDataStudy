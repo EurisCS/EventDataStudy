{
 "cells": [
  {
   "cell_type": "code",
   "execution_count": 1,
   "id": "58071084",
   "metadata": {},
   "outputs": [],
   "source": [
    "import pandas as pd"
   ]
  },
  {
   "cell_type": "code",
   "execution_count": 1,
   "id": "0fa26d64",
   "metadata": {},
   "outputs": [
    {
     "name": "stdout",
     "output_type": "stream",
     "text": [
      "Defaulting to user installation because normal site-packages is not writeable\n",
      "Collecting elasticsearch6\n",
      "  Using cached elasticsearch6-6.8.2-py2.py3-none-any.whl (90 kB)\n",
      "Requirement already satisfied: urllib3>=1.21.1 in /usr/lib/python3/dist-packages (from elasticsearch6) (1.26.5)\n",
      "Installing collected packages: elasticsearch6\n",
      "Successfully installed elasticsearch6-6.8.2\n"
     ]
    }
   ],
   "source": [
    "!pip install elasticsearch6"
   ]
  },
  {
   "cell_type": "code",
   "execution_count": 2,
   "id": "186cbc35",
   "metadata": {},
   "outputs": [],
   "source": [
    "path_data = '/home/eguimard/PycharmProjects/DataStudy/Data/Results/AcquiredData/'"
   ]
  },
  {
   "cell_type": "code",
   "execution_count": 3,
   "id": "c97feaba",
   "metadata": {},
   "outputs": [],
   "source": [
    "#path_file = '/home/eguimard/PycharmProjects/DataStudy/Data/Results/AcquiredData/events-20220502_eventIntegrityVM1_1000_row.csv'\n",
    "# df = pd.read_csv(path_file)"
   ]
  },
  {
   "cell_type": "code",
   "execution_count": 4,
   "id": "fcb3bf5c",
   "metadata": {},
   "outputs": [],
   "source": [
    "name_file = 'events-20220502_eventAvailabilityVM1_1000_row.pickle'\n",
    "\n",
    "df = pd.read_pickle(f'{path_data}/{name_file}')"
   ]
  },
  {
   "cell_type": "code",
   "execution_count": 5,
   "id": "ecc8f212",
   "metadata": {},
   "outputs": [
    {
     "data": {
      "text/html": [
       "<div>\n",
       "<style scoped>\n",
       "    .dataframe tbody tr th:only-of-type {\n",
       "        vertical-align: middle;\n",
       "    }\n",
       "\n",
       "    .dataframe tbody tr th {\n",
       "        vertical-align: top;\n",
       "    }\n",
       "\n",
       "    .dataframe thead th {\n",
       "        text-align: right;\n",
       "    }\n",
       "</style>\n",
       "<table border=\"1\" class=\"dataframe\">\n",
       "  <thead>\n",
       "    <tr style=\"text-align: right;\">\n",
       "      <th></th>\n",
       "      <th>summary</th>\n",
       "      <th>category</th>\n",
       "      <th>client_id</th>\n",
       "      <th>client_key</th>\n",
       "      <th>timestamp</th>\n",
       "      <th>hostname</th>\n",
       "      <th>source</th>\n",
       "      <th>tags</th>\n",
       "      <th>details</th>\n",
       "      <th>mozdef</th>\n",
       "      <th>probe_id</th>\n",
       "      <th>receivedtimestamp</th>\n",
       "      <th>utctimestamp</th>\n",
       "      <th>mozdefhostname</th>\n",
       "      <th>type</th>\n",
       "      <th>processid</th>\n",
       "      <th>processname</th>\n",
       "      <th>severity</th>\n",
       "      <th>plugins</th>\n",
       "    </tr>\n",
       "  </thead>\n",
       "  <tbody>\n",
       "    <tr>\n",
       "      <th>0</th>\n",
       "      <td>Memory statistics</td>\n",
       "      <td>availability</td>\n",
       "      <td>airliquide</td>\n",
       "      <td>69995ba006ba4ec3a86e4730343be794</td>\n",
       "      <td>2021-09-30T03:28:52.147Z</td>\n",
       "      <td>VM1</td>\n",
       "      <td>metricbeat</td>\n",
       "      <td>[metricbeat.system.memory]</td>\n",
       "      <td>{'metricset': {'name': 'memory', 'period': 150...</td>\n",
       "      <td>{'plugins': ['metricbeat', 'customDocType']}</td>\n",
       "      <td>45252251c1fb4265a64e1a8644156c94</td>\n",
       "      <td>2022-05-05T04:58:18.308796+00:00</td>\n",
       "      <td>2022-05-05T04:58:18.308816+00:00</td>\n",
       "      <td>c290481be022</td>\n",
       "      <td>event</td>\n",
       "      <td>UNKNOWN</td>\n",
       "      <td>UNKNOWN</td>\n",
       "      <td>UNKNOWN</td>\n",
       "      <td>[]</td>\n",
       "    </tr>\n",
       "    <tr>\n",
       "      <th>1</th>\n",
       "      <td>File system statistics</td>\n",
       "      <td>availability</td>\n",
       "      <td>airliquide</td>\n",
       "      <td>69995ba006ba4ec3a86e4730343be794</td>\n",
       "      <td>2021-09-30T03:28:54.576Z</td>\n",
       "      <td>VM1</td>\n",
       "      <td>metricbeat</td>\n",
       "      <td>[metricbeat.system.fsstat]</td>\n",
       "      <td>{'metricset': {'name': 'fsstat', 'period': 150...</td>\n",
       "      <td>{'plugins': ['metricbeat', 'customDocType']}</td>\n",
       "      <td>45252251c1fb4265a64e1a8644156c94</td>\n",
       "      <td>2022-05-05T04:58:20.726861+00:00</td>\n",
       "      <td>2022-05-05T04:58:20.726883+00:00</td>\n",
       "      <td>c290481be022</td>\n",
       "      <td>event</td>\n",
       "      <td>UNKNOWN</td>\n",
       "      <td>UNKNOWN</td>\n",
       "      <td>UNKNOWN</td>\n",
       "      <td>[]</td>\n",
       "    </tr>\n",
       "    <tr>\n",
       "      <th>2</th>\n",
       "      <td>CPU utilization</td>\n",
       "      <td>availability</td>\n",
       "      <td>airliquide</td>\n",
       "      <td>69995ba006ba4ec3a86e4730343be794</td>\n",
       "      <td>2021-09-30T03:28:58.530Z</td>\n",
       "      <td>VM1</td>\n",
       "      <td>metricbeat</td>\n",
       "      <td>[metricbeat.system.cpu]</td>\n",
       "      <td>{'metricset': {'name': 'cpu', 'period': 15000}...</td>\n",
       "      <td>{'plugins': ['metricbeat', 'customDocType']}</td>\n",
       "      <td>45252251c1fb4265a64e1a8644156c94</td>\n",
       "      <td>2022-05-05T04:58:24.682785+00:00</td>\n",
       "      <td>2022-05-05T04:58:24.682805+00:00</td>\n",
       "      <td>c290481be022</td>\n",
       "      <td>event</td>\n",
       "      <td>UNKNOWN</td>\n",
       "      <td>UNKNOWN</td>\n",
       "      <td>UNKNOWN</td>\n",
       "      <td>[]</td>\n",
       "    </tr>\n",
       "    <tr>\n",
       "      <th>3</th>\n",
       "      <td>Network IO metrics</td>\n",
       "      <td>availability</td>\n",
       "      <td>airliquide</td>\n",
       "      <td>69995ba006ba4ec3a86e4730343be794</td>\n",
       "      <td>2021-09-30T03:28:58.616Z</td>\n",
       "      <td>VM1</td>\n",
       "      <td>metricbeat</td>\n",
       "      <td>[metricbeat.system.network]</td>\n",
       "      <td>{'metricset': {'name': 'network', 'period': 15...</td>\n",
       "      <td>{'plugins': ['metricbeat', 'customDocType', 'm...</td>\n",
       "      <td>45252251c1fb4265a64e1a8644156c94</td>\n",
       "      <td>2022-05-05T04:58:24.689602+00:00</td>\n",
       "      <td>2022-05-05T04:58:24.689621+00:00</td>\n",
       "      <td>c290481be022</td>\n",
       "      <td>event</td>\n",
       "      <td>UNKNOWN</td>\n",
       "      <td>UNKNOWN</td>\n",
       "      <td>UNKNOWN</td>\n",
       "      <td>[]</td>\n",
       "    </tr>\n",
       "    <tr>\n",
       "      <th>4</th>\n",
       "      <td>Memory statistics</td>\n",
       "      <td>availability</td>\n",
       "      <td>airliquide</td>\n",
       "      <td>69995ba006ba4ec3a86e4730343be794</td>\n",
       "      <td>2021-09-30T03:29:07.148Z</td>\n",
       "      <td>VM1</td>\n",
       "      <td>metricbeat</td>\n",
       "      <td>[metricbeat.system.memory]</td>\n",
       "      <td>{'metricset': {'name': 'memory', 'period': 150...</td>\n",
       "      <td>{'plugins': ['metricbeat', 'customDocType']}</td>\n",
       "      <td>45252251c1fb4265a64e1a8644156c94</td>\n",
       "      <td>2022-05-05T04:58:32.825454+00:00</td>\n",
       "      <td>2022-05-05T04:58:32.825474+00:00</td>\n",
       "      <td>c290481be022</td>\n",
       "      <td>event</td>\n",
       "      <td>UNKNOWN</td>\n",
       "      <td>UNKNOWN</td>\n",
       "      <td>UNKNOWN</td>\n",
       "      <td>[]</td>\n",
       "    </tr>\n",
       "    <tr>\n",
       "      <th>...</th>\n",
       "      <td>...</td>\n",
       "      <td>...</td>\n",
       "      <td>...</td>\n",
       "      <td>...</td>\n",
       "      <td>...</td>\n",
       "      <td>...</td>\n",
       "      <td>...</td>\n",
       "      <td>...</td>\n",
       "      <td>...</td>\n",
       "      <td>...</td>\n",
       "      <td>...</td>\n",
       "      <td>...</td>\n",
       "      <td>...</td>\n",
       "      <td>...</td>\n",
       "      <td>...</td>\n",
       "      <td>...</td>\n",
       "      <td>...</td>\n",
       "      <td>...</td>\n",
       "      <td>...</td>\n",
       "    </tr>\n",
       "    <tr>\n",
       "      <th>995</th>\n",
       "      <td>Memory statistics</td>\n",
       "      <td>availability</td>\n",
       "      <td>airliquide</td>\n",
       "      <td>69995ba006ba4ec3a86e4730343be794</td>\n",
       "      <td>2021-09-30T06:24:22.148Z</td>\n",
       "      <td>VM1</td>\n",
       "      <td>metricbeat</td>\n",
       "      <td>[metricbeat.system.memory]</td>\n",
       "      <td>{'metricset': {'name': 'memory', 'period': 150...</td>\n",
       "      <td>{'plugins': ['metricbeat', 'customDocType']}</td>\n",
       "      <td>45252251c1fb4265a64e1a8644156c94</td>\n",
       "      <td>2022-05-05T07:53:48.059581+00:00</td>\n",
       "      <td>2022-05-05T07:53:48.059601+00:00</td>\n",
       "      <td>c290481be022</td>\n",
       "      <td>event</td>\n",
       "      <td>UNKNOWN</td>\n",
       "      <td>UNKNOWN</td>\n",
       "      <td>UNKNOWN</td>\n",
       "      <td>[]</td>\n",
       "    </tr>\n",
       "    <tr>\n",
       "      <th>996</th>\n",
       "      <td>File system statistics</td>\n",
       "      <td>availability</td>\n",
       "      <td>airliquide</td>\n",
       "      <td>69995ba006ba4ec3a86e4730343be794</td>\n",
       "      <td>2021-09-30T06:24:24.576Z</td>\n",
       "      <td>VM1</td>\n",
       "      <td>metricbeat</td>\n",
       "      <td>[metricbeat.system.fsstat]</td>\n",
       "      <td>{'metricset': {'name': 'fsstat', 'period': 150...</td>\n",
       "      <td>{'plugins': ['metricbeat', 'customDocType']}</td>\n",
       "      <td>45252251c1fb4265a64e1a8644156c94</td>\n",
       "      <td>2022-05-05T07:53:50.462279+00:00</td>\n",
       "      <td>2022-05-05T07:53:50.462298+00:00</td>\n",
       "      <td>c290481be022</td>\n",
       "      <td>event</td>\n",
       "      <td>UNKNOWN</td>\n",
       "      <td>UNKNOWN</td>\n",
       "      <td>UNKNOWN</td>\n",
       "      <td>[]</td>\n",
       "    </tr>\n",
       "    <tr>\n",
       "      <th>997</th>\n",
       "      <td>CPU utilization</td>\n",
       "      <td>availability</td>\n",
       "      <td>airliquide</td>\n",
       "      <td>69995ba006ba4ec3a86e4730343be794</td>\n",
       "      <td>2021-09-30T06:24:28.530Z</td>\n",
       "      <td>VM1</td>\n",
       "      <td>metricbeat</td>\n",
       "      <td>[metricbeat.system.cpu]</td>\n",
       "      <td>{'metricset': {'name': 'cpu', 'period': 15000}...</td>\n",
       "      <td>{'plugins': ['metricbeat', 'customDocType']}</td>\n",
       "      <td>45252251c1fb4265a64e1a8644156c94</td>\n",
       "      <td>2022-05-05T07:53:54.425699+00:00</td>\n",
       "      <td>2022-05-05T07:53:54.425719+00:00</td>\n",
       "      <td>c290481be022</td>\n",
       "      <td>event</td>\n",
       "      <td>UNKNOWN</td>\n",
       "      <td>UNKNOWN</td>\n",
       "      <td>UNKNOWN</td>\n",
       "      <td>[]</td>\n",
       "    </tr>\n",
       "    <tr>\n",
       "      <th>998</th>\n",
       "      <td>Network IO metrics</td>\n",
       "      <td>availability</td>\n",
       "      <td>airliquide</td>\n",
       "      <td>69995ba006ba4ec3a86e4730343be794</td>\n",
       "      <td>2021-09-30T06:24:28.616Z</td>\n",
       "      <td>VM1</td>\n",
       "      <td>metricbeat</td>\n",
       "      <td>[metricbeat.system.network]</td>\n",
       "      <td>{'metricset': {'name': 'network', 'period': 15...</td>\n",
       "      <td>{'plugins': ['metricbeat', 'customDocType', 'm...</td>\n",
       "      <td>45252251c1fb4265a64e1a8644156c94</td>\n",
       "      <td>2022-05-05T07:53:54.433788+00:00</td>\n",
       "      <td>2022-05-05T07:53:54.433807+00:00</td>\n",
       "      <td>c290481be022</td>\n",
       "      <td>event</td>\n",
       "      <td>UNKNOWN</td>\n",
       "      <td>UNKNOWN</td>\n",
       "      <td>UNKNOWN</td>\n",
       "      <td>[]</td>\n",
       "    </tr>\n",
       "    <tr>\n",
       "      <th>999</th>\n",
       "      <td>Memory statistics</td>\n",
       "      <td>availability</td>\n",
       "      <td>airliquide</td>\n",
       "      <td>69995ba006ba4ec3a86e4730343be794</td>\n",
       "      <td>2021-09-30T06:24:37.148Z</td>\n",
       "      <td>VM1</td>\n",
       "      <td>metricbeat</td>\n",
       "      <td>[metricbeat.system.memory]</td>\n",
       "      <td>{'metricset': {'name': 'memory', 'period': 150...</td>\n",
       "      <td>{'plugins': ['metricbeat', 'customDocType']}</td>\n",
       "      <td>45252251c1fb4265a64e1a8644156c94</td>\n",
       "      <td>2022-05-05T07:54:02.555302+00:00</td>\n",
       "      <td>2022-05-05T07:54:02.555322+00:00</td>\n",
       "      <td>c290481be022</td>\n",
       "      <td>event</td>\n",
       "      <td>UNKNOWN</td>\n",
       "      <td>UNKNOWN</td>\n",
       "      <td>UNKNOWN</td>\n",
       "      <td>[]</td>\n",
       "    </tr>\n",
       "  </tbody>\n",
       "</table>\n",
       "<p>1000 rows × 19 columns</p>\n",
       "</div>"
      ],
      "text/plain": [
       "                    summary      category   client_id  \\\n",
       "0         Memory statistics  availability  airliquide   \n",
       "1    File system statistics  availability  airliquide   \n",
       "2           CPU utilization  availability  airliquide   \n",
       "3        Network IO metrics  availability  airliquide   \n",
       "4         Memory statistics  availability  airliquide   \n",
       "..                      ...           ...         ...   \n",
       "995       Memory statistics  availability  airliquide   \n",
       "996  File system statistics  availability  airliquide   \n",
       "997         CPU utilization  availability  airliquide   \n",
       "998      Network IO metrics  availability  airliquide   \n",
       "999       Memory statistics  availability  airliquide   \n",
       "\n",
       "                           client_key                 timestamp hostname  \\\n",
       "0    69995ba006ba4ec3a86e4730343be794  2021-09-30T03:28:52.147Z      VM1   \n",
       "1    69995ba006ba4ec3a86e4730343be794  2021-09-30T03:28:54.576Z      VM1   \n",
       "2    69995ba006ba4ec3a86e4730343be794  2021-09-30T03:28:58.530Z      VM1   \n",
       "3    69995ba006ba4ec3a86e4730343be794  2021-09-30T03:28:58.616Z      VM1   \n",
       "4    69995ba006ba4ec3a86e4730343be794  2021-09-30T03:29:07.148Z      VM1   \n",
       "..                                ...                       ...      ...   \n",
       "995  69995ba006ba4ec3a86e4730343be794  2021-09-30T06:24:22.148Z      VM1   \n",
       "996  69995ba006ba4ec3a86e4730343be794  2021-09-30T06:24:24.576Z      VM1   \n",
       "997  69995ba006ba4ec3a86e4730343be794  2021-09-30T06:24:28.530Z      VM1   \n",
       "998  69995ba006ba4ec3a86e4730343be794  2021-09-30T06:24:28.616Z      VM1   \n",
       "999  69995ba006ba4ec3a86e4730343be794  2021-09-30T06:24:37.148Z      VM1   \n",
       "\n",
       "         source                         tags  \\\n",
       "0    metricbeat   [metricbeat.system.memory]   \n",
       "1    metricbeat   [metricbeat.system.fsstat]   \n",
       "2    metricbeat      [metricbeat.system.cpu]   \n",
       "3    metricbeat  [metricbeat.system.network]   \n",
       "4    metricbeat   [metricbeat.system.memory]   \n",
       "..          ...                          ...   \n",
       "995  metricbeat   [metricbeat.system.memory]   \n",
       "996  metricbeat   [metricbeat.system.fsstat]   \n",
       "997  metricbeat      [metricbeat.system.cpu]   \n",
       "998  metricbeat  [metricbeat.system.network]   \n",
       "999  metricbeat   [metricbeat.system.memory]   \n",
       "\n",
       "                                               details  \\\n",
       "0    {'metricset': {'name': 'memory', 'period': 150...   \n",
       "1    {'metricset': {'name': 'fsstat', 'period': 150...   \n",
       "2    {'metricset': {'name': 'cpu', 'period': 15000}...   \n",
       "3    {'metricset': {'name': 'network', 'period': 15...   \n",
       "4    {'metricset': {'name': 'memory', 'period': 150...   \n",
       "..                                                 ...   \n",
       "995  {'metricset': {'name': 'memory', 'period': 150...   \n",
       "996  {'metricset': {'name': 'fsstat', 'period': 150...   \n",
       "997  {'metricset': {'name': 'cpu', 'period': 15000}...   \n",
       "998  {'metricset': {'name': 'network', 'period': 15...   \n",
       "999  {'metricset': {'name': 'memory', 'period': 150...   \n",
       "\n",
       "                                                mozdef  \\\n",
       "0         {'plugins': ['metricbeat', 'customDocType']}   \n",
       "1         {'plugins': ['metricbeat', 'customDocType']}   \n",
       "2         {'plugins': ['metricbeat', 'customDocType']}   \n",
       "3    {'plugins': ['metricbeat', 'customDocType', 'm...   \n",
       "4         {'plugins': ['metricbeat', 'customDocType']}   \n",
       "..                                                 ...   \n",
       "995       {'plugins': ['metricbeat', 'customDocType']}   \n",
       "996       {'plugins': ['metricbeat', 'customDocType']}   \n",
       "997       {'plugins': ['metricbeat', 'customDocType']}   \n",
       "998  {'plugins': ['metricbeat', 'customDocType', 'm...   \n",
       "999       {'plugins': ['metricbeat', 'customDocType']}   \n",
       "\n",
       "                             probe_id                 receivedtimestamp  \\\n",
       "0    45252251c1fb4265a64e1a8644156c94  2022-05-05T04:58:18.308796+00:00   \n",
       "1    45252251c1fb4265a64e1a8644156c94  2022-05-05T04:58:20.726861+00:00   \n",
       "2    45252251c1fb4265a64e1a8644156c94  2022-05-05T04:58:24.682785+00:00   \n",
       "3    45252251c1fb4265a64e1a8644156c94  2022-05-05T04:58:24.689602+00:00   \n",
       "4    45252251c1fb4265a64e1a8644156c94  2022-05-05T04:58:32.825454+00:00   \n",
       "..                                ...                               ...   \n",
       "995  45252251c1fb4265a64e1a8644156c94  2022-05-05T07:53:48.059581+00:00   \n",
       "996  45252251c1fb4265a64e1a8644156c94  2022-05-05T07:53:50.462279+00:00   \n",
       "997  45252251c1fb4265a64e1a8644156c94  2022-05-05T07:53:54.425699+00:00   \n",
       "998  45252251c1fb4265a64e1a8644156c94  2022-05-05T07:53:54.433788+00:00   \n",
       "999  45252251c1fb4265a64e1a8644156c94  2022-05-05T07:54:02.555302+00:00   \n",
       "\n",
       "                         utctimestamp mozdefhostname   type processid  \\\n",
       "0    2022-05-05T04:58:18.308816+00:00   c290481be022  event   UNKNOWN   \n",
       "1    2022-05-05T04:58:20.726883+00:00   c290481be022  event   UNKNOWN   \n",
       "2    2022-05-05T04:58:24.682805+00:00   c290481be022  event   UNKNOWN   \n",
       "3    2022-05-05T04:58:24.689621+00:00   c290481be022  event   UNKNOWN   \n",
       "4    2022-05-05T04:58:32.825474+00:00   c290481be022  event   UNKNOWN   \n",
       "..                                ...            ...    ...       ...   \n",
       "995  2022-05-05T07:53:48.059601+00:00   c290481be022  event   UNKNOWN   \n",
       "996  2022-05-05T07:53:50.462298+00:00   c290481be022  event   UNKNOWN   \n",
       "997  2022-05-05T07:53:54.425719+00:00   c290481be022  event   UNKNOWN   \n",
       "998  2022-05-05T07:53:54.433807+00:00   c290481be022  event   UNKNOWN   \n",
       "999  2022-05-05T07:54:02.555322+00:00   c290481be022  event   UNKNOWN   \n",
       "\n",
       "    processname severity plugins  \n",
       "0       UNKNOWN  UNKNOWN      []  \n",
       "1       UNKNOWN  UNKNOWN      []  \n",
       "2       UNKNOWN  UNKNOWN      []  \n",
       "3       UNKNOWN  UNKNOWN      []  \n",
       "4       UNKNOWN  UNKNOWN      []  \n",
       "..          ...      ...     ...  \n",
       "995     UNKNOWN  UNKNOWN      []  \n",
       "996     UNKNOWN  UNKNOWN      []  \n",
       "997     UNKNOWN  UNKNOWN      []  \n",
       "998     UNKNOWN  UNKNOWN      []  \n",
       "999     UNKNOWN  UNKNOWN      []  \n",
       "\n",
       "[1000 rows x 19 columns]"
      ]
     },
     "execution_count": 5,
     "metadata": {},
     "output_type": "execute_result"
    }
   ],
   "source": [
    "df"
   ]
  },
  {
   "cell_type": "code",
   "execution_count": 6,
   "id": "bc2fbea5",
   "metadata": {},
   "outputs": [
    {
     "data": {
      "text/plain": [
       "(1000, 19)"
      ]
     },
     "execution_count": 6,
     "metadata": {},
     "output_type": "execute_result"
    }
   ],
   "source": [
    "df.shape"
   ]
  },
  {
   "cell_type": "code",
   "execution_count": 7,
   "id": "2fa4dc3e",
   "metadata": {},
   "outputs": [
    {
     "data": {
      "text/plain": [
       "Index(['summary', 'category', 'client_id', 'client_key', 'timestamp',\n",
       "       'hostname', 'source', 'tags', 'details', 'mozdef', 'probe_id',\n",
       "       'receivedtimestamp', 'utctimestamp', 'mozdefhostname', 'type',\n",
       "       'processid', 'processname', 'severity', 'plugins'],\n",
       "      dtype='object')"
      ]
     },
     "execution_count": 7,
     "metadata": {},
     "output_type": "execute_result"
    }
   ],
   "source": [
    "df.columns"
   ]
  },
  {
   "cell_type": "code",
   "execution_count": 8,
   "id": "cb92e913",
   "metadata": {},
   "outputs": [],
   "source": [
    "# on va prendre une ligne et aller chercher dans la categorie Détails\n",
    "# Au sein de cette catégorie, ce qui va nous interresser c'est la catégorie system, le reste étant des méta-informations"
   ]
  },
  {
   "cell_type": "code",
   "execution_count": 9,
   "id": "13bd7059",
   "metadata": {},
   "outputs": [],
   "source": [
    "index = 20  "
   ]
  },
  {
   "cell_type": "code",
   "execution_count": 10,
   "id": "a67d706e",
   "metadata": {},
   "outputs": [
    {
     "name": "stdout",
     "output_type": "stream",
     "text": [
      "pb info : Memory statistics\n",
      "DICA :    availability\n"
     ]
    }
   ],
   "source": [
    "print(f\"pb info : {df['summary'][index]}\")\n",
    "print(f\"DICA :    {df['category'][index]}\")"
   ]
  },
  {
   "cell_type": "code",
   "execution_count": 11,
   "id": "98e501c4",
   "metadata": {},
   "outputs": [
    {
     "data": {
      "text/plain": [
       "'UNKNOWN'"
      ]
     },
     "execution_count": 11,
     "metadata": {},
     "output_type": "execute_result"
    }
   ],
   "source": [
    "df['severity'][index]"
   ]
  },
  {
   "cell_type": "code",
   "execution_count": 12,
   "id": "e4703659",
   "metadata": {},
   "outputs": [
    {
     "data": {
      "text/plain": [
       "dict_keys(['metricset', 'event', 'service', 'ecs', 'agent', 'system', 'endpoint', 'customendpoint'])"
      ]
     },
     "execution_count": 12,
     "metadata": {},
     "output_type": "execute_result"
    }
   ],
   "source": [
    "df['details'][index].keys()"
   ]
  },
  {
   "cell_type": "code",
   "execution_count": 13,
   "id": "329c6848",
   "metadata": {},
   "outputs": [
    {
     "data": {
      "text/plain": [
       "{'metricset': {'name': 'memory', 'period': 15000},\n",
       " 'event': {'module': 'system',\n",
       "  'duration': 5050741,\n",
       "  'dataset': 'system.memory'},\n",
       " 'service': {'type': 'system'},\n",
       " 'ecs': {'version': '1.5.0'},\n",
       " 'agent': {'id': '69c94e43-b718-4f50-8636-ef344572580d',\n",
       "  'type': 'metricbeat',\n",
       "  'version': '7.8.1',\n",
       "  'hostname': 'VM1',\n",
       "  'name': 'VM1',\n",
       "  'ephemeral_id': '46260b17-874a-409d-83ae-1af30e523258'},\n",
       " 'endpoint': 'logstash',\n",
       " 'customendpoint': True}"
      ]
     },
     "execution_count": 13,
     "metadata": {},
     "output_type": "execute_result"
    }
   ],
   "source": [
    "meta_info = df['details'][index].copy()\n",
    "meta_info.pop('system')\n",
    "meta_info"
   ]
  },
  {
   "cell_type": "code",
   "execution_count": 14,
   "id": "02cb78ad",
   "metadata": {},
   "outputs": [],
   "source": [
    "# il n'ya qu'une seul categorie dans system -> memory \n"
   ]
  },
  {
   "cell_type": "code",
   "execution_count": 15,
   "id": "44fa1fab",
   "metadata": {},
   "outputs": [
    {
     "data": {
      "text/plain": [
       "'memory'"
      ]
     },
     "execution_count": 15,
     "metadata": {},
     "output_type": "execute_result"
    }
   ],
   "source": [
    "key_system_impacted = list(df['details'][index]['system'].keys())\n",
    "if len(key_system_impacted) == 1:\n",
    "    key_system_impacted = key_system_impacted[0]\n",
    "else:\n",
    "    print('not just on indice')\n",
    "key_system_impacted"
   ]
  },
  {
   "cell_type": "code",
   "execution_count": 16,
   "id": "488cb4bc",
   "metadata": {},
   "outputs": [
    {
     "data": {
      "text/plain": [
       "dict_keys(['swap', 'actual', 'total', 'page_stats', 'used', 'free', 'hugepages'])"
      ]
     },
     "execution_count": 16,
     "metadata": {},
     "output_type": "execute_result"
    }
   ],
   "source": [
    "df['details'][index]['system'][key_system_impacted].keys()"
   ]
  },
  {
   "cell_type": "code",
   "execution_count": 17,
   "id": "1abf2a1e",
   "metadata": {},
   "outputs": [
    {
     "data": {
      "text/plain": [
       "{'swap': {'in': {'pages': 0},\n",
       "  'readahead': {'pages': 0, 'cached': 0},\n",
       "  'total': 0,\n",
       "  'used': {'pct': 0, 'bytes': 0},\n",
       "  'free': 0,\n",
       "  'out': {'pages': 0}},\n",
       " 'actual': {'free': 611663872, 'used': {'pct': 0.4055, 'bytes': 417181696}},\n",
       " 'total': 1028845568,\n",
       " 'page_stats': {'pgsteal_direct': {'pages': 125},\n",
       "  'pgsteal_kswapd': {'pages': 552583},\n",
       "  'direct_efficiency': {'pct': 1},\n",
       "  'kswapd_efficiency': {'pct': 0.8723},\n",
       "  'pgfree': {'pages': 18499361},\n",
       "  'pgscan_kswapd': {'pages': 633473},\n",
       "  'pgscan_direct': {'pages': 125}},\n",
       " 'used': {'pct': 0.9126, 'bytes': 938921984},\n",
       " 'free': 89923584,\n",
       " 'hugepages': {'total': 0,\n",
       "  'used': {'pct': 0, 'bytes': 0},\n",
       "  'swap': {'out': {'pages': 0, 'fallback': 0}},\n",
       "  'default_size': 2097152,\n",
       "  'free': 0,\n",
       "  'surplus': 0,\n",
       "  'reserved': 0}}"
      ]
     },
     "execution_count": 17,
     "metadata": {},
     "output_type": "execute_result"
    }
   ],
   "source": [
    "system_info = df['details'][index]['system'][key_system_impacted]\n",
    "system_info "
   ]
  },
  {
   "cell_type": "code",
   "execution_count": 18,
   "id": "e24dec1f",
   "metadata": {},
   "outputs": [
    {
     "name": "stdout",
     "output_type": "stream",
     "text": [
      "cpu\n"
     ]
    },
    {
     "data": {
      "text/plain": [
       "{'softirq': {'pct': 0, 'norm': {'pct': 0}},\n",
       " 'system': {'pct': 0.0027, 'norm': {'pct': 0.0027}},\n",
       " 'cores': 1,\n",
       " 'total': {'pct': 0.0094, 'norm': {'pct': 0.0094}},\n",
       " 'steal': {'pct': 0, 'norm': {'pct': 0}},\n",
       " 'iowait': {'pct': 0, 'norm': {'pct': 0}},\n",
       " 'nice': {'pct': 0, 'norm': {'pct': 0}},\n",
       " 'idle': {'pct': 0.9906, 'norm': {'pct': 0.9906}},\n",
       " 'user': {'pct': 0.0067, 'norm': {'pct': 0.0067}},\n",
       " 'irq': {'pct': 0, 'norm': {'pct': 0}}}"
      ]
     },
     "execution_count": 18,
     "metadata": {},
     "output_type": "execute_result"
    }
   ],
   "source": [
    "index = 10 \n",
    "key_system_impacted = list(df['details'][index]['system'].keys())\n",
    "if len(key_system_impacted) == 1:\n",
    "    key_system_impacted = key_system_impacted[0]\n",
    "else:\n",
    "    print('not just on indice')\n",
    "print(key_system_impacted)\n",
    "\n",
    "system_info = df['details'][index]['system'][key_system_impacted]\n",
    "system_info"
   ]
  },
  {
   "cell_type": "code",
   "execution_count": 19,
   "id": "bda86226",
   "metadata": {},
   "outputs": [
    {
     "name": "stdout",
     "output_type": "stream",
     "text": [
      "network\n"
     ]
    },
    {
     "data": {
      "text/plain": [
       "{'in': {'errors': 0, 'packets': 1478614, 'bytes': 71441037, 'dropped': 15},\n",
       " 'name': 'eth0',\n",
       " 'out': {'errors': 0, 'packets': 212555, 'bytes': 253576055, 'dropped': 0}}"
      ]
     },
     "execution_count": 19,
     "metadata": {},
     "output_type": "execute_result"
    }
   ],
   "source": [
    "index = 355\n",
    "key_system_impacted = list(df['details'][index]['system'].keys())\n",
    "if len(key_system_impacted) == 1:\n",
    "    key_system_impacted = key_system_impacted[0]\n",
    "else:\n",
    "    print('not just on indice')\n",
    "print(key_system_impacted)\n",
    "\n",
    "system_info = df['details'][index]['system'][key_system_impacted]\n",
    "system_info"
   ]
  },
  {
   "cell_type": "code",
   "execution_count": 27,
   "id": "68d59333",
   "metadata": {},
   "outputs": [
    {
     "name": "stdout",
     "output_type": "stream",
     "text": [
      "memory\n"
     ]
    },
    {
     "data": {
      "text/plain": [
       "{'swap': {'in': {'pages': 0},\n",
       "  'readahead': {'pages': 0, 'cached': 0},\n",
       "  'total': 0,\n",
       "  'used': {'pct': 0, 'bytes': 0},\n",
       "  'free': 0,\n",
       "  'out': {'pages': 0}},\n",
       " 'total': 1028845568,\n",
       " 'used': {'pct': 0.9162, 'bytes': 942649344},\n",
       " 'actual': {'free': 611172352, 'used': {'pct': 0.406, 'bytes': 417673216}},\n",
       " 'page_stats': {'pgsteal_direct': {'pages': 125},\n",
       "  'pgsteal_kswapd': {'pages': 552583},\n",
       "  'direct_efficiency': {'pct': 1},\n",
       "  'kswapd_efficiency': {'pct': 0.8723},\n",
       "  'pgscan_kswapd': {'pages': 633473},\n",
       "  'pgscan_direct': {'pages': 125},\n",
       "  'pgfree': {'pages': 18563487}},\n",
       " 'free': 86196224,\n",
       " 'hugepages': {'swap': {'out': {'pages': 0, 'fallback': 0}},\n",
       "  'total': 0,\n",
       "  'used': {'pct': 0, 'bytes': 0},\n",
       "  'default_size': 2097152,\n",
       "  'free': 0,\n",
       "  'surplus': 0,\n",
       "  'reserved': 0}}"
      ]
     },
     "execution_count": 27,
     "metadata": {},
     "output_type": "execute_result"
    }
   ],
   "source": [
    "index = 356\n",
    "key_system_impacted = list(df['details'][index]['system'].keys())\n",
    "if len(key_system_impacted) == 1:\n",
    "    key_system_impacted = key_system_impacted[0]\n",
    "else:\n",
    "    print('not just on indice')\n",
    "print(key_system_impacted)\n",
    "\n",
    "system_info = df['details'][index]['system'][key_system_impacted]\n",
    "\n",
    "system_info"
   ]
  },
  {
   "cell_type": "code",
   "execution_count": null,
   "id": "4750c58f",
   "metadata": {},
   "outputs": [],
   "source": []
  },
  {
   "cell_type": "code",
   "execution_count": 20,
   "id": "ef0adfe1",
   "metadata": {},
   "outputs": [
    {
     "name": "stdout",
     "output_type": "stream",
     "text": [
      "\n",
      "in : {'errors': 0, 'packets': 1478614, 'bytes': 71441037, 'dropped': 15}\n",
      "\n",
      "name : eth0\n",
      "\n",
      "out : {'errors': 0, 'packets': 212555, 'bytes': 253576055, 'dropped': 0}\n"
     ]
    }
   ],
   "source": [
    "for key in system_info.keys():\n",
    "    print(f'\\n{key} : {system_info[key]}')"
   ]
  },
  {
   "cell_type": "code",
   "execution_count": 21,
   "id": "d167d54c",
   "metadata": {},
   "outputs": [],
   "source": [
    "# function to pycharm here ->"
   ]
  },
  {
   "cell_type": "code",
   "execution_count": 22,
   "id": "e0b21e1b",
   "metadata": {},
   "outputs": [
    {
     "name": "stdout",
     "output_type": "stream",
     "text": [
      "[{'errors': 0, 'packets': 1478614, 'bytes': 71441037, 'dropped': 15}, 'eth0', {'errors': 0, 'packets': 212555, 'bytes': 253576055, 'dropped': 0}]\n"
     ]
    }
   ],
   "source": [
    "\n",
    "def extract_datas(df, index):\n",
    "    details = df['details'][index]\n",
    "    \n",
    "    system = details['system']\n",
    "    \n",
    "    list_system =[]\n",
    "    \n",
    "    for key in system.keys():\n",
    "        \n",
    "\n",
    "        \n",
    "        for key_2 in system[key].keys():\n",
    "            list_system.append(system[key][key_2])\n",
    "\n",
    "    return list_system\n",
    "\n",
    "ls = extract_datas(df, index)\n",
    "print(ls)"
   ]
  }
 ],
 "metadata": {
  "kernelspec": {
   "display_name": "Python 3 (ipykernel)",
   "language": "python",
   "name": "python3"
  },
  "language_info": {
   "codemirror_mode": {
    "name": "ipython",
    "version": 3
   },
   "file_extension": ".py",
   "mimetype": "text/x-python",
   "name": "python",
   "nbconvert_exporter": "python",
   "pygments_lexer": "ipython3",
   "version": "3.10.4"
  }
 },
 "nbformat": 4,
 "nbformat_minor": 5
}
