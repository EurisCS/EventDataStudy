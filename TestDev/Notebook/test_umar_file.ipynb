{
 "cells": [
  {
   "cell_type": "code",
   "execution_count": 3,
   "id": "f255710f",
   "metadata": {},
   "outputs": [],
   "source": [
    "path = '/home/eguimard/Documents/test_umar.txt'"
   ]
  },
  {
   "cell_type": "code",
   "execution_count": 47,
   "id": "e4de2318",
   "metadata": {},
   "outputs": [],
   "source": [
    "def main_insert_comma_into_file(in_path_file,out_path_file, list_comma_location):\n",
    "\n",
    "    str_file = open_file(in_path_file)\n",
    "    list_row_file = str_file.split('\\n')\n",
    "    \n",
    "    if '' in list_row_file:\n",
    "        list_row_file.remove('')\n",
    "    print(list_row_file)\n",
    "    \n",
    "    final_str_file = ''\n",
    "    for str_row in list_row_file:\n",
    "\n",
    "        str_row_with_comma = insert_comma_into_str(str_row, list_comma_location)\n",
    "        final_str_file = f'{final_str_file}{str_row_with_comma}\\n'\n",
    "\n",
    "    replace_file(final_str_file, out_path_file)\n",
    "\n",
    "\n",
    "def insert_comma_into_str(string, list_insert_location):\n",
    "    final_string = ''\n",
    "    init_insert = 0\n",
    "    for insert in list_insert_location:\n",
    "        final_string = f'{final_string}{string[init_insert:insert]},'\n",
    "        init_insert = insert\n",
    "\n",
    "    final_string = f'{final_string}{string[init_insert:]}'\n",
    "    \n",
    "    return final_string\n",
    "\n",
    "\n",
    "def open_file(path_file):\n",
    "    with open(path_file, \"r\") as file:\n",
    "        return file.read()\n",
    "\n",
    "def replace_file(str_file, path_file):\n",
    "    with open(path_file, \"w\") as file:\n",
    "        file.write(str_file)"
   ]
  },
  {
   "cell_type": "code",
   "execution_count": 49,
   "id": "73840313",
   "metadata": {},
   "outputs": [
    {
     "ename": "FileNotFoundError",
     "evalue": "[Errno 2] No such file or directory: ''",
     "output_type": "error",
     "traceback": [
      "\u001b[0;31m---------------------------------------------------------------------------\u001b[0m",
      "\u001b[0;31mFileNotFoundError\u001b[0m                         Traceback (most recent call last)",
      "Input \u001b[0;32mIn [49]\u001b[0m, in \u001b[0;36m<cell line: 4>\u001b[0;34m()\u001b[0m\n\u001b[1;32m      2\u001b[0m out_path_file \u001b[38;5;241m=\u001b[39m \u001b[38;5;124m\"\u001b[39m\u001b[38;5;124m\"\u001b[39m\n\u001b[1;32m      3\u001b[0m list_comma_location \u001b[38;5;241m=\u001b[39m [\u001b[38;5;241m1\u001b[39m,\u001b[38;5;241m2\u001b[39m,\u001b[38;5;241m10\u001b[39m] \u001b[38;5;66;03m# just an exemple\u001b[39;00m\n\u001b[0;32m----> 4\u001b[0m \u001b[43mmain_insert_comma_into_file\u001b[49m\u001b[43m(\u001b[49m\u001b[43min_path_file\u001b[49m\u001b[43m,\u001b[49m\u001b[43mout_path_file\u001b[49m\u001b[43m,\u001b[49m\u001b[43m \u001b[49m\u001b[43mlist_comma_location\u001b[49m\u001b[43m)\u001b[49m\n",
      "Input \u001b[0;32mIn [47]\u001b[0m, in \u001b[0;36mmain_insert_comma_into_file\u001b[0;34m(in_path_file, out_path_file, list_comma_location)\u001b[0m\n\u001b[1;32m      1\u001b[0m \u001b[38;5;28;01mdef\u001b[39;00m \u001b[38;5;21mmain_insert_comma_into_file\u001b[39m(in_path_file,out_path_file, list_comma_location):\n\u001b[0;32m----> 3\u001b[0m     str_file \u001b[38;5;241m=\u001b[39m \u001b[43mopen_file\u001b[49m\u001b[43m(\u001b[49m\u001b[43min_path_file\u001b[49m\u001b[43m)\u001b[49m\n\u001b[1;32m      4\u001b[0m     list_row_file \u001b[38;5;241m=\u001b[39m str_file\u001b[38;5;241m.\u001b[39msplit(\u001b[38;5;124m'\u001b[39m\u001b[38;5;130;01m\\n\u001b[39;00m\u001b[38;5;124m'\u001b[39m)\n\u001b[1;32m      6\u001b[0m     \u001b[38;5;28;01mif\u001b[39;00m \u001b[38;5;124m'\u001b[39m\u001b[38;5;124m'\u001b[39m \u001b[38;5;129;01min\u001b[39;00m list_row_file:\n",
      "Input \u001b[0;32mIn [47]\u001b[0m, in \u001b[0;36mopen_file\u001b[0;34m(path_file)\u001b[0m\n\u001b[1;32m     31\u001b[0m \u001b[38;5;28;01mdef\u001b[39;00m \u001b[38;5;21mopen_file\u001b[39m(path_file):\n\u001b[0;32m---> 32\u001b[0m     \u001b[38;5;28;01mwith\u001b[39;00m \u001b[38;5;28;43mopen\u001b[39;49m\u001b[43m(\u001b[49m\u001b[43mpath_file\u001b[49m\u001b[43m,\u001b[49m\u001b[43m \u001b[49m\u001b[38;5;124;43m\"\u001b[39;49m\u001b[38;5;124;43mr\u001b[39;49m\u001b[38;5;124;43m\"\u001b[39;49m\u001b[43m)\u001b[49m \u001b[38;5;28;01mas\u001b[39;00m file:\n\u001b[1;32m     33\u001b[0m         \u001b[38;5;28;01mreturn\u001b[39;00m file\u001b[38;5;241m.\u001b[39mread()\n",
      "\u001b[0;31mFileNotFoundError\u001b[0m: [Errno 2] No such file or directory: ''"
     ]
    }
   ],
   "source": [
    "\n",
    "in_path_file = \"\"\n",
    "out_path_file = \"\"\n",
    "list_comma_location = [1,2,10] # just an exemple\n",
    "main_insert_comma_into_file(in_path_file,out_path_file, list_comma_location)"
   ]
  },
  {
   "cell_type": "code",
   "execution_count": 6,
   "id": "6d9e76c8",
   "metadata": {},
   "outputs": [
    {
     "data": {
      "text/plain": [
       "{'info': 'red', 'critical': 'blue', 'warning': 'green'}"
      ]
     },
     "execution_count": 6,
     "metadata": {},
     "output_type": "execute_result"
    }
   ],
   "source": [
    "list_labels = ['info', 'critical', 'warning']\n",
    "\n",
    "list_color = ['red', 'blue', 'green', 'orange','black ']\n",
    "\n",
    "dict_color =  dict1 = dict( zip(list_labels,list_color) )\n",
    "\n",
    "\n",
    "dict_color"
   ]
  },
  {
   "cell_type": "code",
   "execution_count": null,
   "id": "e1708c52",
   "metadata": {},
   "outputs": [],
   "source": [
    "list_discrete_color =     list_labels"
   ]
  },
  {
   "cell_type": "code",
   "execution_count": null,
   "id": "59f53d73",
   "metadata": {},
   "outputs": [],
   "source": []
  }
 ],
 "metadata": {
  "kernelspec": {
   "display_name": "Python 3 (ipykernel)",
   "language": "python",
   "name": "python3"
  },
  "language_info": {
   "codemirror_mode": {
    "name": "ipython",
    "version": 3
   },
   "file_extension": ".py",
   "mimetype": "text/x-python",
   "name": "python",
   "nbconvert_exporter": "python",
   "pygments_lexer": "ipython3",
   "version": "3.10.4"
  }
 },
 "nbformat": 4,
 "nbformat_minor": 5
}
